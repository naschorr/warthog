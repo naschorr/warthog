{
 "cells": [
  {
   "cell_type": "markdown",
   "id": "e5aaa48f",
   "metadata": {},
   "source": [
    "# Interactive Player Data Explorer\n",
    "\n",
    "This notebook provides interactive visualizations for exploring War Thunder player performance data.\n",
    "\n",
    "Graphs can be explored interactively:\n",
    "- Zoom: Mouse wheel or zoom tools in toolbar\n",
    "- Pan: Click and drag\n",
    "- Filter: Click on legend items to show/hide data\n",
    "- Reset: Double-click to reset zoom\n",
    "- Details: Hover over nodes for extra information"
   ]
  },
  {
   "cell_type": "markdown",
   "id": "e1a3ef0a",
   "metadata": {},
   "source": [
    "## Setup"
   ]
  },
  {
   "cell_type": "code",
   "execution_count": null,
   "id": "72a03a23",
   "metadata": {},
   "outputs": [],
   "source": [
    "# Import standard libraries\n",
    "import json\n",
    "import sys\n",
    "import os\n",
    "import datetime\n",
    "from pathlib import Path\n",
    "from collections import Counter, defaultdict\n",
    "from typing import Optional\n",
    "from enum import Enum\n",
    "\n",
    "# Import third-party libraries\n",
    "import pandas as pd\n",
    "import numpy as np\n",
    "\n",
    "# Import Plotly for interactive visualizations\n",
    "import plotly.express as px\n",
    "import plotly.graph_objects as go\n",
    "import plotly.offline as pyo\n",
    "from plotly.subplots import make_subplots\n",
    "\n",
    "# Enable offline plotting\n",
    "pyo.init_notebook_mode(connected=True)\n",
    "\n",
    "# Add the project root and src directories to Python path\n",
    "notebook_dir = Path.cwd()\n",
    "project_root = notebook_dir.parent.parent  # Go up one level from src to project root\n",
    "src_dir = notebook_dir  # Current directory is src\n",
    "\n",
    "# Add paths to sys.path if they're not already there\n",
    "for path in [str(project_root), str(src_dir)]:\n",
    "    if path not in sys.path:\n",
    "        sys.path.insert(0, path)\n",
    "\n",
    "print(f\"Project root: {project_root}\")\n",
    "print(f\"Source directory: {src_dir}\")\n",
    "print(f\"Current working directory: {Path.cwd()}\")"
   ]
  },
  {
   "cell_type": "markdown",
   "id": "9384891d",
   "metadata": {},
   "source": [
    "Import project libraries and initialize services"
   ]
  },
  {
   "cell_type": "code",
   "execution_count": null,
   "id": "ebc28dc8",
   "metadata": {},
   "outputs": [],
   "source": [
    "# Import project modules\n",
    "from src.common.configuration import get_config\n",
    "from src.common.factories import ServiceFactory\n",
    "from src.replay_data_explorer.services import DataLoaders\n",
    "\n",
    "# # Initialize configuration\n",
    "config = get_config().replay_data_explorer_config\n",
    "\n",
    "# Initialize the data loader\n",
    "service_factory = ServiceFactory()\n",
    "replay_manager_service = service_factory.get_replay_manager_service()\n",
    "data_loaders = DataLoaders(replay_manager_service)\n",
    "\n",
    "# Import graph creation functions\n",
    "from src.replay_data_explorer.graphs import *"
   ]
  },
  {
   "cell_type": "markdown",
   "id": "2cc5e753",
   "metadata": {},
   "source": [
    "### Data Loading\n",
    "\n",
    "Load replay data and process it for analysis."
   ]
  },
  {
   "cell_type": "code",
   "execution_count": null,
   "id": "f42e47b3",
   "metadata": {},
   "outputs": [],
   "source": [
    "player_performance_df = data_loaders.get_player_performance_data(config.player_name, config.country_filters)\n",
    "global_performance_df = data_loaders.get_global_performance_data(config.country_filters)"
   ]
  },
  {
   "cell_type": "markdown",
   "id": "4079032a",
   "metadata": {},
   "source": [
    "## Player Performance Analysis"
   ]
  },
  {
   "cell_type": "code",
   "execution_count": null,
   "id": "ed339f5d",
   "metadata": {},
   "outputs": [],
   "source": [
    "create_scatter_score_vs_br(player_performance_df, player_name=config.player_name, country_filters=config.country_filters).show()\n",
    "create_player_score_heatmap_by_country_and_br(player_performance_df, player_name=config.player_name, country_filters=config.country_filters).show()\n",
    "create_heatmap_br_delta_by_country_and_br(player_performance_df, player_name=config.player_name, country_filters=config.country_filters).show()"
   ]
  },
  {
   "cell_type": "markdown",
   "id": "c77286b3",
   "metadata": {},
   "source": [
    "## Global Performance Analysis"
   ]
  },
  {
   "cell_type": "code",
   "execution_count": null,
   "id": "c83676ef",
   "metadata": {},
   "outputs": [],
   "source": [
    "create_all_player_heatmap_score_by_country_and_br(global_performance_df, country_filters=config.country_filters).show()\n",
    "create_all_player_heatmap_premium_score_delta_by_country_and_br(global_performance_df, country_filters=config.country_filters).show()\n",
    "create_all_player_heatmap_br_delta_by_country_and_br(global_performance_df, country_filters=config.country_filters).show()\n",
    "create_all_player_heatmap_premium_br_delta_by_country_and_br(global_performance_df, country_filters=config.country_filters).show()"
   ]
  },
  {
   "cell_type": "markdown",
   "id": "c231ee06",
   "metadata": {},
   "source": [
    "## Player Score Distribution"
   ]
  },
  {
   "cell_type": "code",
   "execution_count": null,
   "id": "2b791edf",
   "metadata": {},
   "outputs": [],
   "source": [
    "create_bar_score_distribution(player_performance_df, player_name=config.player_name, country_filters=config.country_filters).show()"
   ]
  },
  {
   "cell_type": "markdown",
   "id": "74316413",
   "metadata": {},
   "source": [
    "## Tier Frequency Analysis"
   ]
  },
  {
   "cell_type": "code",
   "execution_count": null,
   "id": "54eb6d45",
   "metadata": {},
   "outputs": [],
   "source": [
    "create_bar_tier_distribution(player_performance_df, player_name=config.player_name, country_filters=config.country_filters).show()\n",
    "create_pie_tier_frequency(player_performance_df, player_name=config.player_name, country_filters=config.country_filters).show()\n",
    "create_bar_tier_frequency_vs_country(player_performance_df, player_name=config.player_name, country_filters=config.country_filters).show()\n",
    "create_bar_tier_frequency_vs_br(player_performance_df, player_name=config.player_name, country_filters=config.country_filters).show()"
   ]
  },
  {
   "cell_type": "markdown",
   "id": "cef81613",
   "metadata": {},
   "source": [
    "## Squad Performance"
   ]
  },
  {
   "cell_type": "code",
   "execution_count": null,
   "id": "e1e96385",
   "metadata": {},
   "outputs": [],
   "source": [
    "create_bar_squad_performance(global_performance_df, player_name=config.player_name, country_filters=config.country_filters).show()\n",
    "create_bar_squad_win_rate(global_performance_df, player_name=config.player_name, country_filters=config.country_filters).show()\n",
    "create_bar_squad_tier_distribution(global_performance_df, player_name=config.player_name, country_filters=config.country_filters).show()\n",
    "create_bar_squad_br_delta(global_performance_df, player_name=config.player_name, country_filters=config.country_filters).show()"
   ]
  }
 ],
 "metadata": {
  "kernelspec": {
   "display_name": "venv",
   "language": "python",
   "name": "python3"
  },
  "language_info": {
   "codemirror_mode": {
    "name": "ipython",
    "version": 3
   },
   "file_extension": ".py",
   "mimetype": "text/x-python",
   "name": "python",
   "nbconvert_exporter": "python",
   "pygments_lexer": "ipython3",
   "version": "3.12.3"
  }
 },
 "nbformat": 4,
 "nbformat_minor": 5
}
