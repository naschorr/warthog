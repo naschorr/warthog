{
 "cells": [
  {
   "cell_type": "markdown",
   "id": "e5aaa48f",
   "metadata": {},
   "source": [
    "# Interactive Player Data Explorer\n",
    "\n",
    "This notebook provides interactive visualizations for exploring War Thunder player performance data.\n",
    "\n",
    "Graphs can be explored interactively:\n",
    "- Zoom: Mouse wheel or zoom tools in toolbar\n",
    "- Pan: Click and drag\n",
    "- Filter: Click on legend items to show/hide data\n",
    "- Reset: Double-click to reset zoom\n",
    "- Details: Hover over nodes for extra information"
   ]
  },
  {
   "cell_type": "markdown",
   "id": "e1a3ef0a",
   "metadata": {},
   "source": [
    "## Setup\n",
    "\n",
    "Import libraries and dependencies, then get the pathing set up to play nice with the notebook."
   ]
  },
  {
   "cell_type": "code",
   "execution_count": 21,
   "id": "72a03a23",
   "metadata": {},
   "outputs": [
    {
     "data": {
      "text/html": [
       "        <script type=\"text/javascript\">\n",
       "        window.PlotlyConfig = {MathJaxConfig: 'local'};\n",
       "        if (window.MathJax && window.MathJax.Hub && window.MathJax.Hub.Config) {window.MathJax.Hub.Config({SVG: {font: \"STIX-Web\"}});}\n",
       "        </script>\n",
       "        <script type=\"module\">import \"https://cdn.plot.ly/plotly-3.1.0.min\"</script>\n",
       "        "
      ]
     },
     "metadata": {},
     "output_type": "display_data"
    },
    {
     "name": "stdout",
     "output_type": "stream",
     "text": [
      "Project root: h:\\Apps\\warthog\n",
      "Source directory: h:\\Apps\\warthog\\src\\replay_data_explorer\n",
      "Current working directory: h:\\Apps\\warthog\\src\\replay_data_explorer\n"
     ]
    }
   ],
   "source": [
    "# Import standard libraries\n",
    "import json\n",
    "import sys\n",
    "import os\n",
    "import datetime\n",
    "from pathlib import Path\n",
    "from collections import Counter, defaultdict\n",
    "from typing import Optional\n",
    "\n",
    "# Import third-party libraries\n",
    "import pandas as pd\n",
    "import numpy as np\n",
    "\n",
    "# Import Plotly for interactive visualizations\n",
    "import plotly.express as px\n",
    "import plotly.graph_objects as go\n",
    "import plotly.offline as pyo\n",
    "from plotly.subplots import make_subplots\n",
    "\n",
    "# Enable offline plotting\n",
    "pyo.init_notebook_mode(connected=True)\n",
    "\n",
    "# Add the project root and src directories to Python path\n",
    "notebook_dir = Path.cwd()\n",
    "project_root = notebook_dir.parent.parent  # Go up one level from src to project root\n",
    "src_dir = notebook_dir  # Current directory is src\n",
    "\n",
    "# Add paths to sys.path if they're not already there\n",
    "for path in [str(project_root), str(src_dir)]:\n",
    "    if path not in sys.path:\n",
    "        sys.path.insert(0, path)\n",
    "\n",
    "print(f\"Project root: {project_root}\")\n",
    "print(f\"Source directory: {src_dir}\")\n",
    "print(f\"Current working directory: {Path.cwd()}\")"
   ]
  },
  {
   "cell_type": "markdown",
   "id": "9384891d",
   "metadata": {},
   "source": [
    "Import project libraries and initialize services"
   ]
  },
  {
   "cell_type": "code",
   "execution_count": 22,
   "id": "ebc28dc8",
   "metadata": {},
   "outputs": [
    {
     "name": "stderr",
     "output_type": "stream",
     "text": [
      "Game version 2.47.0.137 from file H:\\Apps\\warthog\\data\\vehicle_data\\processed_vehicle_data\\processed_vehicle_data.2.47.0.137.json not found in release datetime mapping; skipping\n",
      "Game version 2.47.0.138 from file H:\\Apps\\warthog\\data\\vehicle_data\\processed_vehicle_data\\processed_vehicle_data.2.47.0.138.json not found in release datetime mapping; skipping\n",
      "Game version 2.47.0.139 from file H:\\Apps\\warthog\\data\\vehicle_data\\processed_vehicle_data\\processed_vehicle_data.2.47.0.139.json not found in release datetime mapping; skipping\n",
      "Game version 2.47.0.138 from file H:\\Apps\\warthog\\data\\vehicle_data\\processed_vehicle_data\\processed_vehicle_data.2.47.0.138.json not found in release datetime mapping; skipping\n",
      "Game version 2.47.0.139 from file H:\\Apps\\warthog\\data\\vehicle_data\\processed_vehicle_data\\processed_vehicle_data.2.47.0.139.json not found in release datetime mapping; skipping\n",
      "Game version 2.47.0.140 from file H:\\Apps\\warthog\\data\\vehicle_data\\processed_vehicle_data\\processed_vehicle_data.2.47.0.140.json not found in release datetime mapping; skipping\n",
      "Game version 2.47.0.141 from file H:\\Apps\\warthog\\data\\vehicle_data\\processed_vehicle_data\\processed_vehicle_data.2.47.0.141.json not found in release datetime mapping; skipping\n",
      "Game version 2.47.0.140 from file H:\\Apps\\warthog\\data\\vehicle_data\\processed_vehicle_data\\processed_vehicle_data.2.47.0.140.json not found in release datetime mapping; skipping\n",
      "Game version 2.47.0.141 from file H:\\Apps\\warthog\\data\\vehicle_data\\processed_vehicle_data\\processed_vehicle_data.2.47.0.141.json not found in release datetime mapping; skipping\n",
      "Game version 2.47.0.142 from file H:\\Apps\\warthog\\data\\vehicle_data\\processed_vehicle_data\\processed_vehicle_data.2.47.0.142.json not found in release datetime mapping; skipping\n",
      "Game version 2.47.0.143 from file H:\\Apps\\warthog\\data\\vehicle_data\\processed_vehicle_data\\processed_vehicle_data.2.47.0.143.json not found in release datetime mapping; skipping\n",
      "Game version 2.47.0.142 from file H:\\Apps\\warthog\\data\\vehicle_data\\processed_vehicle_data\\processed_vehicle_data.2.47.0.142.json not found in release datetime mapping; skipping\n",
      "Game version 2.47.0.143 from file H:\\Apps\\warthog\\data\\vehicle_data\\processed_vehicle_data\\processed_vehicle_data.2.47.0.143.json not found in release datetime mapping; skipping\n",
      "Game version 2.47.0.43 from file H:\\Apps\\warthog\\data\\vehicle_data\\processed_vehicle_data\\processed_vehicle_data.2.47.0.43.json not found in release datetime mapping; skipping\n",
      "Game version 2.47.0.43 from file H:\\Apps\\warthog\\data\\vehicle_data\\processed_vehicle_data\\processed_vehicle_data.2.47.0.43.json not found in release datetime mapping; skipping\n",
      "Game version 2.47.0.47 from file H:\\Apps\\warthog\\data\\vehicle_data\\processed_vehicle_data\\processed_vehicle_data.2.47.0.47.json not found in release datetime mapping; skipping\n",
      "Game version 2.47.0.47 from file H:\\Apps\\warthog\\data\\vehicle_data\\processed_vehicle_data\\processed_vehicle_data.2.47.0.47.json not found in release datetime mapping; skipping\n",
      "Game version 2.47.0.48 from file H:\\Apps\\warthog\\data\\vehicle_data\\processed_vehicle_data\\processed_vehicle_data.2.47.0.48.json not found in release datetime mapping; skipping\n",
      "Game version 2.47.0.48 from file H:\\Apps\\warthog\\data\\vehicle_data\\processed_vehicle_data\\processed_vehicle_data.2.47.0.48.json not found in release datetime mapping; skipping\n",
      "Game version 2.47.0.51 from file H:\\Apps\\warthog\\data\\vehicle_data\\processed_vehicle_data\\processed_vehicle_data.2.47.0.51.json not found in release datetime mapping; skipping\n",
      "Game version 2.47.0.51 from file H:\\Apps\\warthog\\data\\vehicle_data\\processed_vehicle_data\\processed_vehicle_data.2.47.0.51.json not found in release datetime mapping; skipping\n"
     ]
    }
   ],
   "source": [
    "# Import project modules\n",
    "from src.common.configuration import get_config\n",
    "from src.common.utilities import get_root_directory\n",
    "from src.common.enums import BattleType, Country, VehicleType\n",
    "from src.common.models.vehicle_models import Vehicle\n",
    "from src.common.factories import ServiceFactory\n",
    "from src.replay_data_explorer.enums import BattleRatingTier\n",
    "from src.replay_data_explorer.services import BattleRatingTierClassifier, DataFilterer, DataLoaders, TitleBuilder\n",
    "from src.replay_data_explorer.common import hex_to_rgba\n",
    "from src.replay_data_explorer.configuration.graph_configuration import *\n",
    "\n",
    "# Initialize configuration\n",
    "config = get_config().replay_data_explorer_config\n",
    "\n",
    "# Initialize replay_data_grabber services\n",
    "service_factory = ServiceFactory()\n",
    "vehicle_service = service_factory.get_vehicle_service()\n",
    "replay_manager_service = service_factory.get_replay_manager_service()\n",
    "\n",
    "# Initialize replay_data_explorer services and utility functions\n",
    "battle_rating_tier_classifier = BattleRatingTierClassifier()\n",
    "data_filterer = DataFilterer()\n",
    "data_loaders = DataLoaders(replay_manager_service)\n",
    "title_builder = TitleBuilder()"
   ]
  },
  {
   "cell_type": "markdown",
   "id": "2cc5e753",
   "metadata": {},
   "source": [
    "## Data Loading\n",
    "\n",
    "Load replay data and process it for analysis."
   ]
  },
  {
   "cell_type": "code",
   "execution_count": 23,
   "id": "f42e47b3",
   "metadata": {},
   "outputs": [
    {
     "name": "stdout",
     "output_type": "stream",
     "text": [
      "Performance data info: (459, 7)\n",
      "Battle Rating range: 1.0 - 6.7\n",
      "Score range: 10 - 5380\n",
      "Date range: 2025-07-10 23:35:40 to 2025-09-13 18:26:01\n"
     ]
    }
   ],
   "source": [
    "tier_df = data_loaders.get_tier_data(\n",
    "    country_filters=config.country_filters,\n",
    "    player_name=config.player_name\n",
    ")\n",
    "\n",
    "performance_df = data_loaders.get_performance_data(\n",
    "    country_filters=config.country_filters,\n",
    "    player_name=config.player_name\n",
    ")\n",
    "\n",
    "print(f\"Performance data info: {performance_df.shape}\")\n",
    "if not performance_df.empty:\n",
    "    print(f\"Battle Rating range: {performance_df['battle_rating'].min():.1f} - {performance_df['battle_rating'].max():.1f}\")\n",
    "    print(f\"Score range: {performance_df['score'].min()} - {performance_df['score'].max()}\")\n",
    "    print(f\"Date range: {performance_df['timestamp'].min()} to {performance_df['timestamp'].max()}\")\n",
    "else:\n",
    "    print(\"❌ No performance data found with current filters\")"
   ]
  },
  {
   "cell_type": "markdown",
   "id": "231329dd",
   "metadata": {},
   "source": [
    "## Score vs Battle Rating with Tier\n"
   ]
  },
  {
   "cell_type": "markdown",
   "id": "66d8a3c7",
   "metadata": {},
   "source": [
    "### Code"
   ]
  },
  {
   "cell_type": "code",
   "execution_count": 55,
   "id": "d14db24c",
   "metadata": {},
   "outputs": [],
   "source": [
    "def create_score_vs_br_plot(performance_df: pd.DataFrame, tier_df: pd.DataFrame, *, player_name=None, country_filters=[], std_dev=None):\n",
    "    \"\"\"\n",
    "    Create an interactive Plotly scatter plot of Score vs Battle Rating.\n",
    "\n",
    "    Args:\n",
    "        performance_df: DataFrame with performance data\n",
    "        tier_df: DataFrame with tier status data\n",
    "        player_name: Optional player name for title\n",
    "        std_dev: Optional standard deviation for outlier removal\n",
    "\n",
    "    Returns:\n",
    "        Plotly figure object\n",
    "    \"\"\"\n",
    "    if performance_df.empty:\n",
    "        print(\"No performance data available for plotting\")\n",
    "        return None\n",
    "\n",
    "    # Merge performance data with tier data\n",
    "    if not tier_df.empty:\n",
    "        merged_df = pd.merge(\n",
    "            performance_df,\n",
    "            tier_df[['replay_file', 'tier_status', 'br_delta']],\n",
    "            on='replay_file',\n",
    "            how='left'\n",
    "        )\n",
    "        merged_df['tier_status'] = merged_df['tier_status'].fillna('Unknown')\n",
    "        merged_df['br_delta'] = merged_df['br_delta'].fillna(0.0)\n",
    "    else:\n",
    "        merged_df = performance_df.copy()\n",
    "        merged_df['tier_status'] = 'Unknown'\n",
    "        merged_df['br_delta'] = 0.0\n",
    "\n",
    "    # Remove outliers if specified\n",
    "    if std_dev is not None:\n",
    "        merged_df = data_filterer.filter_outliers(merged_df, 'score', std_dev)\n",
    "        print(f\"Data shape after outlier removal: {merged_df.shape}\")\n",
    "\n",
    "    # Create the interactive scatter plot\n",
    "    fig = go.Figure()\n",
    "\n",
    "    # Add scatter traces for each tier status\n",
    "    for tier_status in PLOTLY_BATTLE_RATING_TIER_STATUS_ORDER:\n",
    "        tier_data = merged_df[merged_df['tier_status'] == tier_status]\n",
    "        if not tier_data.empty:\n",
    "            tier_status_name = BATTLE_RATING_TIER_NAMES[tier_status]\n",
    "            fig.add_trace(\n",
    "                go.Scatter(\n",
    "                    x=tier_data['battle_rating'],\n",
    "                    y=tier_data['score'],\n",
    "                    mode='markers',\n",
    "                    name=tier_status_name,\n",
    "                    marker=dict(\n",
    "                        color=PLOTLY_BATTLE_RATING_TIER_STATUS_COLORS[tier_status],\n",
    "                        size=8,\n",
    "                        line=dict(width=1, color='white'),\n",
    "                        opacity=0.7\n",
    "                    ),\n",
    "                    customdata=tier_data[['player_name', 'country', 'br_delta', 'timestamp', 'replay_file']],\n",
    "                    hovertemplate=(\n",
    "                        '<b>%{customdata[0]}</b><br>' +\n",
    "                        'Battle Rating: %{x}<br>' +\n",
    "                        'Score: %{y}<br>' +\n",
    "                        'Country: %{customdata[1]}<br>' +\n",
    "                        'Tier Status: ' + tier_status_name + '<br>' +\n",
    "                        'BR Delta: %{customdata[2]:.2f}<br>' +\n",
    "                        'Date: %{customdata[3]|%Y-%m-%d %H:%M}<br><extra></extra>'\n",
    "                    )\n",
    "                )\n",
    "            )\n",
    "\n",
    "    # Add overall trend line\n",
    "    if len(merged_df) > 1:\n",
    "        # Calculate overall trend line\n",
    "        z = np.polyfit(merged_df['battle_rating'], merged_df['score'], 1)\n",
    "        trend_line = np.poly1d(z)\n",
    "\n",
    "        # Create trend line points\n",
    "        br_range = np.linspace(merged_df['battle_rating'].min(), merged_df['battle_rating'].max(), 100)\n",
    "        trend_y = trend_line(br_range)\n",
    "\n",
    "        fig.add_trace(\n",
    "            go.Scatter(\n",
    "                x=br_range,\n",
    "                y=trend_y,\n",
    "                mode='lines',\n",
    "                name=f'Overall Trend (slope: {z[0]:.1f})',\n",
    "                line=dict(color=hex_to_rgba(\"#000000\", PLOTLY_TRENDLINE_OPACITY), width=2, dash='dash'),\n",
    "                hovertemplate='Overall Trend<br>BR: %{x}<br>Predicted Score: %{y:.0f}<extra></extra>',\n",
    "                showlegend=True\n",
    "            )\n",
    "        )\n",
    "\n",
    "    # Add per-tier trend lines\n",
    "    for tier_status in PLOTLY_BATTLE_RATING_TIER_STATUS_ORDER:\n",
    "        tier_data = merged_df[merged_df['tier_status'] == tier_status]\n",
    "        tier_status_name = BATTLE_RATING_TIER_NAMES[tier_status]\n",
    "        if len(tier_data) > 1:  # Need at least 2 points for a trend line\n",
    "            try:\n",
    "                # Calculate trend line for this tier\n",
    "                z_tier = np.polyfit(tier_data['battle_rating'], tier_data['score'], 1)\n",
    "                trend_line_tier = np.poly1d(z_tier)\n",
    "\n",
    "                # Create trend line points for this tier's BR range\n",
    "                tier_br_range = np.linspace(tier_data['battle_rating'].min(), tier_data['battle_rating'].max(), 50)\n",
    "                tier_trend_y = trend_line_tier(tier_br_range)\n",
    "\n",
    "                # Use the same color as the tier but make it a solid line\n",
    "                tier_color = PLOTLY_BATTLE_RATING_TIER_STATUS_COLORS[tier_status]\n",
    "\n",
    "                fig.add_trace(\n",
    "                    go.Scatter(\n",
    "                        x=tier_br_range,\n",
    "                        y=tier_trend_y,\n",
    "                        mode='lines',\n",
    "                        name=f'{tier_status_name} Trend ({z_tier[0]:.1f})',\n",
    "                        line=dict(color=hex_to_rgba(tier_color, PLOTLY_TRENDLINE_OPACITY), width=1.5, dash='dot'),\n",
    "                        hovertemplate=f'{tier_status_name} Trend<br>BR: %{{x}}<br>Predicted Score: %{{y:.0f}}<extra></extra>',\n",
    "                        showlegend=True,\n",
    "                        legendgroup=tier_status_name,  # Group with the scatter points\n",
    "                        visible='legendonly'\n",
    "                    )\n",
    "                )\n",
    "            except Exception as e:\n",
    "                print(f\"Could not calculate trend line for {tier_status_name}: {e}\")\n",
    "                continue\n",
    "\n",
    "    # Build the graph's title\n",
    "    title_filters = {}\n",
    "    if player_name:\n",
    "        title_filters[\"Player\"] = player_name\n",
    "    title_filters[\"Replays\"] = len(merged_df)\n",
    "    if country_filters:\n",
    "        title_filters[f\"Countr{'y' if len(country_filters) else 'ies'}\"] = ', '.join([country.value for country in country_filters])\n",
    "    if std_dev is not None:\n",
    "        title_filters[\"σ\"] = str(std_dev)\n",
    "    title = title_builder.build_title(\"Score vs Battle Rating with Tier\", filters=title_filters)\n",
    "\n",
    "    # Update the graph's layout\n",
    "    fig.update_layout(\n",
    "        title={\n",
    "            'text': title,\n",
    "            'x': 0.5,\n",
    "            'xanchor': 'center',\n",
    "            'font': {'size': 16}\n",
    "        },\n",
    "        xaxis=dict(\n",
    "            title='Battle Rating',\n",
    "            gridcolor='lightgray',\n",
    "            gridwidth=1,\n",
    "            zeroline=False\n",
    "        ),\n",
    "        yaxis=dict(\n",
    "            title='Score',\n",
    "            gridcolor='lightgray',\n",
    "            gridwidth=1,\n",
    "            zeroline=False\n",
    "        ),\n",
    "        plot_bgcolor='white',\n",
    "        width=1000,\n",
    "        height=600,\n",
    "        legend=dict(\n",
    "            orientation=\"v\",\n",
    "            yanchor=\"top\",\n",
    "            y=1,\n",
    "            xanchor=\"left\",\n",
    "            x=1.02\n",
    "        ),\n",
    "        margin=dict(r=150),  # Add right margin for legend\n",
    "        hovermode='closest'\n",
    "    )\n",
    "\n",
    "    return fig"
   ]
  },
  {
   "cell_type": "markdown",
   "id": "60fe966b",
   "metadata": {},
   "source": [
    "### Output"
   ]
  },
  {
   "cell_type": "code",
   "execution_count": 56,
   "id": "68c386bf",
   "metadata": {},
   "outputs": [
    {
     "data": {
      "application/vnd.plotly.v1+json": {
       "config": {
        "plotlyServerURL": "https://plot.ly"
       },
       "data": [
        {
         "customdata": [
          [
           "Ranol",
           "Sweden",
           -1,
           "2025-08-11T18:01:08",
           "52ef4e10023b0e5"
          ],
          [
           "Ranol",
           "Sweden",
           -1,
           "2025-09-13T17:50:43",
           "55a73ed00340956"
          ],
          [
           "Ranol",
           "Sweden",
           -1,
           "2025-09-13T18:07:19",
           "55a77d3003416c2"
          ],
          [
           "Ranol",
           "Sweden",
           -1,
           "2025-09-13T17:34:51",
           "55a70380033fd2e"
          ],
          [
           "Ranol",
           "USA",
           -1,
           "2025-09-13T17:16:02",
           "55a6bd00033ee7f"
          ],
          [
           "Ranol",
           "Russia",
           -1,
           "2025-09-13T13:20:58",
           "55a34b70032fc48"
          ],
          [
           "Ranol",
           "USA",
           -1,
           "2025-09-10T19:19:22",
           "556943600225790"
          ],
          [
           "Ranol",
           "USA",
           -1,
           "2025-09-10T19:34:37",
           "55697ca002260e2"
          ],
          [
           "Ranol",
           "Russia",
           -1,
           "2025-09-10T17:57:07",
           "55680f100222403"
          ],
          [
           "Ranol",
           "France",
           -1,
           "2025-09-09T20:03:10",
           "5554cfb001d5d22"
          ],
          [
           "Ranol",
           "France",
           -1,
           "2025-09-09T19:46:24",
           "555490d001d533b"
          ],
          [
           "Ranol",
           "France",
           -1,
           "2025-09-08T21:29:08",
           "5540f660018724a"
          ],
          [
           "Ranol",
           "France",
           -1,
           "2025-09-06T18:31:54",
           "5514314000bcd0b"
          ],
          [
           "Ranol",
           "France",
           -1,
           "2025-09-06T18:21:35",
           "55140ad000bc437"
          ],
          [
           "Ranol",
           "France",
           -1,
           "2025-09-06T18:02:36",
           "5513c38000bb447"
          ],
          [
           "Ranol",
           "Russia",
           -1,
           "2025-09-04T18:44:11",
           "54ea2f7000b3779"
          ],
          [
           "Ranol",
           "Russia",
           -1,
           "2025-09-04T17:46:19",
           "54e9569000b1238"
          ],
          [
           "Ranol",
           "Russia",
           -1,
           "2025-09-04T12:15:11",
           "54e47bc000a02be"
          ],
          [
           "Ranol",
           "Sweden",
           -1,
           "2025-09-03T20:11:50",
           "54d65fd00066822"
          ],
          [
           "Ranol",
           "France",
           -1,
           "2025-09-02T20:37:53",
           "54c1a9b0001a8f7"
          ],
          [
           "Ranol",
           "France",
           -1,
           "2025-09-02T20:09:51",
           "54c140c0001975c"
          ],
          [
           "Ranol",
           "Russia",
           -1,
           "2025-09-01T17:05:36",
           "54a9728002de7d5"
          ],
          [
           "Ranol",
           "France",
           -1,
           "2025-09-02T19:50:24",
           "54c0f7f00018ab9"
          ],
          [
           "Ranol",
           "Russia",
           -1,
           "2025-08-31T21:47:15",
           "54987e10028df8d"
          ],
          [
           "Ranol",
           "Russia",
           -1,
           "2025-08-30T18:18:23",
           "548056c002190cc"
          ],
          [
           "Ranol",
           "Russia",
           -1,
           "2025-08-30T17:31:59",
           "547fa8c00216c64"
          ],
          [
           "Ranol",
           "Russia",
           -1,
           "2025-08-30T17:21:08",
           "547f7fe002163fc"
          ],
          [
           "Ranol",
           "Russia",
           -1,
           "2025-08-30T16:23:32",
           "547ea81002136c0"
          ],
          [
           "Ranol",
           "Russia",
           -1,
           "2025-08-30T16:05:55",
           "547e65f002127ff"
          ],
          [
           "Ranol",
           "Russia",
           -1,
           "2025-08-29T19:45:23",
           "546c838001b20bf"
          ],
          [
           "Ranol",
           "Russia",
           -1,
           "2025-08-29T18:50:17",
           "546bb65001af21a"
          ],
          [
           "Ranol",
           "Sweden",
           -1,
           "2025-08-27T19:20:10",
           "5441f5e000f187d"
          ],
          [
           "Ranol",
           "Sweden",
           -1,
           "2025-08-27T19:32:28",
           "5442246000f21e0"
          ],
          [
           "Ranol",
           "Sweden",
           -1.0000000000000002,
           "2025-08-25T23:12:43",
           "541b2e800039050"
          ],
          [
           "Ranol",
           "France",
           -1,
           "2025-08-25T22:35:41",
           "541aa0b00037302"
          ],
          [
           "Ranol",
           "Sweden",
           -1,
           "2025-08-24T20:54:14",
           "54040e7003c3c08"
          ],
          [
           "Ranol",
           "Russia",
           -1,
           "2025-08-23T20:40:10",
           "53eec240034d241"
          ],
          [
           "Ranol",
           "Russia",
           -1,
           "2025-08-23T20:09:17",
           "53ee4d20034b3fb"
          ],
          [
           "Ranol",
           "Russia",
           -1,
           "2025-08-23T20:28:44",
           "53ee9750034c77a"
          ],
          [
           "Ranol",
           "Russia",
           -1,
           "2025-08-23T19:51:51",
           "53ee0d30034a345"
          ],
          [
           "Ranol",
           "Russia",
           -1,
           "2025-08-23T19:37:26",
           "53edd720034950d"
          ],
          [
           "Ranol",
           "Russia",
           -1,
           "2025-08-23T18:53:15",
           "53ed31800346a8c"
          ],
          [
           "Ranol",
           "Russia",
           -1,
           "2025-08-23T19:08:07",
           "53ed692003478dd"
          ],
          [
           "Ranol",
           "Russia",
           -1,
           "2025-08-22T17:45:27",
           "53d71b4002cdda0"
          ],
          [
           "Ranol",
           "Sweden",
           -1,
           "2025-08-21T17:58:54",
           "53c235c002666ee"
          ],
          [
           "Ranol",
           "Sweden",
           -1,
           "2025-08-18T20:28:45",
           "53851f90013973a"
          ],
          [
           "Ranol",
           "Sweden",
           -1,
           "2025-08-18T20:01:48",
           "5384ba900138193"
          ],
          [
           "Ranol",
           "Sweden",
           -1,
           "2025-08-18T19:44:51",
           "53847ad0013739e"
          ],
          [
           "Ranol",
           "Sweden",
           -1,
           "2025-08-18T19:21:56",
           "538424e00136001"
          ],
          [
           "Ranol",
           "Sweden",
           -1,
           "2025-08-18T18:33:11",
           "53836df001336fb"
          ],
          [
           "Ranol",
           "Sweden",
           -1,
           "2025-08-18T18:47:08",
           "5383a2800134298"
          ],
          [
           "Ranol",
           "Sweden",
           -1,
           "2025-08-18T18:00:52",
           "5382f3000131b1c"
          ],
          [
           "Ranol",
           "Sweden",
           -1,
           "2025-08-18T18:15:33",
           "53832b0001327bc"
          ],
          [
           "Ranol",
           "Sweden",
           -1,
           "2025-08-18T17:28:34",
           "53827bf00130100"
          ],
          [
           "Ranol",
           "Sweden",
           -1,
           "2025-08-18T17:45:11",
           "5382ba000130e62"
          ],
          [
           "Ranol",
           "France",
           -1,
           "2025-08-17T15:05:17",
           "536b4aa000bf419"
          ],
          [
           "Ranol",
           "France",
           -1,
           "2025-08-17T14:47:32",
           "536b080000be0f7"
          ],
          [
           "Ranol",
           "France",
           -1,
           "2025-08-17T14:23:06",
           "536aac8000bc4a4"
          ],
          [
           "Ranol",
           "France",
           -1,
           "2025-08-17T14:34:44",
           "536ad81000bd271"
          ],
          [
           "Ranol",
           "Russia",
           -1,
           "2025-08-14T19:09:59",
           "532f98400376e81"
          ],
          [
           "Ranol",
           "Russia",
           -1,
           "2025-08-14T18:59:10",
           "532f6f800376546"
          ],
          [
           "Ranol",
           "Russia",
           -1,
           "2025-08-13T18:58:37",
           "531a55a0030e3ef"
          ],
          [
           "Ranol",
           "Russia",
           -1,
           "2025-08-13T20:37:48",
           "531bc7e00313df6"
          ],
          [
           "Ranol",
           "Russia",
           -1,
           "2025-08-13T18:31:24",
           "5319ef80030cb04"
          ],
          [
           "Ranol",
           "Russia",
           -1,
           "2025-08-13T18:17:29",
           "5319bb70030be6c"
          ],
          [
           "Ranol",
           "France",
           -1,
           "2025-08-13T17:21:08",
           "5318e7e00308cce"
          ],
          [
           "Ranol",
           "France",
           -1,
           "2025-08-13T17:29:18",
           "53190100030926c"
          ],
          [
           "Ranol",
           "France",
           -1,
           "2025-08-12T23:58:40",
           "5309a1a002ad73e"
          ],
          [
           "Ranol",
           "France",
           -1,
           "2025-08-13T17:09:43",
           "5318bd200308334"
          ],
          [
           "Ranol",
           "France",
           -1,
           "2025-08-12T23:46:24",
           "530974c002acd80"
          ],
          [
           "Ranol",
           "Russia",
           -1,
           "2025-08-12T18:30:18",
           "5304d380029de5e"
          ],
          [
           "Ranol",
           "Russia",
           -1,
           "2025-08-12T17:59:14",
           "53045ee0029c675"
          ],
          [
           "Ranol",
           "Russia",
           -1,
           "2025-08-12T17:09:55",
           "5303a600029a1b2"
          ],
          [
           "Ranol",
           "Russia",
           -1,
           "2025-08-12T17:23:53",
           "5303da20029abe3"
          ],
          [
           "Ranol",
           "France",
           -1,
           "2025-08-12T13:33:56",
           "53007860028de9d"
          ],
          [
           "Ranol",
           "France",
           -1,
           "2025-08-12T12:52:40",
           "52ffe160028ad08"
          ],
          [
           "Ranol",
           "Sweden",
           -1,
           "2025-08-11T23:54:47",
           "52f47c50024bff1"
          ],
          [
           "Ranol",
           "Sweden",
           -1.0000000000000002,
           "2025-08-12T00:17:02",
           "52f4cfb0024d303"
          ],
          [
           "Ranol",
           "Russia",
           -1,
           "2025-08-11T18:25:14",
           "52efa790023c326"
          ],
          [
           "Ranol",
           "Sweden",
           -1,
           "2025-08-11T17:45:22",
           "52ef12e0023a507"
          ],
          [
           "Ranol",
           "Russia",
           -1,
           "2025-08-10T20:53:18",
           "52dcbb7001e061b"
          ],
          [
           "Ranol",
           "Sweden",
           -1,
           "2025-08-10T18:08:00",
           "52da4fc001d876f"
          ],
          [
           "Ranol",
           "Sweden",
           -1,
           "2025-08-09T15:35:07",
           "52c2fa5001651fd"
          ],
          [
           "Ranol",
           "Sweden",
           -1,
           "2025-08-09T14:41:07",
           "52c22fd00161dd4"
          ],
          [
           "Ranol",
           "Sweden",
           -1,
           "2025-08-07T23:25:12",
           "529fad4000b13d8"
          ],
          [
           "Ranol",
           "France",
           -1,
           "2025-08-09T13:27:31",
           "52c11be0015c823"
          ],
          [
           "Ranol",
           "Sweden",
           -1,
           "2025-08-07T23:09:07",
           "529f70b000b06dc"
          ],
          [
           "Ranol",
           "Sweden",
           -1.0000000000000002,
           "2025-08-06T19:42:48",
           "528753400046049"
          ],
          [
           "Ranol",
           "Sweden",
           -1,
           "2025-08-04T08:07:03",
           "5252f24003585e3"
          ],
          [
           "Ranol",
           "Sweden",
           -1,
           "2025-08-04T08:36:37",
           "52536110035b1fa"
          ],
          [
           "Ranol",
           "Sweden",
           -1,
           "2025-08-03T12:48:53",
           "5241fb00030f356"
          ],
          [
           "Ranol",
           "Sweden",
           -1,
           "2025-08-03T12:04:30",
           "524154b0030b1e3"
          ],
          [
           "Ranol",
           "Sweden",
           -1,
           "2025-08-03T11:42:03",
           "524100700308ff6"
          ],
          [
           "Ranol",
           "Sweden",
           -1,
           "2025-08-02T20:29:26",
           "5233a23002bdf82"
          ],
          [
           "Ranol",
           "Russia",
           -1,
           "2025-08-02T18:05:04",
           "5231848002b65d4"
          ],
          [
           "Ranol",
           "Sweden",
           -1,
           "2025-08-02T13:03:45",
           "522d1ad002a41ac"
          ],
          [
           "Ranol",
           "Sweden",
           -1,
           "2025-08-02T13:57:14",
           "522de34002a86bd"
          ],
          [
           "Ranol",
           "Russia",
           -1,
           "2025-08-01T20:20:00",
           "521e66d00256b67"
          ],
          [
           "Ranol",
           "Sweden",
           -1,
           "2025-08-01T19:09:34",
           "521d5eb00253048"
          ],
          [
           "Ranol",
           "Sweden",
           -1,
           "2025-08-01T18:39:30",
           "521cecc002517dd"
          ],
          [
           "Ranol",
           "Sweden",
           -1,
           "2025-08-01T18:53:44",
           "521d23300252358"
          ],
          [
           "Ranol",
           "Sweden",
           -1,
           "2025-08-01T18:13:27",
           "521c8c5002503bc"
          ],
          [
           "Ranol",
           "Sweden",
           -1,
           "2025-07-31T21:58:53",
           "520abff001f9f56"
          ],
          [
           "Ranol",
           "Sweden",
           -1,
           "2025-07-31T21:48:11",
           "520a986001f97ac"
          ],
          [
           "Ranol",
           "Russia",
           -1,
           "2025-07-30T19:16:02",
           "51f346f00194975"
          ],
          [
           "Ranol",
           "Russia",
           -1,
           "2025-07-30T18:49:51",
           "51f2e4b00193564"
          ],
          [
           "Ranol",
           "Russia",
           -1,
           "2025-07-30T18:30:28",
           "51f29bc00192676"
          ],
          [
           "Ranol",
           "Russia",
           -1,
           "2025-07-30T17:45:26",
           "51f1f3000190561"
          ],
          [
           "Ranol",
           "Russia",
           -1,
           "2025-07-29T19:28:30",
           "51de5d90013516f"
          ],
          [
           "Ranol",
           "Russia",
           -1,
           "2025-07-29T18:31:12",
           "51dd86b0013255f"
          ],
          [
           "Ranol",
           "Russia",
           -1,
           "2025-07-29T17:43:19",
           "51dcd3500130255"
          ],
          [
           "Ranol",
           "Russia",
           -1,
           "2025-07-29T18:06:47",
           "51dd2b300131341"
          ],
          [
           "Ranol",
           "Russia",
           -1,
           "2025-07-29T17:22:11",
           "51dc83f0012f346"
          ],
          [
           "Ranol",
           "Russia",
           -1,
           "2025-07-27T16:31:20",
           "51b195200069259"
          ],
          [
           "Ranol",
           "Russia",
           -1,
           "2025-07-27T16:54:21",
           "51b1eb70006a3f9"
          ],
          [
           "Ranol",
           "Russia",
           -1,
           "2025-07-27T15:38:24",
           "51b0ced000666b1"
          ],
          [
           "Ranol",
           "Russia",
           -1,
           "2025-07-27T15:26:43",
           "51b0a2b00065c43"
          ],
          [
           "Ranol",
           "Russia",
           -1,
           "2025-07-27T15:00:17",
           "51b03fe00064352"
          ],
          [
           "Ranol",
           "Russia",
           -1,
           "2025-07-27T14:42:07",
           "51affba000630a4"
          ],
          [
           "Ranol",
           "Russia",
           -1,
           "2025-07-27T13:33:28",
           "51aefa50005df3a"
          ],
          [
           "Ranol",
           "Russia",
           -1,
           "2025-07-27T13:10:01",
           "51aea260005bee0"
          ],
          [
           "Ranol",
           "Sweden",
           -1,
           "2025-07-27T12:37:40",
           "51ae29000058f28"
          ],
          [
           "Ranol",
           "Sweden",
           -1,
           "2025-07-27T00:12:39",
           "51a33e700013f37"
          ],
          [
           "Ranol",
           "Sweden",
           -1.2999999999999998,
           "2025-07-27T12:18:53",
           "51ade29000572aa"
          ],
          [
           "Ranol",
           "Sweden",
           -1,
           "2025-07-26T11:19:29",
           "5197eaf003e44b6"
          ],
          [
           "Ranol",
           "Russia",
           -1,
           "2025-07-26T01:49:04",
           "518f8e6003b2074"
          ],
          [
           "Ranol",
           "Russia",
           -1,
           "2025-07-26T01:37:48",
           "518f669003b14aa"
          ],
          [
           "Ranol",
           "Russia",
           -1,
           "2025-07-26T01:15:13",
           "518f11d003afc85"
          ],
          [
           "Ranol",
           "Russia",
           -1,
           "2025-07-24T18:27:03",
           "5173ff20033878e"
          ],
          [
           "Ranol",
           "Russia",
           -1,
           "2025-07-24T18:41:17",
           "517434800339263"
          ],
          [
           "Ranol",
           "Russia",
           -1,
           "2025-07-24T18:04:50",
           "5173abd0033772a"
          ],
          [
           "Ranol",
           "Russia",
           -1,
           "2025-07-24T17:31:22",
           "51732e300335ef6"
          ],
          [
           "Ranol",
           "Russia",
           -1,
           "2025-07-24T17:50:55",
           "517377a00336cfb"
          ],
          [
           "Ranol",
           "Russia",
           -1,
           "2025-07-24T17:10:09",
           "5172dee00335075"
          ],
          [
           "Ranol",
           "Russia",
           -1,
           "2025-07-23T19:44:54",
           "51600ad002dc28f"
          ],
          [
           "Ranol",
           "Russia",
           -1,
           "2025-07-23T19:01:49",
           "515f689002d9fcb"
          ],
          [
           "Ranol",
           "Russia",
           -1,
           "2025-07-23T19:18:41",
           "515fa89002dad8e"
          ],
          [
           "Ranol",
           "Russia",
           -1,
           "2025-07-23T18:35:59",
           "515f07f002d8b95"
          ],
          [
           "Ranol",
           "Russia",
           -1,
           "2025-07-23T18:26:36",
           "515ee57002d8457"
          ],
          [
           "Ranol",
           "Russia",
           -1,
           "2025-07-22T17:42:10",
           "5149251002783c9"
          ],
          [
           "Ranol",
           "Sweden",
           -1,
           "2025-07-22T12:10:04",
           "51444970026447b"
          ],
          [
           "Ranol",
           "Russia",
           -1,
           "2025-07-21T19:19:52",
           "51357d50021eb73"
          ],
          [
           "Ranol",
           "Sweden",
           -1,
           "2025-07-21T18:15:58",
           "51348db0021ba30"
          ],
          [
           "Ranol",
           "Russia",
           -1,
           "2025-07-21T17:37:32",
           "5133fd500219e47"
          ],
          [
           "Ranol",
           "Russia",
           -1,
           "2025-07-21T17:13:09",
           "5133a2200218cc1"
          ],
          [
           "Ranol",
           "Sweden",
           -1,
           "2025-07-20T23:57:31",
           "5124767001ca699"
          ],
          [
           "Ranol",
           "Russia",
           -1,
           "2025-07-20T17:03:48",
           "511e671001b6baf"
          ],
          [
           "Ranol",
           "Sweden",
           -1,
           "2025-07-20T16:04:46",
           "511d89b001b3e6a"
          ],
          [
           "Ranol",
           "Sweden",
           -1,
           "2025-07-19T22:23:45",
           "510dfe70015bbc4"
          ],
          [
           "Ranol",
           "Sweden",
           -1,
           "2025-07-19T22:19:18",
           "510dedf0015b7d0"
          ],
          [
           "Ranol",
           "Sweden",
           -1,
           "2025-07-19T10:53:09",
           "5103e1200130b5b"
          ],
          [
           "Ranol",
           "Sweden",
           -1,
           "2025-07-18T16:41:53",
           "50f3e4d000e3890"
          ],
          [
           "Ranol",
           "Sweden",
           -1,
           "2025-07-18T16:29:43",
           "50f3b6a000e2f4b"
          ],
          [
           "Ranol",
           "Sweden",
           -1,
           "2025-07-18T16:38:33",
           "50f3d86000e361a"
          ],
          [
           "Ranol",
           "Sweden",
           -1,
           "2025-07-17T22:39:42",
           "50e40ab00093509"
          ],
          [
           "Ranol",
           "Sweden",
           -1,
           "2025-07-17T09:33:44",
           "50d887500062f7f"
          ],
          [
           "Ranol",
           "Sweden",
           -1,
           "2025-07-17T09:39:36",
           "50d89d4000637e5"
          ],
          [
           "Ranol",
           "Sweden",
           -1,
           "2025-07-16T21:27:29",
           "50cde3f0002fbe2"
          ],
          [
           "Ranol",
           "Sweden",
           -1,
           "2025-07-15T09:23:24",
           "50ae309003a1af1"
          ],
          [
           "Ranol",
           "Sweden",
           -1,
           "2025-07-14T12:28:58",
           "509bd0300350a3a"
          ],
          [
           "Ranol",
           "Sweden",
           -1,
           "2025-07-14T12:41:07",
           "509bfdc00351b55"
          ],
          [
           "Ranol",
           "Sweden",
           -1,
           "2025-07-14T12:18:02",
           "509ba770034fa79"
          ],
          [
           "Ranol",
           "Sweden",
           -1.2999999999999998,
           "2025-07-13T21:45:14",
           "508edd50030cb75"
          ],
          [
           "Ranol",
           "Sweden",
           -1,
           "2025-07-14T12:02:46",
           "509b6d90034e3cd"
          ],
          [
           "Ranol",
           "Sweden",
           -1,
           "2025-07-13T21:10:37",
           "508e5c90030b242"
          ],
          [
           "Ranol",
           "Sweden",
           -1,
           "2025-07-13T20:28:32",
           "508dbe9003092ea"
          ],
          [
           "Ranol",
           "Sweden",
           -1,
           "2025-07-13T13:43:10",
           "5087ce6002f2f79"
          ],
          [
           "Ranol",
           "Sweden",
           -1,
           "2025-07-13T14:00:19",
           "50880de002f44e2"
          ],
          [
           "Ranol",
           "Sweden",
           -1.2999999999999998,
           "2025-07-13T13:20:19",
           "5087786002f111b"
          ],
          [
           "Ranol",
           "Sweden",
           -1,
           "2025-07-13T12:22:52",
           "5086a19002ebded"
          ],
          [
           "Ranol",
           "Sweden",
           -1,
           "2025-07-13T12:01:06",
           "50864ff002e9c9f"
          ],
          [
           "Ranol",
           "Sweden",
           -1.2999999999999998,
           "2025-07-13T12:12:38",
           "50867a2002eadf1"
          ],
          [
           "Ranol",
           "Russia",
           -1,
           "2025-07-11T22:02:41",
           "5064ee200234b90"
          ],
          [
           "Ranol",
           "Russia",
           -1,
           "2025-07-11T21:14:43",
           "50643bf00232318"
          ],
          [
           "Ranol",
           "Russia",
           -1,
           "2025-07-11T21:32:31",
           "50647eb002331ef"
          ],
          [
           "Ranol",
           "Russia",
           -1,
           "2025-07-11T21:03:02",
           "50641000023190d"
          ],
          [
           "Ranol",
           "Russia",
           -1,
           "2025-07-11T20:51:34",
           "5063e5400230f6e"
          ],
          [
           "Ranol",
           "Russia",
           -1,
           "2025-07-11T20:07:18",
           "50633f30022e8e5"
          ],
          [
           "Ranol",
           "Russia",
           -1,
           "2025-07-11T19:56:01",
           "506314e0022def1"
          ],
          [
           "Ranol",
           "Russia",
           -1,
           "2025-07-11T19:38:47",
           "5062d430022cfb6"
          ],
          [
           "Ranol",
           "Russia",
           -1,
           "2025-07-11T18:41:02",
           "5061f5600229d09"
          ],
          [
           "Ranol",
           "Russia",
           -1,
           "2025-07-11T18:57:27",
           "50623690022ab9d"
          ],
          [
           "Ranol",
           "Russia",
           -1,
           "2025-07-11T17:44:42",
           "506128800227245"
          ],
          [
           "Ranol",
           "Russia",
           -1,
           "2025-07-11T18:01:34",
           "506167b00227f1c"
          ],
          [
           "Ranol",
           "Sweden",
           -1,
           "2025-07-11T00:26:25",
           "5051f2a001d7ff6"
          ],
          [
           "Ranol",
           "Sweden",
           -1,
           "2025-07-11T00:17:20",
           "5051d0e001d7858"
          ],
          [
           "Ranol",
           "Sweden",
           -1,
           "2025-07-10T23:54:31",
           "50517ab001d6588"
          ],
          [
           "Ranol",
           "Sweden",
           -1.2999999999999998,
           "2025-07-10T23:59:54",
           "50518e5001d69e2"
          ],
          [
           "Ranol",
           "Sweden",
           -1,
           "2025-07-10T23:35:40",
           "5051348001d5608"
          ]
         ],
         "hovertemplate": "<b>%{customdata[0]}</b><br>Battle Rating: %{x}<br>Score: %{y}<br>Country: %{customdata[1]}<br>Tier Status: Downtier<br>BR Delta: %{customdata[2]:.2f}<br>Date: %{customdata[3]|%Y-%m-%d %H:%M}<br><extra></extra>",
         "marker": {
          "color": "#ff0000",
          "line": {
           "color": "white",
           "width": 1
          },
          "opacity": 0.7,
          "size": 8
         },
         "mode": "markers",
         "name": "Downtier",
         "type": "scatter",
         "x": {
          "bdata": "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",
          "dtype": "f8"
         },
         "y": {
          "bdata": "BBUFBy4GZggJCUICvw0dBUgHjQbJDAoHTAUIAg8G9gLgAv4FlgLfBqoKLQ2pD+QExQbpAogHiAImC8IFXQV+AgkFTARMB6oDUwjjBhoFYQhJAlsCQwZZAocD9wYgCrEHFgEFBTUL2gN3B6sHAwQRB10BqgXRBXMLcgl4BsYGoAVEB4ID1QbsAtcE6wRuCSwH5gcNCXUJewiqCv0KtQclEJQNrAdhBcoKTgI6CjIERwcOBfQDMhLnCF4ENwvWAnkFLQg+BK4E9wN5BPoE0gHoAz4DpAOLBBsGSgZYBL8JrAOXCs8HKQf2BXMDxwMiBG0IVQZAAeYIJALIBVUIlQotBRAE9wkbAwENqwovCzoCWQgTBMwBCwEKCZMEzBLlDPEFyQUIA0sGkgdFBJ0A6AITArMEgQBhAxMCAQNeA8AMOgeiAKUDOQLkA+wEzQSOBOACcAEKALMBtQOiBGgHCgjRBmMDPw7BAdMGDAebA5ACwQsOAxgBgwATA38C",
          "dtype": "i2"
         }
        },
        {
         "customdata": [
          [
           "Ranol",
           "Russia",
           -0.7000000000000002,
           "2025-08-10T20:23:36",
           "52dc4c6001deff7"
          ],
          [
           "Ranol",
           "Germany",
           -0.7,
           "2025-09-11T20:40:43",
           "557f8bf00279bc5"
          ],
          [
           "Ranol",
           "Germany",
           -0.7,
           "2025-09-11T20:31:04",
           "557f6840027968e"
          ],
          [
           "Ranol",
           "Germany",
           -0.9999999999999998,
           "2025-09-11T20:02:11",
           "557efc00027861c"
          ],
          [
           "Ranol",
           "Germany",
           -0.7,
           "2025-09-11T20:15:27",
           "557f2dd00278dc1"
          ],
          [
           "Ranol",
           "Germany",
           -0.9999999999999998,
           "2025-09-11T19:41:26",
           "557eae3002779c4"
          ],
          [
           "Ranol",
           "Germany",
           -0.7,
           "2025-09-11T19:54:16",
           "557edbc00278104"
          ],
          [
           "Ranol",
           "Russia",
           -0.7000000000000002,
           "2025-09-08T18:33:38",
           "553e67f00180a4b"
          ],
          [
           "Ranol",
           "Russia",
           -0.7000000000000002,
           "2025-09-04T18:24:34",
           "54e9e5f000b2aee"
          ],
          [
           "Ranol",
           "Russia",
           -0.7000000000000002,
           "2025-09-04T18:09:47",
           "54e9ae6000b214e"
          ],
          [
           "Ranol",
           "Russia",
           -0.7000000000000002,
           "2025-09-04T17:56:22",
           "54e97c2000b18a7"
          ],
          [
           "Ranol",
           "Russia",
           -0.7000000000000002,
           "2025-09-04T11:51:48",
           "54e42510009e5a3"
          ],
          [
           "Ranol",
           "Sweden",
           -0.7000000000000002,
           "2025-09-03T19:59:03",
           "54d6300000660e0"
          ],
          [
           "Ranol",
           "Russia",
           -0.7000000000000002,
           "2025-08-30T16:54:40",
           "547f1cd00214f30"
          ],
          [
           "Ranol",
           "Russia",
           -0.7000000000000002,
           "2025-08-29T20:25:20",
           "546d1ad001b43d4"
          ],
          [
           "Ranol",
           "Russia",
           -0.7000000000000002,
           "2025-08-29T19:59:30",
           "546cb9c001b2d8d"
          ],
          [
           "Ranol",
           "Russia",
           -0.7000000000000002,
           "2025-08-29T19:14:24",
           "546c10c001b065f"
          ],
          [
           "Ranol",
           "Russia",
           -0.7000000000000002,
           "2025-08-29T19:31:48",
           "546c51f001b1534"
          ],
          [
           "Ranol",
           "Russia",
           -0.7000000000000002,
           "2025-08-29T19:01:23",
           "546be00001afb90"
          ],
          [
           "Ranol",
           "France",
           -0.7000000000000002,
           "2025-08-27T19:50:46",
           "5442692000f2fb2"
          ],
          [
           "Ranol",
           "France",
           -0.7000000000000002,
           "2025-08-25T20:20:46",
           "5418a9c00030c22"
          ],
          [
           "Ranol",
           "France",
           -0.7,
           "2025-08-25T19:54:37",
           "54184680002f580"
          ],
          [
           "Ranol",
           "France",
           -0.7,
           "2025-08-25T19:41:57",
           "54181730002ea7c"
          ],
          [
           "Ranol",
           "Russia",
           -0.7000000000000002,
           "2025-08-24T19:45:02",
           "54030bb003c0637"
          ],
          [
           "Ranol",
           "Russia",
           -0.7000000000000002,
           "2025-08-24T19:14:14",
           "5402982003bec69"
          ],
          [
           "Ranol",
           "France",
           -0.7,
           "2025-08-22T22:32:33",
           "53db4de002de30e"
          ],
          [
           "Ranol",
           "France",
           -0.7,
           "2025-08-22T22:47:27",
           "53db854002df0ff"
          ],
          [
           "Ranol",
           "Russia",
           -0.7,
           "2025-08-22T20:34:55",
           "53d996c002d7a42"
          ],
          [
           "Ranol",
           "Russia",
           -0.7,
           "2025-08-22T22:12:19",
           "53daff1002dd07a"
          ],
          [
           "Ranol",
           "Russia",
           -0.7,
           "2025-08-22T20:23:10",
           "53d969e002d6f24"
          ],
          [
           "Ranol",
           "Russia",
           -0.7000000000000002,
           "2025-08-22T19:27:39",
           "53d89a8002d3a8b"
          ],
          [
           "Ranol",
           "Russia",
           -0.9999999999999998,
           "2025-08-22T20:10:12",
           "53d939e002d62eb"
          ],
          [
           "Ranol",
           "Russia",
           -0.7000000000000002,
           "2025-08-22T18:40:40",
           "53d7ea5002d0f04"
          ],
          [
           "Ranol",
           "Russia",
           -0.7000000000000002,
           "2025-08-22T18:57:03",
           "53d8273002d1de4"
          ],
          [
           "Ranol",
           "Russia",
           -0.7000000000000002,
           "2025-08-21T19:21:56",
           "53c36ce0026acf9"
          ],
          [
           "Ranol",
           "Russia",
           -0.7000000000000002,
           "2025-08-21T18:26:32",
           "53c29d500267e30"
          ],
          [
           "Ranol",
           "France",
           -0.7,
           "2025-08-20T22:22:39",
           "53b0f560020c744"
          ],
          [
           "Ranol",
           "France",
           -0.7,
           "2025-08-21T11:42:55",
           "53bcb3b0024db3f"
          ],
          [
           "Ranol",
           "France",
           -0.7,
           "2025-08-20T21:14:04",
           "53aff990020950e"
          ],
          [
           "Ranol",
           "France",
           -0.7,
           "2025-08-20T22:09:41",
           "53b0ca20020be7d"
          ],
          [
           "Ranol",
           "France",
           -0.9999999999999998,
           "2025-08-19T21:39:27",
           "539b407001a569a"
          ],
          [
           "Ranol",
           "France",
           -0.7,
           "2025-08-20T20:59:06",
           "53afc17002089eb"
          ],
          [
           "Ranol",
           "France",
           -0.7,
           "2025-08-19T21:29:12",
           "539b180001a4e79"
          ],
          [
           "Ranol",
           "France",
           -0.9999999999999998,
           "2025-08-19T20:56:46",
           "539aa0b001a3707"
          ],
          [
           "Ranol",
           "France",
           -0.9999999999999998,
           "2025-08-18T23:50:01",
           "538812200143195"
          ],
          [
           "Ranol",
           "France",
           -0.7,
           "2025-08-18T23:23:45",
           "5387afc00141c25"
          ],
          [
           "Ranol",
           "France",
           -0.7,
           "2025-08-18T23:38:52",
           "5387e8600142859"
          ],
          [
           "Ranol",
           "France",
           -0.7,
           "2025-08-17T15:34:17",
           "536bb4e000c10df"
          ],
          [
           "Ranol",
           "France",
           -0.7,
           "2025-08-17T15:44:33",
           "536bddc000c1b3c"
          ],
          [
           "Ranol",
           "France",
           -0.7,
           "2025-08-17T14:56:20",
           "536b291000beac9"
          ],
          [
           "Ranol",
           "Russia",
           -0.7000000000000002,
           "2025-08-14T18:42:36",
           "532f31700375761"
          ],
          [
           "Ranol",
           "Russia",
           -0.7000000000000002,
           "2025-08-14T18:29:18",
           "532effb00374c42"
          ],
          [
           "Ranol",
           "Russia",
           -0.7000000000000002,
           "2025-08-14T18:04:01",
           "532ea0e00373763"
          ],
          [
           "Ranol",
           "Russia",
           -0.7000000000000002,
           "2025-08-14T18:17:35",
           "532ed3b0037428c"
          ],
          [
           "Ranol",
           "Russia",
           -0.7000000000000002,
           "2025-08-14T17:52:01",
           "532e73d00372dd8"
          ],
          [
           "Ranol",
           "Russia",
           -0.7000000000000002,
           "2025-08-12T22:12:32",
           "530814e002a861b"
          ],
          [
           "Ranol",
           "Russia",
           -0.7000000000000002,
           "2025-08-12T22:00:01",
           "5307e35002a7c98"
          ],
          [
           "Ranol",
           "Russia",
           -0.7000000000000002,
           "2025-08-12T19:00:42",
           "53054580029f639"
          ],
          [
           "Ranol",
           "Russia",
           -0.7000000000000002,
           "2025-08-12T18:15:46",
           "53049cf0029d33f"
          ],
          [
           "Ranol",
           "Russia",
           -0.7000000000000002,
           "2025-08-12T17:44:52",
           "530428a0029bba8"
          ],
          [
           "Ranol",
           "France",
           -0.7,
           "2025-08-12T13:14:54",
           "53003470028c8e9"
          ],
          [
           "Ranol",
           "Russia",
           -0.7000000000000002,
           "2025-08-10T20:06:54",
           "52dc0da001de33c"
          ],
          [
           "Ranol",
           "Russia",
           -0.7000000000000002,
           "2025-08-10T20:38:36",
           "52dc849001dfb5a"
          ],
          [
           "Ranol",
           "Russia",
           -0.7000000000000002,
           "2025-08-10T19:41:21",
           "52dbadb001dcf39"
          ],
          [
           "Ranol",
           "Russia",
           -0.7000000000000002,
           "2025-08-10T19:33:25",
           "52db8ff001dc8fb"
          ],
          [
           "Ranol",
           "Russia",
           -0.7000000000000002,
           "2025-08-10T18:37:01",
           "52dabc4001d9d4e"
          ],
          [
           "Ranol",
           "Russia",
           -0.7000000000000002,
           "2025-08-10T18:27:09",
           "52da975001d95dd"
          ],
          [
           "Ranol",
           "Russia",
           -0.7000000000000002,
           "2025-08-10T14:45:56",
           "52d7599001ce5f7"
          ],
          [
           "Ranol",
           "Russia",
           -0.7000000000000002,
           "2025-08-10T14:14:37",
           "52d6e4a001cc519"
          ],
          [
           "Ranol",
           "Russia",
           -0.7000000000000002,
           "2025-08-10T14:29:46",
           "52d71d6001cd57e"
          ],
          [
           "Ranol",
           "Russia",
           -0.7000000000000002,
           "2025-08-10T13:40:35",
           "52d6650001c9d54"
          ],
          [
           "Ranol",
           "Russia",
           -0.7000000000000002,
           "2025-08-10T13:57:02",
           "52d6a2a001cb103"
          ],
          [
           "Ranol",
           "Russia",
           -0.7000000000000002,
           "2025-08-10T13:23:33",
           "52d624e001c879f"
          ],
          [
           "Ranol",
           "Russia",
           -0.7000000000000002,
           "2025-08-10T13:07:48",
           "52d5ea1001c72ec"
          ],
          [
           "Ranol",
           "Sweden",
           -0.7000000000000002,
           "2025-08-09T15:23:54",
           "52c2d05001647b5"
          ],
          [
           "Ranol",
           "Russia",
           -0.7000000000000002,
           "2025-08-09T15:00:26",
           "52c27850016314f"
          ],
          [
           "Ranol",
           "Sweden",
           -0.7000000000000002,
           "2025-08-09T15:10:09",
           "52c29cd00163aa8"
          ],
          [
           "Ranol",
           "Russia",
           -0.7000000000000002,
           "2025-08-09T13:43:01",
           "52c15500015db26"
          ],
          [
           "Ranol",
           "Sweden",
           -0.7000000000000002,
           "2025-08-09T14:18:29",
           "52c1db20016053b"
          ],
          [
           "Ranol",
           "Sweden",
           -0.7000000000000002,
           "2025-08-04T18:35:06",
           "525c25700385720"
          ],
          [
           "Ranol",
           "Sweden",
           -0.7000000000000002,
           "2025-08-04T18:20:05",
           "525bed100384bb6"
          ],
          [
           "Ranol",
           "Sweden",
           -0.7000000000000002,
           "2025-08-04T17:58:05",
           "525b9a800383b9a"
          ],
          [
           "Ranol",
           "Sweden",
           -0.7000000000000002,
           "2025-08-04T17:13:50",
           "525af4b00381b21"
          ],
          [
           "Ranol",
           "Sweden",
           -0.7000000000000002,
           "2025-08-04T17:39:59",
           "525b56c00382e22"
          ],
          [
           "Ranol",
           "Sweden",
           -0.7000000000000002,
           "2025-08-03T13:24:14",
           "52427fb00312465"
          ],
          [
           "Ranol",
           "Sweden",
           -0.7000000000000002,
           "2025-08-03T13:34:05",
           "5242a4a0031317a"
          ],
          [
           "Ranol",
           "Sweden",
           -0.7000000000000002,
           "2025-08-03T13:10:24",
           "52424bd003111ba"
          ],
          [
           "Ranol",
           "Sweden",
           -0.7000000000000002,
           "2025-08-03T12:32:03",
           "5241bbe0030dac1"
          ],
          [
           "Ranol",
           "Sweden",
           -0.7000000000000002,
           "2025-08-03T12:16:50",
           "524182e0030c41e"
          ],
          [
           "Ranol",
           "Sweden",
           -0.7000000000000002,
           "2025-08-03T11:17:54",
           "5240a5e00306ae9"
          ],
          [
           "Ranol",
           "Sweden",
           -0.7000000000000002,
           "2025-08-02T20:01:59",
           "52333b4002bc763"
          ],
          [
           "Ranol",
           "Sweden",
           -0.7000000000000002,
           "2025-08-02T20:15:03",
           "52336c0002bd2b7"
          ],
          [
           "Ranol",
           "Sweden",
           -0.7000000000000002,
           "2025-08-02T19:46:49",
           "5233026002bba18"
          ],
          [
           "Ranol",
           "Russia",
           -0.7000000000000002,
           "2025-08-02T19:19:50",
           "52329d3002ba293"
          ],
          [
           "Ranol",
           "Russia",
           -0.7000000000000002,
           "2025-08-02T18:31:18",
           "5231e72002b7a45"
          ],
          [
           "Ranol",
           "Russia",
           -0.7000000000000002,
           "2025-08-02T18:53:32",
           "52323aa002b8c63"
          ],
          [
           "Ranol",
           "Russia",
           -0.7000000000000002,
           "2025-08-02T18:19:16",
           "5231b98002b70ab"
          ],
          [
           "Ranol",
           "Russia",
           -0.7000000000000002,
           "2025-08-02T16:16:23",
           "522fed5002b11f2"
          ],
          [
           "Ranol",
           "Russia",
           -0.7000000000000002,
           "2025-08-02T17:34:00",
           "5231105002b4dd6"
          ],
          [
           "Ranol",
           "Russia",
           -0.7000000000000002,
           "2025-08-02T16:06:13",
           "522fc72002b09bf"
          ],
          [
           "Ranol",
           "Russia",
           -0.7000000000000002,
           "2025-08-02T15:49:59",
           "522f8a4002afc0d"
          ],
          [
           "Ranol",
           "Russia",
           -0.7000000000000002,
           "2025-08-02T15:32:43",
           "522f499002aecd6"
          ],
          [
           "Ranol",
           "Russia",
           -0.7000000000000002,
           "2025-08-02T15:10:32",
           "522ef66002ad78b"
          ],
          [
           "Ranol",
           "Russia",
           -0.7000000000000002,
           "2025-08-01T20:40:58",
           "521eb5200257d52"
          ],
          [
           "Ranol",
           "Russia",
           -0.7000000000000002,
           "2025-08-01T19:58:02",
           "521e148002558b3"
          ],
          [
           "Ranol",
           "Russia",
           -0.7000000000000002,
           "2025-08-01T19:43:22",
           "521ddd600254c7c"
          ],
          [
           "Ranol",
           "Russia",
           -0.7000000000000002,
           "2025-08-01T19:28:45",
           "521da6900254006"
          ],
          [
           "Ranol",
           "Russia",
           -0.7000000000000002,
           "2025-07-31T19:19:53",
           "52086d2001f2a3c"
          ],
          [
           "Ranol",
           "Russia",
           -0.7000000000000002,
           "2025-07-31T18:57:44",
           "52081a1001f1945"
          ],
          [
           "Ranol",
           "Russia",
           -0.7000000000000002,
           "2025-07-31T18:23:26",
           "520799a001eff01"
          ],
          [
           "Ranol",
           "Russia",
           -0.7000000000000002,
           "2025-07-31T18:37:43",
           "5207cf4001f09d9"
          ],
          [
           "Ranol",
           "Russia",
           -0.7000000000000002,
           "2025-07-23T19:29:42",
           "515fd24002db690"
          ],
          [
           "Ranol",
           "Russia",
           -0.7000000000000002,
           "2025-07-23T18:47:27",
           "515f33c002d94ba"
          ],
          [
           "Ranol",
           "Russia",
           -0.7000000000000002,
           "2025-07-23T18:14:45",
           "515eb91002d7b6a"
          ],
          [
           "Ranol",
           "Russia",
           -0.7000000000000002,
           "2025-07-20T16:42:00",
           "511e154001b5b28"
          ],
          [
           "Ranol",
           "Russia",
           -0.7000000000000002,
           "2025-07-20T16:27:33",
           "511ddf3001b5021"
          ],
          [
           "Ranol",
           "Russia",
           -0.7000000000000002,
           "2025-07-11T21:43:58",
           "5064a4500233a9c"
          ],
          [
           "Ranol",
           "Russia",
           -0.7000000000000002,
           "2025-07-11T20:40:18",
           "5063bb000230592"
          ],
          [
           "Ranol",
           "Russia",
           -0.7000000000000002,
           "2025-07-11T19:24:38",
           "50629f40022c39e"
          ],
          [
           "Ranol",
           "Russia",
           -0.7000000000000002,
           "2025-07-11T18:21:12",
           "5061b1200228e77"
          ],
          [
           "Ranol",
           "Russia",
           -0.7,
           "2025-07-11T17:25:02",
           "5060dea0022634a"
          ]
         ],
         "hovertemplate": "<b>%{customdata[0]}</b><br>Battle Rating: %{x}<br>Score: %{y}<br>Country: %{customdata[1]}<br>Tier Status: Partial Downtier<br>BR Delta: %{customdata[2]:.2f}<br>Date: %{customdata[3]|%Y-%m-%d %H:%M}<br><extra></extra>",
         "marker": {
          "color": "#FF5A00",
          "line": {
           "color": "white",
           "width": 1
          },
          "opacity": 0.7,
          "size": 8
         },
         "mode": "markers",
         "name": "Partial Downtier",
         "type": "scatter",
         "x": {
          "bdata": "AAAAAAAAEEDNzMzMzMz0P83MzMzMzPQ/zczMzMzM9D/NzMzMzMz0P83MzMzMzPQ/zczMzMzM9D8zMzMzMzMRQAAAAAAAABRAAAAAAAAAFEAAAAAAAAAUQAAAAAAAABRAMzMzMzMzFUAAAAAAAAAUQDMzMzMzMxFAMzMzMzMzEUAzMzMzMzMRQDMzMzMzMxFAMzMzMzMzEUBmZmZmZmYCQGZmZmZmZgJAzczMzMzM9D/NzMzMzMz0PzMzMzMzMxFAMzMzMzMzEUDNzMzMzMz0P83MzMzMzPQ/zczMzMzM9D/NzMzMzMz0P83MzMzMzPQ/MzMzMzMzEUDNzMzMzMz0PzMzMzMzMxFAMzMzMzMzEUAzMzMzMzMRQDMzMzMzMxFAzczMzMzM9D/NzMzMzMz0P83MzMzMzPQ/zczMzMzM9D/NzMzMzMz0P83MzMzMzPQ/zczMzMzM9D/NzMzMzMz0P83MzMzMzPQ/zczMzMzM9D/NzMzMzMz0P83MzMzMzPQ/zczMzMzM9D8AAAAAAADwPzMzMzMzMxFAMzMzMzMzEUAzMzMzMzMRQDMzMzMzMxFAMzMzMzMzEUAAAAAAAAAQQAAAAAAAABBAAAAAAAAAEEAAAAAAAAAQQAAAAAAAABBAAAAAAAAA8D8AAAAAAAAQQAAAAAAAABBAAAAAAAAAEEAAAAAAAAAQQAAAAAAAABBAAAAAAAAAEEAAAAAAAAAQQAAAAAAAABBAAAAAAAAAEEAAAAAAAAAQQAAAAAAAABBAAAAAAAAAEEAAAAAAAAAQQAAAAAAAABBAAAAAAAAAEEAAAAAAAAAQQAAAAAAAABBAAAAAAAAAEEAAAAAAAAAQQAAAAAAAABBAAAAAAAAAEEAAAAAAAAAQQAAAAAAAABBAAAAAAAAAEEAAAAAAAAAQQAAAAAAAABBAAAAAAAAAEEAAAAAAAAAQQAAAAAAAABBAAAAAAAAAEEAAAAAAAAAQQAAAAAAAABBAAAAAAAAAEEAAAAAAAAAQQAAAAAAAABBAAAAAAAAAEEAAAAAAAAAQQAAAAAAAABBAAAAAAAAAEEAAAAAAAAAQQAAAAAAAABBAAAAAAAAAEEAAAAAAAAAQQAAAAAAAABBAAAAAAAAAEEAAAAAAAAAQQAAAAAAAABBAAAAAAAAAEEAAAAAAAAAQQAAAAAAAABBAZmZmZmZmCkBmZmZmZmYKQGZmZmZmZgpAZmZmZmZmAkBmZmZmZmYCQGZmZmZmZgJAZmZmZmZmAkBmZmZmZmYCQGZmZmZmZgJAzczMzMzM9D8=",
          "dtype": "f8"
         },
         "y": {
          "bdata": "IBCnBR8DFgjcBqgDKgNgBN4GWQtBA+8FWwfADDUIqQlnCzcFAAmfCpwIFghsDG4Gqwi6CekEeBGhDrIRVgYuCy8HEAYnC2oDVhM0DKELSA4MA/wIBAbTA6QOhgdmCDMEFggGBcMOKwFKA98ClAT/BqIGbQm5Bv0H+AdWEBkKMQk6AxUInAZUBjIF1gecBbUMowXxDuMDzALmA+cHowjGBwsBUQxBA/oBogegANUH+wX1AyUITwsICa8HFgNqA6kK+QMsBTgEQgWaCNMHzQLaBXEKMgf+AkgFOwg1CHEO3wsQBU4HWwq+BwIE6ARTBg8IYwc=",
          "dtype": "i2"
         }
        },
        {
         "customdata": [
          [
           "Ranol",
           "Russia",
           -0.5999999999999996,
           "2025-08-30T19:01:33",
           "5480f8b0021b49e"
          ],
          [
           "Ranol",
           "Sweden",
           -0.5999999999999996,
           "2025-09-13T18:26:01",
           "55a7c360034261b"
          ],
          [
           "Ranol",
           "USA",
           -0.5999999999999996,
           "2025-09-13T16:57:20",
           "55a676c0033e018"
          ],
          [
           "Ranol",
           "USA",
           -0.5999999999999996,
           "2025-09-13T16:36:26",
           "55a62880033cfaf"
          ],
          [
           "Ranol",
           "USA",
           -0.5999999999999996,
           "2025-09-13T16:46:21",
           "55a64d80033d7a6"
          ],
          [
           "Ranol",
           "France",
           -0.5999999999999996,
           "2025-09-11T22:08:55",
           "5580d750027cce5"
          ],
          [
           "Ranol",
           "France",
           -0.5999999999999996,
           "2025-09-11T21:53:13",
           "55809850027c340"
          ],
          [
           "Ranol",
           "France",
           -0.5999999999999996,
           "2025-09-11T11:26:43",
           "55776ee0025e213"
          ],
          [
           "Ranol",
           "USA",
           -0.5999999999999996,
           "2025-09-10T19:08:34",
           "55691ae002250ba"
          ],
          [
           "Ranol",
           "USA",
           -0.5999999999999996,
           "2025-09-10T18:32:02",
           "5568920002239f8"
          ],
          [
           "Ranol",
           "USA",
           -0.5999999999999996,
           "2025-09-10T18:53:33",
           "5568e2a00224773"
          ],
          [
           "Ranol",
           "France",
           -0.5999999999999996,
           "2025-09-10T17:37:27",
           "5567c19002216f7"
          ],
          [
           "Ranol",
           "France",
           -0.5999999999999996,
           "2025-09-08T21:45:13",
           "554136600187bc4"
          ],
          [
           "Ranol",
           "Sweden",
           -0.5999999999999996,
           "2025-09-08T19:18:45",
           "553f11100182769"
          ],
          [
           "Ranol",
           "Sweden",
           -0.5999999999999996,
           "2025-09-08T19:05:58",
           "553edad00181e20"
          ],
          [
           "Ranol",
           "Sweden",
           -0.5999999999999996,
           "2025-09-08T18:55:15",
           "553eb62001817f2"
          ],
          [
           "Ranol",
           "Russia",
           -0.5999999999999996,
           "2025-09-01T16:55:27",
           "54a94e5002de14b"
          ],
          [
           "Ranol",
           "Russia",
           -0.5999999999999996,
           "2025-08-30T18:41:10",
           "5480abf0021a36d"
          ],
          [
           "Ranol",
           "Russia",
           -0.5999999999999996,
           "2025-08-30T18:29:39",
           "548080f002199da"
          ],
          [
           "Ranol",
           "Russia",
           -0.5999999999999996,
           "2025-08-30T18:03:19",
           "54801e4002184c6"
          ],
          [
           "Ranol",
           "Russia",
           -0.40000000000000036,
           "2025-08-29T20:50:39",
           "546d79a001b58bb"
          ],
          [
           "Ranol",
           "Russia",
           -0.40000000000000036,
           "2025-08-29T21:03:18",
           "546da91001b6323"
          ],
          [
           "Ranol",
           "Russia",
           -0.40000000000000036,
           "2025-08-29T20:11:01",
           "546ce51001b3756"
          ],
          [
           "Ranol",
           "Russia",
           -0.40000000000000036,
           "2025-08-29T18:38:00",
           "546b884001ae806"
          ],
          [
           "Ranol",
           "Sweden",
           -0.5999999999999999,
           "2025-08-25T23:23:22",
           "541b567000398ce"
          ],
          [
           "Ranol",
           "Sweden",
           -0.5999999999999996,
           "2025-08-24T20:38:12",
           "5403cdb003c2f28"
          ],
          [
           "Ranol",
           "Sweden",
           -0.5999999999999996,
           "2025-08-24T20:22:13",
           "5403972003c23e2"
          ],
          [
           "Ranol",
           "Sweden",
           -0.5999999999999996,
           "2025-08-24T20:06:26",
           "54035c0003c178a"
          ],
          [
           "Ranol",
           "Russia",
           -0.40000000000000036,
           "2025-08-24T18:27:38",
           "5401e96003bc420"
          ],
          [
           "Ranol",
           "Russia",
           -0.5999999999999996,
           "2025-08-23T18:25:19",
           "53ecc8b0034503c"
          ],
          [
           "Ranol",
           "Russia",
           -0.40000000000000036,
           "2025-08-22T18:13:06",
           "53d7830002cf613"
          ],
          [
           "Ranol",
           "Russia",
           -0.40000000000000036,
           "2025-08-21T20:08:14",
           "53c41ab0026d35d"
          ],
          [
           "Ranol",
           "Russia",
           -0.40000000000000036,
           "2025-08-21T19:38:20",
           "53c3aa80026bad3"
          ],
          [
           "Ranol",
           "Russia",
           -0.40000000000000036,
           "2025-08-21T19:52:42",
           "53c3e070026c69a"
          ],
          [
           "Ranol",
           "Russia",
           -0.40000000000000036,
           "2025-08-21T18:57:53",
           "53c312d002698d3"
          ],
          [
           "Ranol",
           "Sweden",
           -0.5999999999999996,
           "2025-08-21T18:13:37",
           "53c26cd00267317"
          ],
          [
           "Ranol",
           "Sweden",
           -0.5999999999999996,
           "2025-08-18T20:17:48",
           "5384f6400138e67"
          ],
          [
           "Ranol",
           "Sweden",
           -0.5999999999999996,
           "2025-08-18T19:04:48",
           "5383e4d001351e2"
          ],
          [
           "Ranol",
           "Sweden",
           -0.5999999999999996,
           "2025-08-17T10:32:16",
           "53674aa000a5d0b"
          ],
          [
           "Ranol",
           "Sweden",
           -0.5999999999999996,
           "2025-08-11T23:39:46",
           "52f443f0024b353"
          ],
          [
           "Ranol",
           "Sweden",
           -0.5999999999999999,
           "2025-08-10T23:03:05",
           "52dea26001e65a6"
          ],
          [
           "Ranol",
           "Sweden",
           -0.5999999999999999,
           "2025-08-11T17:29:58",
           "52eed8f002399a0"
          ],
          [
           "Ranol",
           "Sweden",
           -0.5999999999999999,
           "2025-08-10T10:46:06",
           "52d3d0c001ba1c7"
          ],
          [
           "Ranol",
           "Sweden",
           -0.5999999999999996,
           "2025-08-10T10:36:35",
           "52d3b12001b954b"
          ],
          [
           "Ranol",
           "Sweden",
           -0.5999999999999996,
           "2025-08-06T20:24:47",
           "5287f0800047ff5"
          ],
          [
           "Ranol",
           "Sweden",
           -0.5999999999999999,
           "2025-08-06T19:56:13",
           "528785a00046a75"
          ],
          [
           "Ranol",
           "Sweden",
           -0.5999999999999996,
           "2025-08-06T20:06:45",
           "5287acf0004725e"
          ],
          [
           "Ranol",
           "Sweden",
           -0.5999999999999996,
           "2025-08-02T14:55:00",
           "522ebbd002ac80f"
          ],
          [
           "Ranol",
           "Sweden",
           -0.5999999999999996,
           "2025-07-30T22:33:02",
           "51f62770019dadc"
          ],
          [
           "Ranol",
           "Russia",
           -0.5999999999999996,
           "2025-07-30T19:00:09",
           "51f30b500193d44"
          ],
          [
           "Ranol",
           "Russia",
           -0.5999999999999996,
           "2025-07-30T18:17:59",
           "51f26d500191d32"
          ],
          [
           "Ranol",
           "Russia",
           -0.5999999999999996,
           "2025-07-29T18:46:12",
           "51ddbf100133083"
          ],
          [
           "Ranol",
           "Russia",
           -0.5999999999999996,
           "2025-07-29T19:08:11",
           "51de1170013417b"
          ],
          [
           "Ranol",
           "Sweden",
           -0.5999999999999996,
           "2025-07-28T21:22:44",
           "51caf02000da7a9"
          ],
          [
           "Ranol",
           "Sweden",
           -0.5999999999999996,
           "2025-07-27T22:21:41",
           "51b6b4400079d5a"
          ],
          [
           "Ranol",
           "Russia",
           -0.5999999999999996,
           "2025-07-27T15:54:49",
           "51b10c100067487"
          ],
          [
           "Ranol",
           "Russia",
           -0.5999999999999996,
           "2025-07-27T14:30:40",
           "51afd0d000624aa"
          ],
          [
           "Ranol",
           "Russia",
           -0.5999999999999996,
           "2025-07-27T14:11:57",
           "51af8a900060f00"
          ],
          [
           "Ranol",
           "Russia",
           -0.5999999999999996,
           "2025-07-27T13:46:23",
           "51af2ab0005efd6"
          ],
          [
           "Ranol",
           "Russia",
           -0.5999999999999996,
           "2025-07-27T13:56:53",
           "51af5200005fd11"
          ],
          [
           "Ranol",
           "Russia",
           -0.5999999999999996,
           "2025-07-27T13:24:18",
           "51aed3a0005d15b"
          ],
          [
           "Ranol",
           "Sweden",
           -0.5999999999999996,
           "2025-07-27T12:24:05",
           "51adf6200057abd"
          ],
          [
           "Ranol",
           "Sweden",
           -0.5999999999999996,
           "2025-07-26T10:59:32",
           "5197a10003e293e"
          ],
          [
           "Ranol",
           "Russia",
           -0.5999999999999996,
           "2025-07-23T17:37:57",
           "515e2ee002d5fdc"
          ],
          [
           "Ranol",
           "Russia",
           -0.5999999999999996,
           "2025-07-23T17:53:53",
           "515e6ad002d6b9d"
          ],
          [
           "Ranol",
           "Russia",
           -0.5999999999999996,
           "2025-07-22T17:58:46",
           "514965200278fb7"
          ],
          [
           "Ranol",
           "Russia",
           -0.5999999999999996,
           "2025-07-22T17:19:50",
           "5148d3400277476"
          ],
          [
           "Ranol",
           "Russia",
           -0.5999999999999996,
           "2025-07-22T17:29:17",
           "5148f5600277ad0"
          ],
          [
           "Ranol",
           "Russia",
           -0.5999999999999996,
           "2025-07-21T18:59:13",
           "51352fd0021db22"
          ],
          [
           "Ranol",
           "Russia",
           -0.5999999999999996,
           "2025-07-21T18:33:07",
           "5134ce00021c70e"
          ],
          [
           "Ranol",
           "Sweden",
           -0.5999999999999996,
           "2025-07-21T17:58:39",
           "51344cc0021ad9b"
          ],
          [
           "Ranol",
           "Russia",
           -0.5999999999999996,
           "2025-07-21T17:25:28",
           "5133d0500219591"
          ],
          [
           "Ranol",
           "Sweden",
           -0.5999999999999996,
           "2025-07-19T22:32:29",
           "510e1f80015c3f3"
          ],
          [
           "Ranol",
           "Sweden",
           -0.5999999999999996,
           "2025-07-19T10:37:40",
           "5103a690012f562"
          ],
          [
           "Ranol",
           "Sweden",
           -0.5999999999999996,
           "2025-07-17T22:28:46",
           "50e3e1500092cd1"
          ],
          [
           "Ranol",
           "Sweden",
           -0.5999999999999996,
           "2025-07-16T21:51:50",
           "50ce3f200030d73"
          ],
          [
           "Ranol",
           "Sweden",
           -0.5999999999999996,
           "2025-07-17T09:22:24",
           "50d85ce00061f9a"
          ],
          [
           "Ranol",
           "Sweden",
           -0.5999999999999996,
           "2025-07-16T21:37:16",
           "50ce089000302d3"
          ],
          [
           "Ranol",
           "Sweden",
           -0.5999999999999996,
           "2025-07-16T11:22:12",
           "50c505e0000c34b"
          ],
          [
           "Ranol",
           "Sweden",
           -0.5999999999999996,
           "2025-07-16T11:03:34",
           "50c4c020000a7bd"
          ],
          [
           "Ranol",
           "Sweden",
           -0.5999999999999996,
           "2025-07-16T11:12:36",
           "50c4e200000b523"
          ],
          [
           "Ranol",
           "Sweden",
           -0.5999999999999996,
           "2025-07-13T13:09:12",
           "50874f6002f01de"
          ],
          [
           "Ranol",
           "Sweden",
           -0.5999999999999996,
           "2025-07-13T11:52:25",
           "50862df002e8e7e"
          ],
          [
           "Ranol",
           "Russia",
           -0.40000000000000036,
           "2025-07-11T21:53:31",
           "5064cb8002343b9"
          ],
          [
           "Ranol",
           "Russia",
           -0.40000000000000036,
           "2025-07-11T20:23:17",
           "50637b30022f6ea"
          ],
          [
           "Ranol",
           "Sweden",
           -0.5999999999999996,
           "2025-07-10T23:43:32",
           "5051521001d5c54"
          ]
         ],
         "hovertemplate": "<b>%{customdata[0]}</b><br>Battle Rating: %{x}<br>Score: %{y}<br>Country: %{customdata[1]}<br>Tier Status: Balanced<br>BR Delta: %{customdata[2]:.2f}<br>Date: %{customdata[3]|%Y-%m-%d %H:%M}<br><extra></extra>",
         "marker": {
          "color": "#0000ff",
          "line": {
           "color": "white",
           "width": 1
          },
          "opacity": 0.7,
          "size": 8
         },
         "mode": "markers",
         "name": "Balanced",
         "type": "scatter",
         "x": {
          "bdata": "mpmZmZmZBUDNzMzMzMwaQJqZmZmZmQ1AmpmZmZmZDUCamZmZmZkNQJqZmZmZmQVAmpmZmZmZBUCamZmZmZkFQJqZmZmZmQ1AmpmZmZmZDUCamZmZmZkNQJqZmZmZmQVAmpmZmZmZBUCamZmZmZkFQJqZmZmZmQVAmpmZmZmZBUCamZmZmZkFQJqZmZmZmQVAmpmZmZmZBUCamZmZmZkFQDMzMzMzMxFAMzMzMzMzEUAzMzMzMzMRQDMzMzMzMxFAMzMzMzMz+z+amZmZmZkFQJqZmZmZmQVAmpmZmZmZBUAzMzMzMzMRQM3MzMzMzBJAMzMzMzMzEUAzMzMzMzMRQDMzMzMzMxFAMzMzMzMzEUAzMzMzMzMRQM3MzMzMzBZAzczMzMzMFkDNzMzMzMwWQM3MzMzMzBpAmpmZmZmZBUAzMzMzMzP7PzMzMzMzM/s/MzMzMzMz+z/NzMzMzMwWQJqZmZmZmQVAMzMzMzMz+z+amZmZmZkFQJqZmZmZmQVAzczMzMzMFkCamZmZmZkNQJqZmZmZmQ1AmpmZmZmZDUCamZmZmZkNQM3MzMzMzBZAzczMzMzMFkCamZmZmZkNQJqZmZmZmQ1AmpmZmZmZBUCamZmZmZkFQJqZmZmZmQVAmpmZmZmZBUDNzMzMzMwaQM3MzMzMzBpAmpmZmZmZBUCamZmZmZkFQJqZmZmZmQVAmpmZmZmZBUCamZmZmZkFQJqZmZmZmQVAmpmZmZmZBUCamZmZmZkFQJqZmZmZmQVAzczMzMzMFkDNzMzMzMwWQM3MzMzMzBZAzczMzMzMFkDNzMzMzMwWQM3MzMzMzBZAzczMzMzMFkDNzMzMzMwWQM3MzMzMzBZAzczMzMzMGkDNzMzMzMwWQGZmZmZmZgJAZmZmZmZmAkDNzMzMzMwWQA==",
          "dtype": "f8"
         },
         "y": {
          "bdata": "fBGMBI0J9wW4CsMJ2QpDBwMC7AvSAUANhgXoDaMQZwevCewUdA7FB34GLQSzBkoF9gDFCn4KJAnCA6kAuwgRBF4HNQf9E54H5Ai5ByMEgw5ODfsDGQyVAFARSg/pEOMKfQo7CaMG9QkhCYwA7wA+ASkEvwzMA9UH8gWhAhAHtATWB+0GKQXTAwoIsQqnCEUDAAWACiQHkQv0As0G8QrJA/sD5gPvA3kGCgwmBg==",
          "dtype": "i2"
         }
        },
        {
         "customdata": [
          [
           "Ranol",
           "USA",
           -0.2999999999999998,
           "2025-09-10T18:13:59",
           "55684e500222e98"
          ],
          [
           "Ranol",
           "Russia",
           -0.2999999999999998,
           "2025-08-30T17:43:30",
           "547fd3f00217550"
          ],
          [
           "Ranol",
           "Sweden",
           -0.2999999999999998,
           "2025-08-24T21:05:38",
           "540439c003c4463"
          ],
          [
           "Ranol",
           "Russia",
           -0.2999999999999998,
           "2025-08-23T19:23:14",
           "53eda1f0034877a"
          ],
          [
           "Ranol",
           "Russia",
           -0.2999999999999998,
           "2025-08-23T17:52:42",
           "53ec4e7003432f3"
          ],
          [
           "Ranol",
           "France",
           -0.3999999999999999,
           "2025-08-19T21:10:39",
           "539ad4e001a416e"
          ],
          [
           "Ranol",
           "Sweden",
           -0.2999999999999998,
           "2025-08-18T20:39:06",
           "538545200139f1d"
          ],
          [
           "Ranol",
           "Russia",
           -0.2999999999999998,
           "2025-08-14T09:19:05",
           "5326f060034d28d"
          ],
          [
           "Ranol",
           "Russia",
           -0.2999999999999998,
           "2025-08-12T18:50:40",
           "53051fd0029ee33"
          ],
          [
           "Ranol",
           "Russia",
           -0.2999999999999998,
           "2025-08-10T19:52:43",
           "52dbd86001dd838"
          ],
          [
           "Ranol",
           "Russia",
           -0.2999999999999998,
           "2025-08-10T19:19:58",
           "52db5cc001dbe59"
          ],
          [
           "Ranol",
           "Russia",
           -0.2999999999999998,
           "2025-08-10T18:55:16",
           "52db000001dab3e"
          ],
          [
           "Ranol",
           "Sweden",
           -0.30000000000000004,
           "2025-08-10T11:00:27",
           "52d40c7001bba06"
          ],
          [
           "Ranol",
           "Sweden",
           -0.30000000000000004,
           "2025-08-07T08:58:56",
           "5292f950007af3a"
          ],
          [
           "Ranol",
           "Sweden",
           -0.2999999999999998,
           "2025-08-03T11:51:48",
           "524125100309ecc"
          ],
          [
           "Ranol",
           "Sweden",
           -0.2999999999999998,
           "2025-08-03T11:31:01",
           "5240d7000307ed7"
          ],
          [
           "Ranol",
           "Sweden",
           -0.2999999999999998,
           "2025-08-02T19:32:33",
           "5232cca002bad97"
          ],
          [
           "Ranol",
           "Russia",
           -0.2999999999999998,
           "2025-08-02T17:50:24",
           "52314dc002b5a8c"
          ],
          [
           "Ranol",
           "Sweden",
           -0.30000000000000004,
           "2025-08-02T14:46:41",
           "522e993002abe10"
          ],
          [
           "Ranol",
           "Sweden",
           -0.2999999999999998,
           "2025-08-02T12:44:12",
           "522cd19002a274b"
          ],
          [
           "Ranol",
           "Sweden",
           -0.2999999999999998,
           "2025-08-02T12:16:02",
           "522c6760029ff3f"
          ],
          [
           "Ranol",
           "Russia",
           -0.2999999999999998,
           "2025-07-31T17:56:58",
           "5207366001eeb83"
          ],
          [
           "Ranol",
           "Russia",
           -0.2999999999999998,
           "2025-07-31T18:11:33",
           "52076d2001ef61d"
          ],
          [
           "Ranol",
           "Russia",
           -0.2999999999999998,
           "2025-07-30T18:02:51",
           "51f234500191222"
          ],
          [
           "Ranol",
           "Sweden",
           -0.2999999999999998,
           "2025-07-27T12:50:26",
           "51ae58d0005a283"
          ],
          [
           "Ranol",
           "Russia",
           -0.2999999999999998,
           "2025-07-22T18:09:12",
           "51498c500279720"
          ]
         ],
         "hovertemplate": "<b>%{customdata[0]}</b><br>Battle Rating: %{x}<br>Score: %{y}<br>Country: %{customdata[1]}<br>Tier Status: Partial Uptier<br>BR Delta: %{customdata[2]:.2f}<br>Date: %{customdata[3]|%Y-%m-%d %H:%M}<br><extra></extra>",
         "marker": {
          "color": "#00C24E",
          "line": {
           "color": "white",
           "width": 1
          },
          "opacity": 0.7,
          "size": 8
         },
         "mode": "markers",
         "name": "Partial Uptier",
         "type": "scatter",
         "x": {
          "bdata": "mpmZmZmZDUAAAAAAAAAUQJqZmZmZmQVAzczMzMzMEkDNzMzMzMwSQM3MzMzMzPQ/zczMzMzMFkDNzMzMzMwSQAAAAAAAABBAAAAAAAAAEEAAAAAAAAAQQAAAAAAAABBAMzMzMzMz+z8zMzMzMzP7PwAAAAAAABBAAAAAAAAAEEAAAAAAAAAQQAAAAAAAABBAMzMzMzMz+z/NzMzMzMwWQM3MzMzMzBZAAAAAAAAAEEAAAAAAAAAQQJqZmZmZmQ1AzczMzMzMFkCamZmZmZkFQA==",
          "dtype": "f8"
         },
         "y": {
          "bdata": "HAkLBUcO2wjOB/AKVwZpBlAGoQnpCu0KsgsRBvkC5gyfA/8Fnwa/B3AF8AE1BMwIoAYbCA==",
          "dtype": "i2"
         }
        },
        {
         "customdata": [
          [
           "Ranol",
           "Russia",
           0,
           "2025-09-04T17:26:25",
           "54e90be000b058a"
          ],
          [
           "Ranol",
           "Russia",
           0,
           "2025-08-30T16:40:26",
           "547ee7200214413"
          ],
          [
           "Ranol",
           "Russia",
           0,
           "2025-08-29T20:37:23",
           "546d480001b4d87"
          ],
          [
           "Ranol",
           "Sweden",
           0,
           "2025-08-27T19:42:18",
           "5442494000f2944"
          ],
          [
           "Ranol",
           "Russia",
           0,
           "2025-08-26T19:08:05",
           "542cb12000925b5"
          ],
          [
           "Ranol",
           "Russia",
           0,
           "2025-08-24T19:32:17",
           "5402dbc003bfbb7"
          ],
          [
           "Ranol",
           "Russia",
           0,
           "2025-08-24T18:56:22",
           "5402551003bdd1d"
          ],
          [
           "Ranol",
           "Russia",
           0,
           "2025-08-24T18:40:31",
           "540219b003bcf3b"
          ],
          [
           "Ranol",
           "Russia",
           0,
           "2025-08-23T18:35:39",
           "53ecef7003459e6"
          ],
          [
           "Ranol",
           "Russia",
           0,
           "2025-08-23T18:07:03",
           "53ec84500343f9a"
          ],
          [
           "Ranol",
           "Russia",
           0,
           "2025-08-22T19:12:00",
           "53d85fa002d2be1"
          ],
          [
           "Ranol",
           "Russia",
           0,
           "2025-08-22T18:24:31",
           "53d7adc002d0071"
          ],
          [
           "Ranol",
           "Russia",
           0,
           "2025-08-22T18:00:34",
           "53d753e002ceae7"
          ],
          [
           "Ranol",
           "Russia",
           0,
           "2025-08-22T17:32:52",
           "53d6ec2002cd2c3"
          ],
          [
           "Ranol",
           "Russia",
           0,
           "2025-08-21T18:41:05",
           "53c2d3c00268a90"
          ],
          [
           "Ranol",
           "Sweden",
           0,
           "2025-08-17T10:14:23",
           "536707b000a3e74"
          ],
          [
           "Ranol",
           "Russia",
           0,
           "2025-08-14T17:15:14",
           "532dea00037103d"
          ],
          [
           "Ranol",
           "Russia",
           0,
           "2025-08-14T17:34:23",
           "532e31c00371f9b"
          ],
          [
           "Ranol",
           "Russia",
           0,
           "2025-08-13T18:45:46",
           "531a2580030d821"
          ],
          [
           "Ranol",
           "Russia",
           0,
           "2025-08-13T18:06:56",
           "531993b0030b4fc"
          ],
          [
           "Ranol",
           "Russia",
           0,
           "2025-08-13T17:53:54",
           "531962f0030a94e"
          ],
          [
           "Ranol",
           "Sweden",
           0,
           "2025-08-03T11:01:38",
           "5240690003051ef"
          ],
          [
           "Ranol",
           "Russia",
           0,
           "2025-08-02T15:20:36",
           "522f1c2002ae172"
          ],
          [
           "Ranol",
           "Sweden",
           0,
           "2025-08-02T12:35:33",
           "522cb0f002a1b0e"
          ],
          [
           "Ranol",
           "Sweden",
           0,
           "2025-08-02T12:03:08",
           "522c3790029ed10"
          ],
          [
           "Ranol",
           "Russia",
           0,
           "2025-07-27T16:10:28",
           "51b14710006819e"
          ],
          [
           "Ranol",
           "Russia",
           0,
           "2025-07-27T15:14:21",
           "51b074a00065110"
          ],
          [
           "Ranol",
           "Sweden",
           0,
           "2025-07-26T23:59:51",
           "51a30f100013260"
          ],
          [
           "Ranol",
           "Sweden",
           0,
           "2025-07-26T23:49:04",
           "51a2e6d000127db"
          ],
          [
           "Ranol",
           "Sweden",
           0,
           "2025-07-26T11:12:45",
           "5197d2a003e3b7f"
          ],
          [
           "Ranol",
           "Russia",
           0,
           "2025-07-26T01:26:21",
           "518f3ba003b0861"
          ],
          [
           "Ranol",
           "Russia",
           0,
           "2025-07-26T00:53:25",
           "518ec01003ae57d"
          ],
          [
           "Ranol",
           "Sweden",
           0,
           "2025-07-20T15:45:24",
           "511d40e001b2e90"
          ],
          [
           "Ranol",
           "Sweden",
           0,
           "2025-07-19T11:07:35",
           "510417400131f51"
          ],
          [
           "Ranol",
           "Sweden",
           0,
           "2025-07-17T22:55:45",
           "50e446f00094182"
          ],
          [
           "Ranol",
           "Sweden",
           0,
           "2025-07-13T21:21:50",
           "508e86b0030ba62"
          ],
          [
           "Ranol",
           "Sweden",
           0,
           "2025-07-13T13:28:38",
           "508797e002f1ca9"
          ]
         ],
         "hovertemplate": "<b>%{customdata[0]}</b><br>Battle Rating: %{x}<br>Score: %{y}<br>Country: %{customdata[1]}<br>Tier Status: Uptier<br>BR Delta: %{customdata[2]:.2f}<br>Date: %{customdata[3]|%Y-%m-%d %H:%M}<br><extra></extra>",
         "marker": {
          "color": "#0A9200",
          "line": {
           "color": "white",
           "width": 1
          },
          "opacity": 0.7,
          "size": 8
         },
         "mode": "markers",
         "name": "Uptier",
         "type": "scatter",
         "x": {
          "bdata": "AAAAAAAAFEAAAAAAAAAUQDMzMzMzMxFAzczMzMzMGkAzMzMzMzMRQDMzMzMzMxFAMzMzMzMzEUAzMzMzMzMRQM3MzMzMzBJAzczMzMzMEkAzMzMzMzMRQDMzMzMzMxFAMzMzMzMzEUAzMzMzMzMRQDMzMzMzMxFAzczMzMzMGkAzMzMzMzMRQDMzMzMzMxFAzczMzMzMEkDNzMzMzMwSQM3MzMzMzBJAMzMzMzMzFUAAAAAAAAAQQM3MzMzMzBZAzczMzMzMGkCamZmZmZkNQJqZmZmZmQ1AzczMzMzMGkDNzMzMzMwaQM3MzMzMzBZAZmZmZmZmCkBmZmZmZmYKQM3MzMzMzBpAzczMzMzMFkDNzMzMzMwWQM3MzMzMzBpAzczMzMzMGkA=",
          "dtype": "f8"
         },
         "y": {
          "bdata": "7wCNBScJJQXmBN8OywztDGADXwSzB60EbAQiBXIDJwdcDYAEGgSjBAsEpwB4AswE3QkiCQoEaAnCApYAgwLVDKgFSAEiAloAvAg=",
          "dtype": "i2"
         }
        },
        {
         "hovertemplate": "Overall Trend<br>BR: %{x}<br>Predicted Score: %{y:.0f}<extra></extra>",
         "line": {
          "color": "rgba(0, 0, 0, 0.5)",
          "dash": "dash",
          "width": 2
         },
         "mode": "lines",
         "name": "Overall Trend (slope: -226.4)",
         "showlegend": true,
         "type": "scatter",
         "x": {
          "bdata": "AAAAAAAA8D/sSL2O1OvwP9iReh2p1/E/xNo3rH3D8j+vI/U6Uq/zP5tssskmm/Q/h7VvWPuG9T9z/iznz3L2P19H6nWkXvc/SpCnBHlK+D822WSTTTb5PyIiIiIiIvo/DmvfsPYN+z/6s5w/y/n7P+b8Wc6f5fw/0kUXXXTR/T++jtTrSL3+P6rXkXodqf8/SpCnBHlKAEDANAZMY8AAQDbZZJNNNgFArH3D2jesAUAiIiIiIiICQJjGgGkMmAJADmvfsPYNA0CEDz744IMDQPqznD/L+QNAcFj7hrVvBEDm/FnOn+UEQFyhuBWKWwVA0kUXXXTRBUBI6nWkXkcGQL6O1OtIvQZANDMzMzMzB0Cq15F6HakHQB988MEHHwhAlSBPCfKUCEALxa1Q3AoJQIFpDJjGgAlA9w1r37D2CUBtsskmm2wKQONWKG6F4gpAWfuGtW9YC0DPn+X8Wc4LQEVERERERAxAuuiiiy66DEAwjQHTGDANQKYxYBoDpg1AHNa+Ye0bDkCSeh2p15EOQAgffPDBBw9AfsPaN6x9D0D0Zzl/lvMPQDUGTGPANBBAcFj7hrVvEECrqqqqqqoQQOb8Wc6f5RBAIU8J8pQgEUBcobgVilsRQJbzZzl/lhFA0kUXXXTREUAMmMaAaQwSQEjqdaReRxJAgjwlyFOCEkC+jtTrSL0SQPjggw8++BJANDMzMzMzE0BuheJWKG4TQKrXkXodqRNA5ClBnhLkE0AffPDBBx8UQFrOn+X8WRRAlSBPCfKUFEDQcv4s588UQAvFrVDcChVARhdddNFFFUCBaQyYxoAVQLy7u7u7uxVA9w1r37D2FUAyYBoDpjEWQG2yySabbBZAqAR5SpCnFkDjVihuheIWQB6p15F6HRdAWfuGtW9YF0CUTTbZZJMXQM+f5fxZzhdACvKUIE8JGEBFREREREQYQICW82c5fxhAuuiiiy66GED1OlKvI/UYQDCNAdMYMBlAa9+w9g1rGUCmMWAaA6YZQOGDDz744BlAHNa+Ye0bGkBXKG6F4lYaQJJ6HanXkRpAzczMzMzMGkA=",
          "dtype": "f8"
         },
         "y": {
          "bdata": "N+yAZ/QRo0DLNOyT4feiQGB9V8DO3aJA9MXC7LvDokCJDi4ZqamiQB5XmUWWj6JAsp8EcoN1okBH6G+ecFuiQNsw28pdQaJAcHlG90onokAEwrEjOA2iQJkKHVAl86FALlOIfBLZoUDCm/Oo/76hQFfkXtXspKFA6yzKAdqKoUCAdTUux3ChQBS+oFq0VqFAqQYMh6E8oUA+T3ezjiKhQNKX4t97CKFAZ+BNDGnuoED8KLk4VtSgQJBxJGVDuqBAJbqPkTCgoEC5Avu9HYagQE5LZuoKbKBA4pPRFvhRoEB33DxD5TegQAwlqG/SHaBAoG0TnL8DoEBpbP2QWdOfQJL90+kzn59AvI6qQg5rn0DkH4Gb6DafQA6xV/TCAp9AOEIuTZ3OnkBg0wSmd5qeQIpk2/5RZp5AsvWxVywynkDchoiwBv6dQAUYXwnhyZ1ALqk1YruVnUBXOgy7lWGdQIDL4hNwLZ1Aqly5bEr5nEDT7Y/FJMWcQPx+Zh7/kJxAJRA9d9lcnEBOoRPQsyicQHgy6iiO9JtAoMPAgWjAm0DKVJfaQoybQPPlbTMdWJtAHHdEjPcjm0BFCBvl0e+aQG6Z8T2su5pAmCrIloaHmkDAu57vYFOaQOpMdUg7H5pAEt5LoRXrmUA8byL677aZQGUA+VLKgplAj5HPq6ROmUC3IqYEfxqZQOGzfF1Z5phACUVTtjOymEA01ikPDn6YQFxnAGjoSZhAhvjWwMIVmECvia0ZneGXQNgahHJ3rZdAAaxay1F5l0AqPTEkLEWXQFPOB30GEZdAfV/e1eDclkCm8LQuu6iWQM+Bi4eVdJZA+BJi4G9AlkAhpDg5SgyWQEo1D5Ik2JVAc8bl6v6jlUCcV7xD2W+VQMbokpyzO5VA73lp9Y0HlUAYC0BOaNOUQEGcFqdCn5RAai3t/xxrlECTvsNY9zaUQLxPmrHRApRA5uBwCqzOk0APckdjhpqTQDkDHrxgZpNAYpT0FDsyk0CLJcttFf6SQLS2ocbvyZJA3Ud4H8qVkkAG2U54pGGSQC9qJdF+LZJAWPv7KVn5kUA=",
          "dtype": "f8"
         }
        },
        {
         "hovertemplate": "Downtier Trend<br>BR: %{x}<br>Predicted Score: %{y:.0f}<extra></extra>",
         "legendgroup": "Downtier",
         "line": {
          "color": "rgba(255, 0, 0, 0.5)",
          "dash": "dot",
          "width": 1.5
         },
         "mode": "lines",
         "name": "Downtier Trend (-206.3)",
         "showlegend": true,
         "type": "scatter",
         "visible": "legendonly",
         "x": {
          "bdata": "AAAAAAAA8D8RMEo1edzxPyJglGryuPM/MpDen2uV9T9DwCjV5HH3P1TwcgpeTvk/ZCC9P9cq+z91UAd1UAf9P4aAUarJ4/4/TNjNbyFgAEBU8HIKXk4BQFwIGKWaPAJAZCC9P9cqA0BtOGLaExkEQHVQB3VQBwVAfmisD431BUCGgFGqyeMGQI6Y9kQG0gdAl7Cb30LACECfyEB6f64JQKjg5RS8nApAsPiKr/iKC0C4EDBKNXkMQMEo1eRxZw1AyUB6f65VDkDRWB8a60MPQG04YtoTGRBAccS0JzKQEEB1UAd1UAcRQHrcWcJufhFAfmisD431EUCC9P5cq2wSQIaAUarJ4xJAigyk9+daE0COmPZEBtITQJMkSZIkSRRAl7Cb30LAFECbPO4sYTcVQJ/IQHp/rhVAo1STx50lFkCo4OUUvJwWQKxsOGLaExdAsPiKr/iKF0C0hN38FgIYQLgQMEo1eRhAvJyCl1PwGEDBKNXkcWcZQMW0JzKQ3hlAyUB6f65VGkDNzMzMzMwaQA==",
          "dtype": "f8"
         },
         "y": {
          "bdata": "AZfsMUdpoUD+MET5STmhQPvKm8BMCaFA+GTzh0/ZoED1/kpPUqmgQPKYohZVeaBA7jL63VdJoEDszFGlWhmgQNHNUtm60p9AygECaMByn0DENbH2xRKfQL5pYIXLsp5AuJ0PFNFSnkCy0b6i1vKdQKwFbjHckp1ApjkdwOEynUCgbcxO59KcQJqhe93scpxAlNUqbPISnECOCdr697KbQIc9iYn9UptAgXE4GAPzmkB7peemCJOaQHTZljUOM5pAbg1GxBPTmUBpQfVSGXOZQGJ1pOEeE5lAXKlTcCSzmEBW3QL/KVOYQFARso0v85dASkVhHDWTl0BEeRCrOjOXQD6tvzlA05ZAOOFuyEVzlkAyFR5XSxOWQCtJzeVQs5VAJX18dFZTlUAfsSsDXPOUQBnl2pFhk5RAExmKIGczlEAMTTmvbNOTQAaB6D1yc5NAALWXzHcTk0D66EZbfbOSQPQc9umCU5JA7lCleIjzkUDohFQHjpORQOK4A5aTM5FA3OyyJJnTkEDWIGKznnOQQA==",
          "dtype": "f8"
         }
        },
        {
         "hovertemplate": "Partial Downtier Trend<br>BR: %{x}<br>Predicted Score: %{y:.0f}<extra></extra>",
         "legendgroup": "Partial Downtier",
         "line": {
          "color": "rgba(255, 90, 0, 0.5)",
          "dash": "dot",
          "width": 1.5
         },
         "mode": "lines",
         "name": "Partial Downtier Trend (-144.8)",
         "showlegend": true,
         "type": "scatter",
         "visible": "legendonly",
         "x": {
          "bdata": "AAAAAAAA8D/AKNXkcWfxP4BRqsnjzvI/QXp/rlU29D8Bo1STx531P8HLKXg5Bfc/gvT+XKts+D9CHdRBHdT5PwJGqSaPO/s/wm5+CwGj/D+Cl1Pwcgr+P0PAKNXkcf8/gvT+XKtsAEDiiGlPZCABQEId1EEd1AFAorE+NNaHAkACRqkmjzsDQGLaExlI7wNAwm5+CwGjBEAiA+n9uVYFQIKXU/ByCgZA4iu+4iu+BkBDwCjV5HEHQKNUk8edJQhAA+n9uVbZCEBjfWisD40JQMMR057IQApAI6Y9kYH0CkCEOqiDOqgLQOTOEnbzWwxARGN9aKwPDUCk9+daZcMNQASMUk0edw5AZCC9P9cqD0DEtCcykN4PQJIkSZIkSRBAwm5+CwGjEEDyuLOE3fwQQCID6f25VhFAUk0ed5awEUCCl1PwcgoSQLLhiGlPZBJA4iu+4iu+EkASdvNbCBgTQEPAKNXkcRNAcwpeTsHLE0CjVJPHnSUUQNOeyEB6fxRAA+n9uVbZFEAzMzMzMzMVQA==",
          "dtype": "f8"
         },
         "y": {
          "bdata": "kcbYF1HfoUBOEwvL5sWhQApgPX58rKFAx6xvMRKToUCE+aHkp3mhQEBG1Jc9YKFA/ZIGS9NGoUC63zj+aC2hQHYsa7H+E6FAM3mdZJT6oEDwxc8XKuGgQKwSAsu/x6BAaV80flWuoEAmrGYx65SgQOL4mOSAe6BAn0XLlxZioEBckv1KrEigQBjfL/5BL6BA1StisdcVoEAj8SjJ2vifQJyKjS8Gxp9AFiTylTGTn0CPvVb8XGCfQAhXu2KILZ9AgvAfybP6nkD7iYQv38eeQHQj6ZUKlZ5A7rxN/DVinkBnVrJiYS+eQODvFsmM/J1AWol7L7jJnUDSIuCV45adQEy8RPwOZJ1AxlWpYjoxnUA/7w3JZf6cQLiIci+Ry5xAMiLXlbyYnECruzv852WcQCRVoGITM5xAnu4EyT4AnEAXiGkvas2bQJAhzpWVmptACrsy/MBnm0CDVJdi7DSbQPzt+8gXAptAdYdgL0PPmkDuIMWVbpyaQGi6KfyZaZpA4VOOYsU2mkBa7fLI8AOaQA==",
          "dtype": "f8"
         }
        },
        {
         "hovertemplate": "Balanced Trend<br>BR: %{x}<br>Predicted Score: %{y:.0f}<extra></extra>",
         "legendgroup": "Balanced",
         "line": {
          "color": "rgba(0, 0, 255, 0.5)",
          "dash": "dot",
          "width": 1.5
         },
         "mode": "lines",
         "name": "Balanced Trend (-316.0)",
         "showlegend": true,
         "type": "scatter",
         "visible": "legendonly",
         "x": {
          "bdata": "MzMzMzMz+z+c30LAKNX8PwSMUk0ed/4/Nhwx7YkMAEBq8rizhN0AQJ/IQHp/rgFA057IQHp/AkAHdVAHdVADQDxL2M1vIQRAcCFglGryBECk9+daZcMFQNjNbyFglAZADKT351plB0BAen+uVTYIQHVQB3VQBwlAqiaPO0vYCUDe/BYCRqkKQBLTnshAegtARqkmjztLDEB6f65VNhwNQK5VNhwx7Q1A4iu+4iu+DkAYAkapJo8PQCbs5rcQMBBAQNcqG46YEEBawm5+CwERQHStsuGIaRFAjpj2RAbSEUCogzqogzoSQMJufgsBoxJA3VnCbn4LE0D3RAbS+3MTQBEwSjV53BNAKxuOmPZEFEBFBtL7c60UQF/xFV/xFRVAedxZwm5+FUCTx50l7OYVQK6y4YhpTxZAyJ0l7Oa3FkDiiGlPZCAXQPxzrbLhiBdAFl/xFV/xF0AwSjV53FkYQEs1edxZwhhAZSC9P9cqGUB/CwGjVJMZQJn2RAbS+xlAs+GIaU9kGkDNzMzMzMwaQA==",
          "dtype": "f8"
         },
         "y": {
          "bdata": "A4sVjvBDpUD+LF6pdQOlQPjOpsT6wqRA83Dv33+CpEDuEjj7BEKkQOi0gBaKAaRA41bJMQ/Bo0De+BFNlICjQNiaWmgZQKNA0zyjg57/okDO3uueI7+iQMmANLqofqJAxCJ91S0+okC+xMXwsv2hQLlmDgw4vaFAswhXJ718oUCuqp9CQjyhQKlM6F3H+6BApO4weUy7oECekHmU0XqgQJkywq9WOqBAKKkVlrfzn0Ac7abMwXKfQBIxOAPM8Z5AB3XJOdZwnkD9uFpw4O+dQPL866bqbp1A6EB93fTtnEDehA4U/2ycQNPIn0oJ7JtAyAwxgRNrm0C9UMK3HeqaQLOUU+4naZpAqNjkJDLomUCeHHZbPGeZQJNgB5JG5phAiaSYyFBlmEB/6Cn/WuSXQHMsuzVlY5dAaHBMbG/ilkBetN2ieWGWQFT4btmD4JVASTwAEI5flUA/gJFGmN6UQDPEIn2iXZRAKQi0s6zck0AeTEXqtluTQBSQ1iDB2pJACtRnV8tZkkD+F/mN1diRQA==",
          "dtype": "f8"
         }
        },
        {
         "hovertemplate": "Partial Uptier Trend<br>BR: %{x}<br>Predicted Score: %{y:.0f}<extra></extra>",
         "legendgroup": "Partial Uptier",
         "line": {
          "color": "rgba(0, 194, 78, 0.5)",
          "dash": "dot",
          "width": 1.5
         },
         "mode": "lines",
         "name": "Partial Uptier Trend (-204.0)",
         "showlegend": true,
         "type": "scatter",
         "visible": "legendonly",
         "x": {
          "bdata": "zczMzMzM9D9cCBilmjz2P+tDY31orPc/en+uVTYc+T8Ku/ktBIz6P5n2RAbS+/s/KDKQ3p9r/T+4bdu2bdv+P6NUk8edJQBAa/K4s4TdAEAykN6fa5UBQPotBIxSTQJAwsspeDkFA0CJaU9kIL0DQFEHdVAHdQRAGKWaPO4sBUDgQsAo1eQFQKjg5RS8nAZAb34LAaNUB0A3HDHtiQwIQP65VtlwxAhAxld8xVd8CUCO9aGxPjQKQFaTx50l7ApAHDHtiQykC0DkzhJ281sMQKxsOGLaEw1AdApeTsHLDUA8qIM6qIMOQAJGqSaPOw9AyuPOEnbzD0DJQHp/rlUQQK0PjfWhsRBAkd6fa5UNEUB0rbLhiGkRQFh8xVd8xRFAPEvYzW8hEkAgGutDY30SQATp/blW2RJA57cQMEo1E0DLhiOmPZETQK9VNhwx7RNAkyRJkiRJFEB381sIGKUUQFrCbn4LARVAPpGB9P5cFUAiYJRq8rgVQAUvp+DlFBZA6f25VtlwFkDNzMzMzMwWQA==",
          "dtype": "f8"
         },
         "y": {
          "bdata": "G9eGiTZ0o0CaWosxlU+jQBjej9nzKqNAl2GUgVIGo0AW5ZgpseGiQJVondEPvaJAE+yheW6YokCSb6YhzXOiQBHzqskrT6JAkHavcYoqokAO+rMZ6QWiQI19uMFH4aFADAG9aaa8oUCLhMERBZihQAoIxrljc6FAiIvKYcJOoUAHD88JISqhQIaS07F/BaFABRbYWd7goECDmdwBPbygQAId4ambl6BAgaDlUfpyoEAAJOr5WE6gQH6n7qG3KaBA/SrzSRYFoED4XO/j6cCfQPZj+DOnd59A82oBhGQun0DwcQrUIeWeQO54EyTfm55A7H8cdJxSnkDphiXEWQmeQOaNLhQXwJ1A5JQ3ZNR2nUDim0C0kS2dQOCiSQRP5JxA3alSVAybnEDasFukyVGcQNi3ZPSGCJxA1r5tRES/m0DTxXaUAXabQNDMf+S+LJtAztOINHzjmkDL2pGEOZqaQMnhmtT2UJpAx+ijJLQHmkDE76x0cb6ZQML2tcQudZlAwP2+FOwrmUC9BMhkqeKYQA==",
          "dtype": "f8"
         }
        },
        {
         "hovertemplate": "Uptier Trend<br>BR: %{x}<br>Predicted Score: %{y:.0f}<extra></extra>",
         "legendgroup": "Uptier",
         "line": {
          "color": "rgba(10, 146, 0, 0.5)",
          "dash": "dot",
          "width": 1.5
         },
         "mode": "lines",
         "name": "Uptier Trend (-180.8)",
         "showlegend": true,
         "type": "scatter",
         "visible": "legendonly",
         "x": {
          "bdata": "ZmZmZmZmCkAjpj2RgfQKQODlFLycggtAniXs5rcQDEBbZcMR054MQBilmjzuLA1A1eRxZwm7DUCSJEmSJEkOQE9kIL0/1w5ADKT351plD0DK484SdvMPQMMR057IQBBAorE+NNaHEECAUarJ484QQF/xFV/xFRFAPpGB9P5cEUAcMe2JDKQRQPvQWB8a6xFA2nDEtCcyEkC4EDBKNXkSQJawm99CwBJAdVAHdVAHE0BU8HIKXk4TQDKQ3p9rlRNAETBKNXncE0Dwz7XKhiMUQM5vIWCUahRArA+N9aGxFECLr/iKr/gUQGpPZCC9PxVASO/PtcqGFUAnjztL2M0VQAYvp+DlFBZA5M4SdvNbFkDCbn4LAaMWQKEO6qAO6hZAgK5VNhwxF0BeTsHLKXgXQD3uLGE3vxdAHI6Y9kQGGED6LQSMUk0YQNjNbyFglBhAuG3btm3bGECWDUdMeyIZQHStsuGIaRlAU00ed5awGUAy7YkMpPcZQBCN9aGxPhpA7yxhN7+FGkDNzMzMzMwaQA==",
          "dtype": "f8"
         },
         "y": {
          "bdata": "9sLnRNj2m0BZk2GzqcSbQLxj2yF7kptAHzRVkExgm0CCBM/+HS6bQObUSG3v+5pASaXC28DJmkCsdTxKkpeaQBBGtrhjZZpAcxYwJzUzmkDW5qmVBgGaQDq3IwTYzplAnIedcqmcmUAAWBfhemqZQGMokU9MOJlAxvgKvh0GmUAqyYQs79OYQI2Z/prAoZhA8Gl4CZJvmEBUOvJ3Yz2YQLcKbOY0C5hAGtvlVAbZl0B9q1/D16aXQOB72TGpdJdARExToHpCl0CmHM0OTBCXQArtRn0d3pZAbr3A6+6rlkDRjTpawHmWQDRetMiRR5ZAmC4uN2MVlkD6/qelNOOVQF7PIRQGsZVAwZ+bgtd+lUAlcBXxqEyVQIhAj196GpVA6xAJzkvolEBO4YI8HbaUQLGx/Krug5RAFIJ2GcBRlEB4UvCHkR+UQNwiavZi7ZNAPvPjZDS7k0Ciw13TBYmTQAWU10HXVpNAaGRRsKgkk0DLNMseevKSQC8FRY1LwJJAktW++xyOkkD2pThq7luSQA==",
          "dtype": "f8"
         }
        }
       ],
       "layout": {
        "height": 600,
        "hovermode": "closest",
        "legend": {
         "orientation": "v",
         "x": 1.02,
         "xanchor": "left",
         "y": 1,
         "yanchor": "top"
        },
        "margin": {
         "r": 150
        },
        "plot_bgcolor": "white",
        "template": {
         "data": {
          "bar": [
           {
            "error_x": {
             "color": "#2a3f5f"
            },
            "error_y": {
             "color": "#2a3f5f"
            },
            "marker": {
             "line": {
              "color": "#E5ECF6",
              "width": 0.5
             },
             "pattern": {
              "fillmode": "overlay",
              "size": 10,
              "solidity": 0.2
             }
            },
            "type": "bar"
           }
          ],
          "barpolar": [
           {
            "marker": {
             "line": {
              "color": "#E5ECF6",
              "width": 0.5
             },
             "pattern": {
              "fillmode": "overlay",
              "size": 10,
              "solidity": 0.2
             }
            },
            "type": "barpolar"
           }
          ],
          "carpet": [
           {
            "aaxis": {
             "endlinecolor": "#2a3f5f",
             "gridcolor": "white",
             "linecolor": "white",
             "minorgridcolor": "white",
             "startlinecolor": "#2a3f5f"
            },
            "baxis": {
             "endlinecolor": "#2a3f5f",
             "gridcolor": "white",
             "linecolor": "white",
             "minorgridcolor": "white",
             "startlinecolor": "#2a3f5f"
            },
            "type": "carpet"
           }
          ],
          "choropleth": [
           {
            "colorbar": {
             "outlinewidth": 0,
             "ticks": ""
            },
            "type": "choropleth"
           }
          ],
          "contour": [
           {
            "colorbar": {
             "outlinewidth": 0,
             "ticks": ""
            },
            "colorscale": [
             [
              0,
              "#0d0887"
             ],
             [
              0.1111111111111111,
              "#46039f"
             ],
             [
              0.2222222222222222,
              "#7201a8"
             ],
             [
              0.3333333333333333,
              "#9c179e"
             ],
             [
              0.4444444444444444,
              "#bd3786"
             ],
             [
              0.5555555555555556,
              "#d8576b"
             ],
             [
              0.6666666666666666,
              "#ed7953"
             ],
             [
              0.7777777777777778,
              "#fb9f3a"
             ],
             [
              0.8888888888888888,
              "#fdca26"
             ],
             [
              1,
              "#f0f921"
             ]
            ],
            "type": "contour"
           }
          ],
          "contourcarpet": [
           {
            "colorbar": {
             "outlinewidth": 0,
             "ticks": ""
            },
            "type": "contourcarpet"
           }
          ],
          "heatmap": [
           {
            "colorbar": {
             "outlinewidth": 0,
             "ticks": ""
            },
            "colorscale": [
             [
              0,
              "#0d0887"
             ],
             [
              0.1111111111111111,
              "#46039f"
             ],
             [
              0.2222222222222222,
              "#7201a8"
             ],
             [
              0.3333333333333333,
              "#9c179e"
             ],
             [
              0.4444444444444444,
              "#bd3786"
             ],
             [
              0.5555555555555556,
              "#d8576b"
             ],
             [
              0.6666666666666666,
              "#ed7953"
             ],
             [
              0.7777777777777778,
              "#fb9f3a"
             ],
             [
              0.8888888888888888,
              "#fdca26"
             ],
             [
              1,
              "#f0f921"
             ]
            ],
            "type": "heatmap"
           }
          ],
          "histogram": [
           {
            "marker": {
             "pattern": {
              "fillmode": "overlay",
              "size": 10,
              "solidity": 0.2
             }
            },
            "type": "histogram"
           }
          ],
          "histogram2d": [
           {
            "colorbar": {
             "outlinewidth": 0,
             "ticks": ""
            },
            "colorscale": [
             [
              0,
              "#0d0887"
             ],
             [
              0.1111111111111111,
              "#46039f"
             ],
             [
              0.2222222222222222,
              "#7201a8"
             ],
             [
              0.3333333333333333,
              "#9c179e"
             ],
             [
              0.4444444444444444,
              "#bd3786"
             ],
             [
              0.5555555555555556,
              "#d8576b"
             ],
             [
              0.6666666666666666,
              "#ed7953"
             ],
             [
              0.7777777777777778,
              "#fb9f3a"
             ],
             [
              0.8888888888888888,
              "#fdca26"
             ],
             [
              1,
              "#f0f921"
             ]
            ],
            "type": "histogram2d"
           }
          ],
          "histogram2dcontour": [
           {
            "colorbar": {
             "outlinewidth": 0,
             "ticks": ""
            },
            "colorscale": [
             [
              0,
              "#0d0887"
             ],
             [
              0.1111111111111111,
              "#46039f"
             ],
             [
              0.2222222222222222,
              "#7201a8"
             ],
             [
              0.3333333333333333,
              "#9c179e"
             ],
             [
              0.4444444444444444,
              "#bd3786"
             ],
             [
              0.5555555555555556,
              "#d8576b"
             ],
             [
              0.6666666666666666,
              "#ed7953"
             ],
             [
              0.7777777777777778,
              "#fb9f3a"
             ],
             [
              0.8888888888888888,
              "#fdca26"
             ],
             [
              1,
              "#f0f921"
             ]
            ],
            "type": "histogram2dcontour"
           }
          ],
          "mesh3d": [
           {
            "colorbar": {
             "outlinewidth": 0,
             "ticks": ""
            },
            "type": "mesh3d"
           }
          ],
          "parcoords": [
           {
            "line": {
             "colorbar": {
              "outlinewidth": 0,
              "ticks": ""
             }
            },
            "type": "parcoords"
           }
          ],
          "pie": [
           {
            "automargin": true,
            "type": "pie"
           }
          ],
          "scatter": [
           {
            "fillpattern": {
             "fillmode": "overlay",
             "size": 10,
             "solidity": 0.2
            },
            "type": "scatter"
           }
          ],
          "scatter3d": [
           {
            "line": {
             "colorbar": {
              "outlinewidth": 0,
              "ticks": ""
             }
            },
            "marker": {
             "colorbar": {
              "outlinewidth": 0,
              "ticks": ""
             }
            },
            "type": "scatter3d"
           }
          ],
          "scattercarpet": [
           {
            "marker": {
             "colorbar": {
              "outlinewidth": 0,
              "ticks": ""
             }
            },
            "type": "scattercarpet"
           }
          ],
          "scattergeo": [
           {
            "marker": {
             "colorbar": {
              "outlinewidth": 0,
              "ticks": ""
             }
            },
            "type": "scattergeo"
           }
          ],
          "scattergl": [
           {
            "marker": {
             "colorbar": {
              "outlinewidth": 0,
              "ticks": ""
             }
            },
            "type": "scattergl"
           }
          ],
          "scattermap": [
           {
            "marker": {
             "colorbar": {
              "outlinewidth": 0,
              "ticks": ""
             }
            },
            "type": "scattermap"
           }
          ],
          "scattermapbox": [
           {
            "marker": {
             "colorbar": {
              "outlinewidth": 0,
              "ticks": ""
             }
            },
            "type": "scattermapbox"
           }
          ],
          "scatterpolar": [
           {
            "marker": {
             "colorbar": {
              "outlinewidth": 0,
              "ticks": ""
             }
            },
            "type": "scatterpolar"
           }
          ],
          "scatterpolargl": [
           {
            "marker": {
             "colorbar": {
              "outlinewidth": 0,
              "ticks": ""
             }
            },
            "type": "scatterpolargl"
           }
          ],
          "scatterternary": [
           {
            "marker": {
             "colorbar": {
              "outlinewidth": 0,
              "ticks": ""
             }
            },
            "type": "scatterternary"
           }
          ],
          "surface": [
           {
            "colorbar": {
             "outlinewidth": 0,
             "ticks": ""
            },
            "colorscale": [
             [
              0,
              "#0d0887"
             ],
             [
              0.1111111111111111,
              "#46039f"
             ],
             [
              0.2222222222222222,
              "#7201a8"
             ],
             [
              0.3333333333333333,
              "#9c179e"
             ],
             [
              0.4444444444444444,
              "#bd3786"
             ],
             [
              0.5555555555555556,
              "#d8576b"
             ],
             [
              0.6666666666666666,
              "#ed7953"
             ],
             [
              0.7777777777777778,
              "#fb9f3a"
             ],
             [
              0.8888888888888888,
              "#fdca26"
             ],
             [
              1,
              "#f0f921"
             ]
            ],
            "type": "surface"
           }
          ],
          "table": [
           {
            "cells": {
             "fill": {
              "color": "#EBF0F8"
             },
             "line": {
              "color": "white"
             }
            },
            "header": {
             "fill": {
              "color": "#C8D4E3"
             },
             "line": {
              "color": "white"
             }
            },
            "type": "table"
           }
          ]
         },
         "layout": {
          "annotationdefaults": {
           "arrowcolor": "#2a3f5f",
           "arrowhead": 0,
           "arrowwidth": 1
          },
          "autotypenumbers": "strict",
          "coloraxis": {
           "colorbar": {
            "outlinewidth": 0,
            "ticks": ""
           }
          },
          "colorscale": {
           "diverging": [
            [
             0,
             "#8e0152"
            ],
            [
             0.1,
             "#c51b7d"
            ],
            [
             0.2,
             "#de77ae"
            ],
            [
             0.3,
             "#f1b6da"
            ],
            [
             0.4,
             "#fde0ef"
            ],
            [
             0.5,
             "#f7f7f7"
            ],
            [
             0.6,
             "#e6f5d0"
            ],
            [
             0.7,
             "#b8e186"
            ],
            [
             0.8,
             "#7fbc41"
            ],
            [
             0.9,
             "#4d9221"
            ],
            [
             1,
             "#276419"
            ]
           ],
           "sequential": [
            [
             0,
             "#0d0887"
            ],
            [
             0.1111111111111111,
             "#46039f"
            ],
            [
             0.2222222222222222,
             "#7201a8"
            ],
            [
             0.3333333333333333,
             "#9c179e"
            ],
            [
             0.4444444444444444,
             "#bd3786"
            ],
            [
             0.5555555555555556,
             "#d8576b"
            ],
            [
             0.6666666666666666,
             "#ed7953"
            ],
            [
             0.7777777777777778,
             "#fb9f3a"
            ],
            [
             0.8888888888888888,
             "#fdca26"
            ],
            [
             1,
             "#f0f921"
            ]
           ],
           "sequentialminus": [
            [
             0,
             "#0d0887"
            ],
            [
             0.1111111111111111,
             "#46039f"
            ],
            [
             0.2222222222222222,
             "#7201a8"
            ],
            [
             0.3333333333333333,
             "#9c179e"
            ],
            [
             0.4444444444444444,
             "#bd3786"
            ],
            [
             0.5555555555555556,
             "#d8576b"
            ],
            [
             0.6666666666666666,
             "#ed7953"
            ],
            [
             0.7777777777777778,
             "#fb9f3a"
            ],
            [
             0.8888888888888888,
             "#fdca26"
            ],
            [
             1,
             "#f0f921"
            ]
           ]
          },
          "colorway": [
           "#636efa",
           "#EF553B",
           "#00cc96",
           "#ab63fa",
           "#FFA15A",
           "#19d3f3",
           "#FF6692",
           "#B6E880",
           "#FF97FF",
           "#FECB52"
          ],
          "font": {
           "color": "#2a3f5f"
          },
          "geo": {
           "bgcolor": "white",
           "lakecolor": "white",
           "landcolor": "#E5ECF6",
           "showlakes": true,
           "showland": true,
           "subunitcolor": "white"
          },
          "hoverlabel": {
           "align": "left"
          },
          "hovermode": "closest",
          "mapbox": {
           "style": "light"
          },
          "paper_bgcolor": "white",
          "plot_bgcolor": "#E5ECF6",
          "polar": {
           "angularaxis": {
            "gridcolor": "white",
            "linecolor": "white",
            "ticks": ""
           },
           "bgcolor": "#E5ECF6",
           "radialaxis": {
            "gridcolor": "white",
            "linecolor": "white",
            "ticks": ""
           }
          },
          "scene": {
           "xaxis": {
            "backgroundcolor": "#E5ECF6",
            "gridcolor": "white",
            "gridwidth": 2,
            "linecolor": "white",
            "showbackground": true,
            "ticks": "",
            "zerolinecolor": "white"
           },
           "yaxis": {
            "backgroundcolor": "#E5ECF6",
            "gridcolor": "white",
            "gridwidth": 2,
            "linecolor": "white",
            "showbackground": true,
            "ticks": "",
            "zerolinecolor": "white"
           },
           "zaxis": {
            "backgroundcolor": "#E5ECF6",
            "gridcolor": "white",
            "gridwidth": 2,
            "linecolor": "white",
            "showbackground": true,
            "ticks": "",
            "zerolinecolor": "white"
           }
          },
          "shapedefaults": {
           "line": {
            "color": "#2a3f5f"
           }
          },
          "ternary": {
           "aaxis": {
            "gridcolor": "white",
            "linecolor": "white",
            "ticks": ""
           },
           "baxis": {
            "gridcolor": "white",
            "linecolor": "white",
            "ticks": ""
           },
           "bgcolor": "#E5ECF6",
           "caxis": {
            "gridcolor": "white",
            "linecolor": "white",
            "ticks": ""
           }
          },
          "title": {
           "x": 0.05
          },
          "xaxis": {
           "automargin": true,
           "gridcolor": "white",
           "linecolor": "white",
           "ticks": "",
           "title": {
            "standoff": 15
           },
           "zerolinecolor": "white",
           "zerolinewidth": 2
          },
          "yaxis": {
           "automargin": true,
           "gridcolor": "white",
           "linecolor": "white",
           "ticks": "",
           "title": {
            "standoff": 15
           },
           "zerolinecolor": "white",
           "zerolinewidth": 2
          }
         }
        },
        "title": {
         "font": {
          "size": 16
         },
         "text": "Score vs Battle Rating with Tier (Player: Ranol, Replays: 459)",
         "x": 0.5,
         "xanchor": "center"
        },
        "width": 1000,
        "xaxis": {
         "gridcolor": "lightgray",
         "gridwidth": 1,
         "title": {
          "text": "Battle Rating"
         },
         "zeroline": false
        },
        "yaxis": {
         "gridcolor": "lightgray",
         "gridwidth": 1,
         "title": {
          "text": "Score"
         },
         "zeroline": false
        }
       }
      },
      "text/html": [
       "<div>            <script src=\"https://cdnjs.cloudflare.com/ajax/libs/mathjax/2.7.5/MathJax.js?config=TeX-AMS-MML_SVG\"></script><script type=\"text/javascript\">if (window.MathJax && window.MathJax.Hub && window.MathJax.Hub.Config) {window.MathJax.Hub.Config({SVG: {font: \"STIX-Web\"}});}</script>                <script type=\"text/javascript\">window.PlotlyConfig = {MathJaxConfig: 'local'};</script>\n",
       "        <script charset=\"utf-8\" src=\"https://cdn.plot.ly/plotly-3.1.0.min.js\" integrity=\"sha256-Ei4740bWZhaUTQuD6q9yQlgVCMPBz6CZWhevDYPv93A=\" crossorigin=\"anonymous\"></script>                <div id=\"49cab840-0f79-4eb4-a005-577007514a65\" class=\"plotly-graph-div\" style=\"height:600px; width:1000px;\"></div>            <script type=\"text/javascript\">                window.PLOTLYENV=window.PLOTLYENV || {};                                if (document.getElementById(\"49cab840-0f79-4eb4-a005-577007514a65\")) {                    Plotly.newPlot(                        \"49cab840-0f79-4eb4-a005-577007514a65\",                        [{\"customdata\":[[\"Ranol\",\"Sweden\",-1.0,\"2025-08-11T18:01:08\",\"52ef4e10023b0e5\"],[\"Ranol\",\"Sweden\",-1.0,\"2025-09-13T17:50:43\",\"55a73ed00340956\"],[\"Ranol\",\"Sweden\",-1.0,\"2025-09-13T18:07:19\",\"55a77d3003416c2\"],[\"Ranol\",\"Sweden\",-1.0,\"2025-09-13T17:34:51\",\"55a70380033fd2e\"],[\"Ranol\",\"USA\",-1.0,\"2025-09-13T17:16:02\",\"55a6bd00033ee7f\"],[\"Ranol\",\"Russia\",-1.0,\"2025-09-13T13:20:58\",\"55a34b70032fc48\"],[\"Ranol\",\"USA\",-1.0,\"2025-09-10T19:19:22\",\"556943600225790\"],[\"Ranol\",\"USA\",-1.0,\"2025-09-10T19:34:37\",\"55697ca002260e2\"],[\"Ranol\",\"Russia\",-1.0,\"2025-09-10T17:57:07\",\"55680f100222403\"],[\"Ranol\",\"France\",-1.0,\"2025-09-09T20:03:10\",\"5554cfb001d5d22\"],[\"Ranol\",\"France\",-1.0,\"2025-09-09T19:46:24\",\"555490d001d533b\"],[\"Ranol\",\"France\",-1.0,\"2025-09-08T21:29:08\",\"5540f660018724a\"],[\"Ranol\",\"France\",-1.0,\"2025-09-06T18:31:54\",\"5514314000bcd0b\"],[\"Ranol\",\"France\",-1.0,\"2025-09-06T18:21:35\",\"55140ad000bc437\"],[\"Ranol\",\"France\",-1.0,\"2025-09-06T18:02:36\",\"5513c38000bb447\"],[\"Ranol\",\"Russia\",-1.0,\"2025-09-04T18:44:11\",\"54ea2f7000b3779\"],[\"Ranol\",\"Russia\",-1.0,\"2025-09-04T17:46:19\",\"54e9569000b1238\"],[\"Ranol\",\"Russia\",-1.0,\"2025-09-04T12:15:11\",\"54e47bc000a02be\"],[\"Ranol\",\"Sweden\",-1.0,\"2025-09-03T20:11:50\",\"54d65fd00066822\"],[\"Ranol\",\"France\",-1.0,\"2025-09-02T20:37:53\",\"54c1a9b0001a8f7\"],[\"Ranol\",\"France\",-1.0,\"2025-09-02T20:09:51\",\"54c140c0001975c\"],[\"Ranol\",\"Russia\",-1.0,\"2025-09-01T17:05:36\",\"54a9728002de7d5\"],[\"Ranol\",\"France\",-1.0,\"2025-09-02T19:50:24\",\"54c0f7f00018ab9\"],[\"Ranol\",\"Russia\",-1.0,\"2025-08-31T21:47:15\",\"54987e10028df8d\"],[\"Ranol\",\"Russia\",-1.0,\"2025-08-30T18:18:23\",\"548056c002190cc\"],[\"Ranol\",\"Russia\",-1.0,\"2025-08-30T17:31:59\",\"547fa8c00216c64\"],[\"Ranol\",\"Russia\",-1.0,\"2025-08-30T17:21:08\",\"547f7fe002163fc\"],[\"Ranol\",\"Russia\",-1.0,\"2025-08-30T16:23:32\",\"547ea81002136c0\"],[\"Ranol\",\"Russia\",-1.0,\"2025-08-30T16:05:55\",\"547e65f002127ff\"],[\"Ranol\",\"Russia\",-1.0,\"2025-08-29T19:45:23\",\"546c838001b20bf\"],[\"Ranol\",\"Russia\",-1.0,\"2025-08-29T18:50:17\",\"546bb65001af21a\"],[\"Ranol\",\"Sweden\",-1.0,\"2025-08-27T19:20:10\",\"5441f5e000f187d\"],[\"Ranol\",\"Sweden\",-1.0,\"2025-08-27T19:32:28\",\"5442246000f21e0\"],[\"Ranol\",\"Sweden\",-1.0000000000000002,\"2025-08-25T23:12:43\",\"541b2e800039050\"],[\"Ranol\",\"France\",-1.0,\"2025-08-25T22:35:41\",\"541aa0b00037302\"],[\"Ranol\",\"Sweden\",-1.0,\"2025-08-24T20:54:14\",\"54040e7003c3c08\"],[\"Ranol\",\"Russia\",-1.0,\"2025-08-23T20:40:10\",\"53eec240034d241\"],[\"Ranol\",\"Russia\",-1.0,\"2025-08-23T20:09:17\",\"53ee4d20034b3fb\"],[\"Ranol\",\"Russia\",-1.0,\"2025-08-23T20:28:44\",\"53ee9750034c77a\"],[\"Ranol\",\"Russia\",-1.0,\"2025-08-23T19:51:51\",\"53ee0d30034a345\"],[\"Ranol\",\"Russia\",-1.0,\"2025-08-23T19:37:26\",\"53edd720034950d\"],[\"Ranol\",\"Russia\",-1.0,\"2025-08-23T18:53:15\",\"53ed31800346a8c\"],[\"Ranol\",\"Russia\",-1.0,\"2025-08-23T19:08:07\",\"53ed692003478dd\"],[\"Ranol\",\"Russia\",-1.0,\"2025-08-22T17:45:27\",\"53d71b4002cdda0\"],[\"Ranol\",\"Sweden\",-1.0,\"2025-08-21T17:58:54\",\"53c235c002666ee\"],[\"Ranol\",\"Sweden\",-1.0,\"2025-08-18T20:28:45\",\"53851f90013973a\"],[\"Ranol\",\"Sweden\",-1.0,\"2025-08-18T20:01:48\",\"5384ba900138193\"],[\"Ranol\",\"Sweden\",-1.0,\"2025-08-18T19:44:51\",\"53847ad0013739e\"],[\"Ranol\",\"Sweden\",-1.0,\"2025-08-18T19:21:56\",\"538424e00136001\"],[\"Ranol\",\"Sweden\",-1.0,\"2025-08-18T18:33:11\",\"53836df001336fb\"],[\"Ranol\",\"Sweden\",-1.0,\"2025-08-18T18:47:08\",\"5383a2800134298\"],[\"Ranol\",\"Sweden\",-1.0,\"2025-08-18T18:00:52\",\"5382f3000131b1c\"],[\"Ranol\",\"Sweden\",-1.0,\"2025-08-18T18:15:33\",\"53832b0001327bc\"],[\"Ranol\",\"Sweden\",-1.0,\"2025-08-18T17:28:34\",\"53827bf00130100\"],[\"Ranol\",\"Sweden\",-1.0,\"2025-08-18T17:45:11\",\"5382ba000130e62\"],[\"Ranol\",\"France\",-1.0,\"2025-08-17T15:05:17\",\"536b4aa000bf419\"],[\"Ranol\",\"France\",-1.0,\"2025-08-17T14:47:32\",\"536b080000be0f7\"],[\"Ranol\",\"France\",-1.0,\"2025-08-17T14:23:06\",\"536aac8000bc4a4\"],[\"Ranol\",\"France\",-1.0,\"2025-08-17T14:34:44\",\"536ad81000bd271\"],[\"Ranol\",\"Russia\",-1.0,\"2025-08-14T19:09:59\",\"532f98400376e81\"],[\"Ranol\",\"Russia\",-1.0,\"2025-08-14T18:59:10\",\"532f6f800376546\"],[\"Ranol\",\"Russia\",-1.0,\"2025-08-13T18:58:37\",\"531a55a0030e3ef\"],[\"Ranol\",\"Russia\",-1.0,\"2025-08-13T20:37:48\",\"531bc7e00313df6\"],[\"Ranol\",\"Russia\",-1.0,\"2025-08-13T18:31:24\",\"5319ef80030cb04\"],[\"Ranol\",\"Russia\",-1.0,\"2025-08-13T18:17:29\",\"5319bb70030be6c\"],[\"Ranol\",\"France\",-1.0,\"2025-08-13T17:21:08\",\"5318e7e00308cce\"],[\"Ranol\",\"France\",-1.0,\"2025-08-13T17:29:18\",\"53190100030926c\"],[\"Ranol\",\"France\",-1.0,\"2025-08-12T23:58:40\",\"5309a1a002ad73e\"],[\"Ranol\",\"France\",-1.0,\"2025-08-13T17:09:43\",\"5318bd200308334\"],[\"Ranol\",\"France\",-1.0,\"2025-08-12T23:46:24\",\"530974c002acd80\"],[\"Ranol\",\"Russia\",-1.0,\"2025-08-12T18:30:18\",\"5304d380029de5e\"],[\"Ranol\",\"Russia\",-1.0,\"2025-08-12T17:59:14\",\"53045ee0029c675\"],[\"Ranol\",\"Russia\",-1.0,\"2025-08-12T17:09:55\",\"5303a600029a1b2\"],[\"Ranol\",\"Russia\",-1.0,\"2025-08-12T17:23:53\",\"5303da20029abe3\"],[\"Ranol\",\"France\",-1.0,\"2025-08-12T13:33:56\",\"53007860028de9d\"],[\"Ranol\",\"France\",-1.0,\"2025-08-12T12:52:40\",\"52ffe160028ad08\"],[\"Ranol\",\"Sweden\",-1.0,\"2025-08-11T23:54:47\",\"52f47c50024bff1\"],[\"Ranol\",\"Sweden\",-1.0000000000000002,\"2025-08-12T00:17:02\",\"52f4cfb0024d303\"],[\"Ranol\",\"Russia\",-1.0,\"2025-08-11T18:25:14\",\"52efa790023c326\"],[\"Ranol\",\"Sweden\",-1.0,\"2025-08-11T17:45:22\",\"52ef12e0023a507\"],[\"Ranol\",\"Russia\",-1.0,\"2025-08-10T20:53:18\",\"52dcbb7001e061b\"],[\"Ranol\",\"Sweden\",-1.0,\"2025-08-10T18:08:00\",\"52da4fc001d876f\"],[\"Ranol\",\"Sweden\",-1.0,\"2025-08-09T15:35:07\",\"52c2fa5001651fd\"],[\"Ranol\",\"Sweden\",-1.0,\"2025-08-09T14:41:07\",\"52c22fd00161dd4\"],[\"Ranol\",\"Sweden\",-1.0,\"2025-08-07T23:25:12\",\"529fad4000b13d8\"],[\"Ranol\",\"France\",-1.0,\"2025-08-09T13:27:31\",\"52c11be0015c823\"],[\"Ranol\",\"Sweden\",-1.0,\"2025-08-07T23:09:07\",\"529f70b000b06dc\"],[\"Ranol\",\"Sweden\",-1.0000000000000002,\"2025-08-06T19:42:48\",\"528753400046049\"],[\"Ranol\",\"Sweden\",-1.0,\"2025-08-04T08:07:03\",\"5252f24003585e3\"],[\"Ranol\",\"Sweden\",-1.0,\"2025-08-04T08:36:37\",\"52536110035b1fa\"],[\"Ranol\",\"Sweden\",-1.0,\"2025-08-03T12:48:53\",\"5241fb00030f356\"],[\"Ranol\",\"Sweden\",-1.0,\"2025-08-03T12:04:30\",\"524154b0030b1e3\"],[\"Ranol\",\"Sweden\",-1.0,\"2025-08-03T11:42:03\",\"524100700308ff6\"],[\"Ranol\",\"Sweden\",-1.0,\"2025-08-02T20:29:26\",\"5233a23002bdf82\"],[\"Ranol\",\"Russia\",-1.0,\"2025-08-02T18:05:04\",\"5231848002b65d4\"],[\"Ranol\",\"Sweden\",-1.0,\"2025-08-02T13:03:45\",\"522d1ad002a41ac\"],[\"Ranol\",\"Sweden\",-1.0,\"2025-08-02T13:57:14\",\"522de34002a86bd\"],[\"Ranol\",\"Russia\",-1.0,\"2025-08-01T20:20:00\",\"521e66d00256b67\"],[\"Ranol\",\"Sweden\",-1.0,\"2025-08-01T19:09:34\",\"521d5eb00253048\"],[\"Ranol\",\"Sweden\",-1.0,\"2025-08-01T18:39:30\",\"521cecc002517dd\"],[\"Ranol\",\"Sweden\",-1.0,\"2025-08-01T18:53:44\",\"521d23300252358\"],[\"Ranol\",\"Sweden\",-1.0,\"2025-08-01T18:13:27\",\"521c8c5002503bc\"],[\"Ranol\",\"Sweden\",-1.0,\"2025-07-31T21:58:53\",\"520abff001f9f56\"],[\"Ranol\",\"Sweden\",-1.0,\"2025-07-31T21:48:11\",\"520a986001f97ac\"],[\"Ranol\",\"Russia\",-1.0,\"2025-07-30T19:16:02\",\"51f346f00194975\"],[\"Ranol\",\"Russia\",-1.0,\"2025-07-30T18:49:51\",\"51f2e4b00193564\"],[\"Ranol\",\"Russia\",-1.0,\"2025-07-30T18:30:28\",\"51f29bc00192676\"],[\"Ranol\",\"Russia\",-1.0,\"2025-07-30T17:45:26\",\"51f1f3000190561\"],[\"Ranol\",\"Russia\",-1.0,\"2025-07-29T19:28:30\",\"51de5d90013516f\"],[\"Ranol\",\"Russia\",-1.0,\"2025-07-29T18:31:12\",\"51dd86b0013255f\"],[\"Ranol\",\"Russia\",-1.0,\"2025-07-29T17:43:19\",\"51dcd3500130255\"],[\"Ranol\",\"Russia\",-1.0,\"2025-07-29T18:06:47\",\"51dd2b300131341\"],[\"Ranol\",\"Russia\",-1.0,\"2025-07-29T17:22:11\",\"51dc83f0012f346\"],[\"Ranol\",\"Russia\",-1.0,\"2025-07-27T16:31:20\",\"51b195200069259\"],[\"Ranol\",\"Russia\",-1.0,\"2025-07-27T16:54:21\",\"51b1eb70006a3f9\"],[\"Ranol\",\"Russia\",-1.0,\"2025-07-27T15:38:24\",\"51b0ced000666b1\"],[\"Ranol\",\"Russia\",-1.0,\"2025-07-27T15:26:43\",\"51b0a2b00065c43\"],[\"Ranol\",\"Russia\",-1.0,\"2025-07-27T15:00:17\",\"51b03fe00064352\"],[\"Ranol\",\"Russia\",-1.0,\"2025-07-27T14:42:07\",\"51affba000630a4\"],[\"Ranol\",\"Russia\",-1.0,\"2025-07-27T13:33:28\",\"51aefa50005df3a\"],[\"Ranol\",\"Russia\",-1.0,\"2025-07-27T13:10:01\",\"51aea260005bee0\"],[\"Ranol\",\"Sweden\",-1.0,\"2025-07-27T12:37:40\",\"51ae29000058f28\"],[\"Ranol\",\"Sweden\",-1.0,\"2025-07-27T00:12:39\",\"51a33e700013f37\"],[\"Ranol\",\"Sweden\",-1.2999999999999998,\"2025-07-27T12:18:53\",\"51ade29000572aa\"],[\"Ranol\",\"Sweden\",-1.0,\"2025-07-26T11:19:29\",\"5197eaf003e44b6\"],[\"Ranol\",\"Russia\",-1.0,\"2025-07-26T01:49:04\",\"518f8e6003b2074\"],[\"Ranol\",\"Russia\",-1.0,\"2025-07-26T01:37:48\",\"518f669003b14aa\"],[\"Ranol\",\"Russia\",-1.0,\"2025-07-26T01:15:13\",\"518f11d003afc85\"],[\"Ranol\",\"Russia\",-1.0,\"2025-07-24T18:27:03\",\"5173ff20033878e\"],[\"Ranol\",\"Russia\",-1.0,\"2025-07-24T18:41:17\",\"517434800339263\"],[\"Ranol\",\"Russia\",-1.0,\"2025-07-24T18:04:50\",\"5173abd0033772a\"],[\"Ranol\",\"Russia\",-1.0,\"2025-07-24T17:31:22\",\"51732e300335ef6\"],[\"Ranol\",\"Russia\",-1.0,\"2025-07-24T17:50:55\",\"517377a00336cfb\"],[\"Ranol\",\"Russia\",-1.0,\"2025-07-24T17:10:09\",\"5172dee00335075\"],[\"Ranol\",\"Russia\",-1.0,\"2025-07-23T19:44:54\",\"51600ad002dc28f\"],[\"Ranol\",\"Russia\",-1.0,\"2025-07-23T19:01:49\",\"515f689002d9fcb\"],[\"Ranol\",\"Russia\",-1.0,\"2025-07-23T19:18:41\",\"515fa89002dad8e\"],[\"Ranol\",\"Russia\",-1.0,\"2025-07-23T18:35:59\",\"515f07f002d8b95\"],[\"Ranol\",\"Russia\",-1.0,\"2025-07-23T18:26:36\",\"515ee57002d8457\"],[\"Ranol\",\"Russia\",-1.0,\"2025-07-22T17:42:10\",\"5149251002783c9\"],[\"Ranol\",\"Sweden\",-1.0,\"2025-07-22T12:10:04\",\"51444970026447b\"],[\"Ranol\",\"Russia\",-1.0,\"2025-07-21T19:19:52\",\"51357d50021eb73\"],[\"Ranol\",\"Sweden\",-1.0,\"2025-07-21T18:15:58\",\"51348db0021ba30\"],[\"Ranol\",\"Russia\",-1.0,\"2025-07-21T17:37:32\",\"5133fd500219e47\"],[\"Ranol\",\"Russia\",-1.0,\"2025-07-21T17:13:09\",\"5133a2200218cc1\"],[\"Ranol\",\"Sweden\",-1.0,\"2025-07-20T23:57:31\",\"5124767001ca699\"],[\"Ranol\",\"Russia\",-1.0,\"2025-07-20T17:03:48\",\"511e671001b6baf\"],[\"Ranol\",\"Sweden\",-1.0,\"2025-07-20T16:04:46\",\"511d89b001b3e6a\"],[\"Ranol\",\"Sweden\",-1.0,\"2025-07-19T22:23:45\",\"510dfe70015bbc4\"],[\"Ranol\",\"Sweden\",-1.0,\"2025-07-19T22:19:18\",\"510dedf0015b7d0\"],[\"Ranol\",\"Sweden\",-1.0,\"2025-07-19T10:53:09\",\"5103e1200130b5b\"],[\"Ranol\",\"Sweden\",-1.0,\"2025-07-18T16:41:53\",\"50f3e4d000e3890\"],[\"Ranol\",\"Sweden\",-1.0,\"2025-07-18T16:29:43\",\"50f3b6a000e2f4b\"],[\"Ranol\",\"Sweden\",-1.0,\"2025-07-18T16:38:33\",\"50f3d86000e361a\"],[\"Ranol\",\"Sweden\",-1.0,\"2025-07-17T22:39:42\",\"50e40ab00093509\"],[\"Ranol\",\"Sweden\",-1.0,\"2025-07-17T09:33:44\",\"50d887500062f7f\"],[\"Ranol\",\"Sweden\",-1.0,\"2025-07-17T09:39:36\",\"50d89d4000637e5\"],[\"Ranol\",\"Sweden\",-1.0,\"2025-07-16T21:27:29\",\"50cde3f0002fbe2\"],[\"Ranol\",\"Sweden\",-1.0,\"2025-07-15T09:23:24\",\"50ae309003a1af1\"],[\"Ranol\",\"Sweden\",-1.0,\"2025-07-14T12:28:58\",\"509bd0300350a3a\"],[\"Ranol\",\"Sweden\",-1.0,\"2025-07-14T12:41:07\",\"509bfdc00351b55\"],[\"Ranol\",\"Sweden\",-1.0,\"2025-07-14T12:18:02\",\"509ba770034fa79\"],[\"Ranol\",\"Sweden\",-1.2999999999999998,\"2025-07-13T21:45:14\",\"508edd50030cb75\"],[\"Ranol\",\"Sweden\",-1.0,\"2025-07-14T12:02:46\",\"509b6d90034e3cd\"],[\"Ranol\",\"Sweden\",-1.0,\"2025-07-13T21:10:37\",\"508e5c90030b242\"],[\"Ranol\",\"Sweden\",-1.0,\"2025-07-13T20:28:32\",\"508dbe9003092ea\"],[\"Ranol\",\"Sweden\",-1.0,\"2025-07-13T13:43:10\",\"5087ce6002f2f79\"],[\"Ranol\",\"Sweden\",-1.0,\"2025-07-13T14:00:19\",\"50880de002f44e2\"],[\"Ranol\",\"Sweden\",-1.2999999999999998,\"2025-07-13T13:20:19\",\"5087786002f111b\"],[\"Ranol\",\"Sweden\",-1.0,\"2025-07-13T12:22:52\",\"5086a19002ebded\"],[\"Ranol\",\"Sweden\",-1.0,\"2025-07-13T12:01:06\",\"50864ff002e9c9f\"],[\"Ranol\",\"Sweden\",-1.2999999999999998,\"2025-07-13T12:12:38\",\"50867a2002eadf1\"],[\"Ranol\",\"Russia\",-1.0,\"2025-07-11T22:02:41\",\"5064ee200234b90\"],[\"Ranol\",\"Russia\",-1.0,\"2025-07-11T21:14:43\",\"50643bf00232318\"],[\"Ranol\",\"Russia\",-1.0,\"2025-07-11T21:32:31\",\"50647eb002331ef\"],[\"Ranol\",\"Russia\",-1.0,\"2025-07-11T21:03:02\",\"50641000023190d\"],[\"Ranol\",\"Russia\",-1.0,\"2025-07-11T20:51:34\",\"5063e5400230f6e\"],[\"Ranol\",\"Russia\",-1.0,\"2025-07-11T20:07:18\",\"50633f30022e8e5\"],[\"Ranol\",\"Russia\",-1.0,\"2025-07-11T19:56:01\",\"506314e0022def1\"],[\"Ranol\",\"Russia\",-1.0,\"2025-07-11T19:38:47\",\"5062d430022cfb6\"],[\"Ranol\",\"Russia\",-1.0,\"2025-07-11T18:41:02\",\"5061f5600229d09\"],[\"Ranol\",\"Russia\",-1.0,\"2025-07-11T18:57:27\",\"50623690022ab9d\"],[\"Ranol\",\"Russia\",-1.0,\"2025-07-11T17:44:42\",\"506128800227245\"],[\"Ranol\",\"Russia\",-1.0,\"2025-07-11T18:01:34\",\"506167b00227f1c\"],[\"Ranol\",\"Sweden\",-1.0,\"2025-07-11T00:26:25\",\"5051f2a001d7ff6\"],[\"Ranol\",\"Sweden\",-1.0,\"2025-07-11T00:17:20\",\"5051d0e001d7858\"],[\"Ranol\",\"Sweden\",-1.0,\"2025-07-10T23:54:31\",\"50517ab001d6588\"],[\"Ranol\",\"Sweden\",-1.2999999999999998,\"2025-07-10T23:59:54\",\"50518e5001d69e2\"],[\"Ranol\",\"Sweden\",-1.0,\"2025-07-10T23:35:40\",\"5051348001d5608\"]],\"hovertemplate\":\"\\u003cb\\u003e%{customdata[0]}\\u003c\\u002fb\\u003e\\u003cbr\\u003eBattle Rating: %{x}\\u003cbr\\u003eScore: %{y}\\u003cbr\\u003eCountry: %{customdata[1]}\\u003cbr\\u003eTier Status: Downtier\\u003cbr\\u003eBR Delta: %{customdata[2]:.2f}\\u003cbr\\u003eDate: %{customdata[3]|%Y-%m-%d %H:%M}\\u003cbr\\u003e\\u003cextra\\u003e\\u003c\\u002fextra\\u003e\",\"marker\":{\"color\":\"#ff0000\",\"line\":{\"color\":\"white\",\"width\":1},\"opacity\":0.7,\"size\":8},\"mode\":\"markers\",\"name\":\"Downtier\",\"x\":{\"dtype\":\"f8\",\"bdata\":\"AAAAAAAA8D\\u002fNzMzMzMwaQM3MzMzMzBpAzczMzMzMFkCamZmZmZkNQAAAAAAAABRAmpmZmZmZDUCamZmZmZkNQAAAAAAAABRAmpmZmZmZBUCamZmZmZkFQJqZmZmZmQVAZmZmZmZmAkBmZmZmZmYCQGZmZmZmZgJAAAAAAAAAFEAAAAAAAAAUQAAAAAAAABRAzczMzMzMFkBmZmZmZmYCQGZmZmZmZgJAmpmZmZmZBUBmZmZmZmYCQJqZmZmZmQVAmpmZmZmZBUAAAAAAAAAUQAAAAAAAABRAAAAAAAAAFEAAAAAAAAAUQDMzMzMzMxFAMzMzMzMzEUDNzMzMzMwaQM3MzMzMzBpAMzMzMzMz+z9mZmZmZmYCQJqZmZmZmQVAzczMzMzMEkDNzMzMzMwSQM3MzMzMzBJAzczMzMzMEkDNzMzMzMwSQM3MzMzMzBJAzczMzMzMEkAzMzMzMzMRQM3MzMzMzBZAzczMzMzMFkDNzMzMzMwWQM3MzMzMzBZAzczMzMzMFkDNzMzMzMwWQM3MzMzMzBZAzczMzMzMFkDNzMzMzMwWQM3MzMzMzBZAzczMzMzMFkAAAAAAAADwPwAAAAAAAPA\\u002fAAAAAAAA8D8AAAAAAADwPwAAAAAAABBAAAAAAAAAEEDNzMzMzMwSQM3MzMzMzBJAzczMzMzMEkDNzMzMzMwSQAAAAAAAAPA\\u002fAAAAAAAA8D8AAAAAAADwPwAAAAAAAPA\\u002fAAAAAAAA8D8AAAAAAAAQQAAAAAAAABBAAAAAAAAAEEAAAAAAAAAQQAAAAAAAAPA\\u002fAAAAAAAA8D8AAAAAAADwPzMzMzMzM\\u002fs\\u002fAAAAAAAAEEAAAAAAAADwPwAAAAAAABBAzczMzMzMGkAAAAAAAAAQQAAAAAAAABBAzczMzMzMGkAAAAAAAADwP83MzMzMzBpAMzMzMzMz+z\\u002fNzMzMzMwaQM3MzMzMzBpAAAAAAAAAEEAAAAAAAAAQQAAAAAAAABBAAAAAAAAAEEAAAAAAAAAQQM3MzMzMzBZAzczMzMzMFkAAAAAAAAAQQDMzMzMzMxVAMzMzMzMzFUAzMzMzMzMVQAAAAAAAABRAzczMzMzMFkDNzMzMzMwaQJqZmZmZmQ1AmpmZmZmZDUCamZmZmZkNQJqZmZmZmQ1AmpmZmZmZDUCamZmZmZkNQJqZmZmZmQ1AmpmZmZmZDUCamZmZmZkNQJqZmZmZmQ1AmpmZmZmZDUCamZmZmZkNQJqZmZmZmQ1AmpmZmZmZDUCamZmZmZkNQJqZmZmZmQVAmpmZmZmZBUDNzMzMzMwaQM3MzMzMzBZAzczMzMzMGkDNzMzMzMwWQGZmZmZmZgpAZmZmZmZmCkBmZmZmZmYKQGZmZmZmZgpAZmZmZmZmCkBmZmZmZmYKQGZmZmZmZgpAZmZmZmZmCkBmZmZmZmYKQGZmZmZmZgpAZmZmZmZmCkBmZmZmZmYKQGZmZmZmZgpAZmZmZmZmCkCamZmZmZkFQM3MzMzMzBpAmpmZmZmZBUCamZmZmZkFQJqZmZmZmQVAmpmZmZmZBUDNzMzMzMwaQGZmZmZmZgJAzczMzMzMGkDNzMzMzMwWQM3MzMzMzBZAzczMzMzMFkDNzMzMzMwWQM3MzMzMzBZAzczMzMzMFkDNzMzMzMwWQM3MzMzMzBZAzczMzMzMFkDNzMzMzMwWQM3MzMzMzBZAzczMzMzMFkDNzMzMzMwWQM3MzMzMzBZAzczMzMzMGkDNzMzMzMwaQM3MzMzMzBpAzczMzMzMGkDNzMzMzMwaQM3MzMzMzBpAzczMzMzMGkDNzMzMzMwaQM3MzMzMzBZAzczMzMzMGkBmZmZmZmYCQGZmZmZmZgJAZmZmZmZmAkBmZmZmZmYCQGZmZmZmZgJAZmZmZmZmAkBmZmZmZmYCQGZmZmZmZgJAZmZmZmZmAkBmZmZmZmYCQGZmZmZmZgJAZmZmZmZmAkDNzMzMzMwaQM3MzMzMzBpAzczMzMzMFkDNzMzMzMwaQM3MzMzMzBZA\"},\"y\":{\"dtype\":\"i2\",\"bdata\":\"BBUFBy4GZggJCUICvw0dBUgHjQbJDAoHTAUIAg8G9gLgAv4FlgLfBqoKLQ2pD+QExQbpAogHiAImC8IFXQV+AgkFTARMB6oDUwjjBhoFYQhJAlsCQwZZAocD9wYgCrEHFgEFBTUL2gN3B6sHAwQRB10BqgXRBXMLcgl4BsYGoAVEB4ID1QbsAtcE6wRuCSwH5gcNCXUJewiqCv0KtQclEJQNrAdhBcoKTgI6CjIERwcOBfQDMhLnCF4ENwvWAnkFLQg+BK4E9wN5BPoE0gHoAz4DpAOLBBsGSgZYBL8JrAOXCs8HKQf2BXMDxwMiBG0IVQZAAeYIJALIBVUIlQotBRAE9wkbAwENqwovCzoCWQgTBMwBCwEKCZMEzBLlDPEFyQUIA0sGkgdFBJ0A6AITArMEgQBhAxMCAQNeA8AMOgeiAKUDOQLkA+wEzQSOBOACcAEKALMBtQOiBGgHCgjRBmMDPw7BAdMGDAebA5ACwQsOAxgBgwATA38C\"},\"type\":\"scatter\"},{\"customdata\":[[\"Ranol\",\"Russia\",-0.7000000000000002,\"2025-08-10T20:23:36\",\"52dc4c6001deff7\"],[\"Ranol\",\"Germany\",-0.7,\"2025-09-11T20:40:43\",\"557f8bf00279bc5\"],[\"Ranol\",\"Germany\",-0.7,\"2025-09-11T20:31:04\",\"557f6840027968e\"],[\"Ranol\",\"Germany\",-0.9999999999999998,\"2025-09-11T20:02:11\",\"557efc00027861c\"],[\"Ranol\",\"Germany\",-0.7,\"2025-09-11T20:15:27\",\"557f2dd00278dc1\"],[\"Ranol\",\"Germany\",-0.9999999999999998,\"2025-09-11T19:41:26\",\"557eae3002779c4\"],[\"Ranol\",\"Germany\",-0.7,\"2025-09-11T19:54:16\",\"557edbc00278104\"],[\"Ranol\",\"Russia\",-0.7000000000000002,\"2025-09-08T18:33:38\",\"553e67f00180a4b\"],[\"Ranol\",\"Russia\",-0.7000000000000002,\"2025-09-04T18:24:34\",\"54e9e5f000b2aee\"],[\"Ranol\",\"Russia\",-0.7000000000000002,\"2025-09-04T18:09:47\",\"54e9ae6000b214e\"],[\"Ranol\",\"Russia\",-0.7000000000000002,\"2025-09-04T17:56:22\",\"54e97c2000b18a7\"],[\"Ranol\",\"Russia\",-0.7000000000000002,\"2025-09-04T11:51:48\",\"54e42510009e5a3\"],[\"Ranol\",\"Sweden\",-0.7000000000000002,\"2025-09-03T19:59:03\",\"54d6300000660e0\"],[\"Ranol\",\"Russia\",-0.7000000000000002,\"2025-08-30T16:54:40\",\"547f1cd00214f30\"],[\"Ranol\",\"Russia\",-0.7000000000000002,\"2025-08-29T20:25:20\",\"546d1ad001b43d4\"],[\"Ranol\",\"Russia\",-0.7000000000000002,\"2025-08-29T19:59:30\",\"546cb9c001b2d8d\"],[\"Ranol\",\"Russia\",-0.7000000000000002,\"2025-08-29T19:14:24\",\"546c10c001b065f\"],[\"Ranol\",\"Russia\",-0.7000000000000002,\"2025-08-29T19:31:48\",\"546c51f001b1534\"],[\"Ranol\",\"Russia\",-0.7000000000000002,\"2025-08-29T19:01:23\",\"546be00001afb90\"],[\"Ranol\",\"France\",-0.7000000000000002,\"2025-08-27T19:50:46\",\"5442692000f2fb2\"],[\"Ranol\",\"France\",-0.7000000000000002,\"2025-08-25T20:20:46\",\"5418a9c00030c22\"],[\"Ranol\",\"France\",-0.7,\"2025-08-25T19:54:37\",\"54184680002f580\"],[\"Ranol\",\"France\",-0.7,\"2025-08-25T19:41:57\",\"54181730002ea7c\"],[\"Ranol\",\"Russia\",-0.7000000000000002,\"2025-08-24T19:45:02\",\"54030bb003c0637\"],[\"Ranol\",\"Russia\",-0.7000000000000002,\"2025-08-24T19:14:14\",\"5402982003bec69\"],[\"Ranol\",\"France\",-0.7,\"2025-08-22T22:32:33\",\"53db4de002de30e\"],[\"Ranol\",\"France\",-0.7,\"2025-08-22T22:47:27\",\"53db854002df0ff\"],[\"Ranol\",\"Russia\",-0.7,\"2025-08-22T20:34:55\",\"53d996c002d7a42\"],[\"Ranol\",\"Russia\",-0.7,\"2025-08-22T22:12:19\",\"53daff1002dd07a\"],[\"Ranol\",\"Russia\",-0.7,\"2025-08-22T20:23:10\",\"53d969e002d6f24\"],[\"Ranol\",\"Russia\",-0.7000000000000002,\"2025-08-22T19:27:39\",\"53d89a8002d3a8b\"],[\"Ranol\",\"Russia\",-0.9999999999999998,\"2025-08-22T20:10:12\",\"53d939e002d62eb\"],[\"Ranol\",\"Russia\",-0.7000000000000002,\"2025-08-22T18:40:40\",\"53d7ea5002d0f04\"],[\"Ranol\",\"Russia\",-0.7000000000000002,\"2025-08-22T18:57:03\",\"53d8273002d1de4\"],[\"Ranol\",\"Russia\",-0.7000000000000002,\"2025-08-21T19:21:56\",\"53c36ce0026acf9\"],[\"Ranol\",\"Russia\",-0.7000000000000002,\"2025-08-21T18:26:32\",\"53c29d500267e30\"],[\"Ranol\",\"France\",-0.7,\"2025-08-20T22:22:39\",\"53b0f560020c744\"],[\"Ranol\",\"France\",-0.7,\"2025-08-21T11:42:55\",\"53bcb3b0024db3f\"],[\"Ranol\",\"France\",-0.7,\"2025-08-20T21:14:04\",\"53aff990020950e\"],[\"Ranol\",\"France\",-0.7,\"2025-08-20T22:09:41\",\"53b0ca20020be7d\"],[\"Ranol\",\"France\",-0.9999999999999998,\"2025-08-19T21:39:27\",\"539b407001a569a\"],[\"Ranol\",\"France\",-0.7,\"2025-08-20T20:59:06\",\"53afc17002089eb\"],[\"Ranol\",\"France\",-0.7,\"2025-08-19T21:29:12\",\"539b180001a4e79\"],[\"Ranol\",\"France\",-0.9999999999999998,\"2025-08-19T20:56:46\",\"539aa0b001a3707\"],[\"Ranol\",\"France\",-0.9999999999999998,\"2025-08-18T23:50:01\",\"538812200143195\"],[\"Ranol\",\"France\",-0.7,\"2025-08-18T23:23:45\",\"5387afc00141c25\"],[\"Ranol\",\"France\",-0.7,\"2025-08-18T23:38:52\",\"5387e8600142859\"],[\"Ranol\",\"France\",-0.7,\"2025-08-17T15:34:17\",\"536bb4e000c10df\"],[\"Ranol\",\"France\",-0.7,\"2025-08-17T15:44:33\",\"536bddc000c1b3c\"],[\"Ranol\",\"France\",-0.7,\"2025-08-17T14:56:20\",\"536b291000beac9\"],[\"Ranol\",\"Russia\",-0.7000000000000002,\"2025-08-14T18:42:36\",\"532f31700375761\"],[\"Ranol\",\"Russia\",-0.7000000000000002,\"2025-08-14T18:29:18\",\"532effb00374c42\"],[\"Ranol\",\"Russia\",-0.7000000000000002,\"2025-08-14T18:04:01\",\"532ea0e00373763\"],[\"Ranol\",\"Russia\",-0.7000000000000002,\"2025-08-14T18:17:35\",\"532ed3b0037428c\"],[\"Ranol\",\"Russia\",-0.7000000000000002,\"2025-08-14T17:52:01\",\"532e73d00372dd8\"],[\"Ranol\",\"Russia\",-0.7000000000000002,\"2025-08-12T22:12:32\",\"530814e002a861b\"],[\"Ranol\",\"Russia\",-0.7000000000000002,\"2025-08-12T22:00:01\",\"5307e35002a7c98\"],[\"Ranol\",\"Russia\",-0.7000000000000002,\"2025-08-12T19:00:42\",\"53054580029f639\"],[\"Ranol\",\"Russia\",-0.7000000000000002,\"2025-08-12T18:15:46\",\"53049cf0029d33f\"],[\"Ranol\",\"Russia\",-0.7000000000000002,\"2025-08-12T17:44:52\",\"530428a0029bba8\"],[\"Ranol\",\"France\",-0.7,\"2025-08-12T13:14:54\",\"53003470028c8e9\"],[\"Ranol\",\"Russia\",-0.7000000000000002,\"2025-08-10T20:06:54\",\"52dc0da001de33c\"],[\"Ranol\",\"Russia\",-0.7000000000000002,\"2025-08-10T20:38:36\",\"52dc849001dfb5a\"],[\"Ranol\",\"Russia\",-0.7000000000000002,\"2025-08-10T19:41:21\",\"52dbadb001dcf39\"],[\"Ranol\",\"Russia\",-0.7000000000000002,\"2025-08-10T19:33:25\",\"52db8ff001dc8fb\"],[\"Ranol\",\"Russia\",-0.7000000000000002,\"2025-08-10T18:37:01\",\"52dabc4001d9d4e\"],[\"Ranol\",\"Russia\",-0.7000000000000002,\"2025-08-10T18:27:09\",\"52da975001d95dd\"],[\"Ranol\",\"Russia\",-0.7000000000000002,\"2025-08-10T14:45:56\",\"52d7599001ce5f7\"],[\"Ranol\",\"Russia\",-0.7000000000000002,\"2025-08-10T14:14:37\",\"52d6e4a001cc519\"],[\"Ranol\",\"Russia\",-0.7000000000000002,\"2025-08-10T14:29:46\",\"52d71d6001cd57e\"],[\"Ranol\",\"Russia\",-0.7000000000000002,\"2025-08-10T13:40:35\",\"52d6650001c9d54\"],[\"Ranol\",\"Russia\",-0.7000000000000002,\"2025-08-10T13:57:02\",\"52d6a2a001cb103\"],[\"Ranol\",\"Russia\",-0.7000000000000002,\"2025-08-10T13:23:33\",\"52d624e001c879f\"],[\"Ranol\",\"Russia\",-0.7000000000000002,\"2025-08-10T13:07:48\",\"52d5ea1001c72ec\"],[\"Ranol\",\"Sweden\",-0.7000000000000002,\"2025-08-09T15:23:54\",\"52c2d05001647b5\"],[\"Ranol\",\"Russia\",-0.7000000000000002,\"2025-08-09T15:00:26\",\"52c27850016314f\"],[\"Ranol\",\"Sweden\",-0.7000000000000002,\"2025-08-09T15:10:09\",\"52c29cd00163aa8\"],[\"Ranol\",\"Russia\",-0.7000000000000002,\"2025-08-09T13:43:01\",\"52c15500015db26\"],[\"Ranol\",\"Sweden\",-0.7000000000000002,\"2025-08-09T14:18:29\",\"52c1db20016053b\"],[\"Ranol\",\"Sweden\",-0.7000000000000002,\"2025-08-04T18:35:06\",\"525c25700385720\"],[\"Ranol\",\"Sweden\",-0.7000000000000002,\"2025-08-04T18:20:05\",\"525bed100384bb6\"],[\"Ranol\",\"Sweden\",-0.7000000000000002,\"2025-08-04T17:58:05\",\"525b9a800383b9a\"],[\"Ranol\",\"Sweden\",-0.7000000000000002,\"2025-08-04T17:13:50\",\"525af4b00381b21\"],[\"Ranol\",\"Sweden\",-0.7000000000000002,\"2025-08-04T17:39:59\",\"525b56c00382e22\"],[\"Ranol\",\"Sweden\",-0.7000000000000002,\"2025-08-03T13:24:14\",\"52427fb00312465\"],[\"Ranol\",\"Sweden\",-0.7000000000000002,\"2025-08-03T13:34:05\",\"5242a4a0031317a\"],[\"Ranol\",\"Sweden\",-0.7000000000000002,\"2025-08-03T13:10:24\",\"52424bd003111ba\"],[\"Ranol\",\"Sweden\",-0.7000000000000002,\"2025-08-03T12:32:03\",\"5241bbe0030dac1\"],[\"Ranol\",\"Sweden\",-0.7000000000000002,\"2025-08-03T12:16:50\",\"524182e0030c41e\"],[\"Ranol\",\"Sweden\",-0.7000000000000002,\"2025-08-03T11:17:54\",\"5240a5e00306ae9\"],[\"Ranol\",\"Sweden\",-0.7000000000000002,\"2025-08-02T20:01:59\",\"52333b4002bc763\"],[\"Ranol\",\"Sweden\",-0.7000000000000002,\"2025-08-02T20:15:03\",\"52336c0002bd2b7\"],[\"Ranol\",\"Sweden\",-0.7000000000000002,\"2025-08-02T19:46:49\",\"5233026002bba18\"],[\"Ranol\",\"Russia\",-0.7000000000000002,\"2025-08-02T19:19:50\",\"52329d3002ba293\"],[\"Ranol\",\"Russia\",-0.7000000000000002,\"2025-08-02T18:31:18\",\"5231e72002b7a45\"],[\"Ranol\",\"Russia\",-0.7000000000000002,\"2025-08-02T18:53:32\",\"52323aa002b8c63\"],[\"Ranol\",\"Russia\",-0.7000000000000002,\"2025-08-02T18:19:16\",\"5231b98002b70ab\"],[\"Ranol\",\"Russia\",-0.7000000000000002,\"2025-08-02T16:16:23\",\"522fed5002b11f2\"],[\"Ranol\",\"Russia\",-0.7000000000000002,\"2025-08-02T17:34:00\",\"5231105002b4dd6\"],[\"Ranol\",\"Russia\",-0.7000000000000002,\"2025-08-02T16:06:13\",\"522fc72002b09bf\"],[\"Ranol\",\"Russia\",-0.7000000000000002,\"2025-08-02T15:49:59\",\"522f8a4002afc0d\"],[\"Ranol\",\"Russia\",-0.7000000000000002,\"2025-08-02T15:32:43\",\"522f499002aecd6\"],[\"Ranol\",\"Russia\",-0.7000000000000002,\"2025-08-02T15:10:32\",\"522ef66002ad78b\"],[\"Ranol\",\"Russia\",-0.7000000000000002,\"2025-08-01T20:40:58\",\"521eb5200257d52\"],[\"Ranol\",\"Russia\",-0.7000000000000002,\"2025-08-01T19:58:02\",\"521e148002558b3\"],[\"Ranol\",\"Russia\",-0.7000000000000002,\"2025-08-01T19:43:22\",\"521ddd600254c7c\"],[\"Ranol\",\"Russia\",-0.7000000000000002,\"2025-08-01T19:28:45\",\"521da6900254006\"],[\"Ranol\",\"Russia\",-0.7000000000000002,\"2025-07-31T19:19:53\",\"52086d2001f2a3c\"],[\"Ranol\",\"Russia\",-0.7000000000000002,\"2025-07-31T18:57:44\",\"52081a1001f1945\"],[\"Ranol\",\"Russia\",-0.7000000000000002,\"2025-07-31T18:23:26\",\"520799a001eff01\"],[\"Ranol\",\"Russia\",-0.7000000000000002,\"2025-07-31T18:37:43\",\"5207cf4001f09d9\"],[\"Ranol\",\"Russia\",-0.7000000000000002,\"2025-07-23T19:29:42\",\"515fd24002db690\"],[\"Ranol\",\"Russia\",-0.7000000000000002,\"2025-07-23T18:47:27\",\"515f33c002d94ba\"],[\"Ranol\",\"Russia\",-0.7000000000000002,\"2025-07-23T18:14:45\",\"515eb91002d7b6a\"],[\"Ranol\",\"Russia\",-0.7000000000000002,\"2025-07-20T16:42:00\",\"511e154001b5b28\"],[\"Ranol\",\"Russia\",-0.7000000000000002,\"2025-07-20T16:27:33\",\"511ddf3001b5021\"],[\"Ranol\",\"Russia\",-0.7000000000000002,\"2025-07-11T21:43:58\",\"5064a4500233a9c\"],[\"Ranol\",\"Russia\",-0.7000000000000002,\"2025-07-11T20:40:18\",\"5063bb000230592\"],[\"Ranol\",\"Russia\",-0.7000000000000002,\"2025-07-11T19:24:38\",\"50629f40022c39e\"],[\"Ranol\",\"Russia\",-0.7000000000000002,\"2025-07-11T18:21:12\",\"5061b1200228e77\"],[\"Ranol\",\"Russia\",-0.7,\"2025-07-11T17:25:02\",\"5060dea0022634a\"]],\"hovertemplate\":\"\\u003cb\\u003e%{customdata[0]}\\u003c\\u002fb\\u003e\\u003cbr\\u003eBattle Rating: %{x}\\u003cbr\\u003eScore: %{y}\\u003cbr\\u003eCountry: %{customdata[1]}\\u003cbr\\u003eTier Status: Partial Downtier\\u003cbr\\u003eBR Delta: %{customdata[2]:.2f}\\u003cbr\\u003eDate: %{customdata[3]|%Y-%m-%d %H:%M}\\u003cbr\\u003e\\u003cextra\\u003e\\u003c\\u002fextra\\u003e\",\"marker\":{\"color\":\"#FF5A00\",\"line\":{\"color\":\"white\",\"width\":1},\"opacity\":0.7,\"size\":8},\"mode\":\"markers\",\"name\":\"Partial Downtier\",\"x\":{\"dtype\":\"f8\",\"bdata\":\"AAAAAAAAEEDNzMzMzMz0P83MzMzMzPQ\\u002fzczMzMzM9D\\u002fNzMzMzMz0P83MzMzMzPQ\\u002fzczMzMzM9D8zMzMzMzMRQAAAAAAAABRAAAAAAAAAFEAAAAAAAAAUQAAAAAAAABRAMzMzMzMzFUAAAAAAAAAUQDMzMzMzMxFAMzMzMzMzEUAzMzMzMzMRQDMzMzMzMxFAMzMzMzMzEUBmZmZmZmYCQGZmZmZmZgJAzczMzMzM9D\\u002fNzMzMzMz0PzMzMzMzMxFAMzMzMzMzEUDNzMzMzMz0P83MzMzMzPQ\\u002fzczMzMzM9D\\u002fNzMzMzMz0P83MzMzMzPQ\\u002fMzMzMzMzEUDNzMzMzMz0PzMzMzMzMxFAMzMzMzMzEUAzMzMzMzMRQDMzMzMzMxFAzczMzMzM9D\\u002fNzMzMzMz0P83MzMzMzPQ\\u002fzczMzMzM9D\\u002fNzMzMzMz0P83MzMzMzPQ\\u002fzczMzMzM9D\\u002fNzMzMzMz0P83MzMzMzPQ\\u002fzczMzMzM9D\\u002fNzMzMzMz0P83MzMzMzPQ\\u002fzczMzMzM9D8AAAAAAADwPzMzMzMzMxFAMzMzMzMzEUAzMzMzMzMRQDMzMzMzMxFAMzMzMzMzEUAAAAAAAAAQQAAAAAAAABBAAAAAAAAAEEAAAAAAAAAQQAAAAAAAABBAAAAAAAAA8D8AAAAAAAAQQAAAAAAAABBAAAAAAAAAEEAAAAAAAAAQQAAAAAAAABBAAAAAAAAAEEAAAAAAAAAQQAAAAAAAABBAAAAAAAAAEEAAAAAAAAAQQAAAAAAAABBAAAAAAAAAEEAAAAAAAAAQQAAAAAAAABBAAAAAAAAAEEAAAAAAAAAQQAAAAAAAABBAAAAAAAAAEEAAAAAAAAAQQAAAAAAAABBAAAAAAAAAEEAAAAAAAAAQQAAAAAAAABBAAAAAAAAAEEAAAAAAAAAQQAAAAAAAABBAAAAAAAAAEEAAAAAAAAAQQAAAAAAAABBAAAAAAAAAEEAAAAAAAAAQQAAAAAAAABBAAAAAAAAAEEAAAAAAAAAQQAAAAAAAABBAAAAAAAAAEEAAAAAAAAAQQAAAAAAAABBAAAAAAAAAEEAAAAAAAAAQQAAAAAAAABBAAAAAAAAAEEAAAAAAAAAQQAAAAAAAABBAAAAAAAAAEEAAAAAAAAAQQAAAAAAAABBAAAAAAAAAEEAAAAAAAAAQQAAAAAAAABBAZmZmZmZmCkBmZmZmZmYKQGZmZmZmZgpAZmZmZmZmAkBmZmZmZmYCQGZmZmZmZgJAZmZmZmZmAkBmZmZmZmYCQGZmZmZmZgJAzczMzMzM9D8=\"},\"y\":{\"dtype\":\"i2\",\"bdata\":\"IBCnBR8DFgjcBqgDKgNgBN4GWQtBA+8FWwfADDUIqQlnCzcFAAmfCpwIFghsDG4Gqwi6CekEeBGhDrIRVgYuCy8HEAYnC2oDVhM0DKELSA4MA\\u002fwIBAbTA6QOhgdmCDMEFggGBcMOKwFKA98ClAT\\u002fBqIGbQm5Bv0H+AdWEBkKMQk6AxUInAZUBjIF1gecBbUMowXxDuMDzALmA+cHowjGBwsBUQxBA\\u002foBogegANUH+wX1AyUITwsICa8HFgNqA6kK+QMsBTgEQgWaCNMHzQLaBXEKMgf+AkgFOwg1CHEO3wsQBU4HWwq+BwIE6ARTBg8IYwc=\"},\"type\":\"scatter\"},{\"customdata\":[[\"Ranol\",\"Russia\",-0.5999999999999996,\"2025-08-30T19:01:33\",\"5480f8b0021b49e\"],[\"Ranol\",\"Sweden\",-0.5999999999999996,\"2025-09-13T18:26:01\",\"55a7c360034261b\"],[\"Ranol\",\"USA\",-0.5999999999999996,\"2025-09-13T16:57:20\",\"55a676c0033e018\"],[\"Ranol\",\"USA\",-0.5999999999999996,\"2025-09-13T16:36:26\",\"55a62880033cfaf\"],[\"Ranol\",\"USA\",-0.5999999999999996,\"2025-09-13T16:46:21\",\"55a64d80033d7a6\"],[\"Ranol\",\"France\",-0.5999999999999996,\"2025-09-11T22:08:55\",\"5580d750027cce5\"],[\"Ranol\",\"France\",-0.5999999999999996,\"2025-09-11T21:53:13\",\"55809850027c340\"],[\"Ranol\",\"France\",-0.5999999999999996,\"2025-09-11T11:26:43\",\"55776ee0025e213\"],[\"Ranol\",\"USA\",-0.5999999999999996,\"2025-09-10T19:08:34\",\"55691ae002250ba\"],[\"Ranol\",\"USA\",-0.5999999999999996,\"2025-09-10T18:32:02\",\"5568920002239f8\"],[\"Ranol\",\"USA\",-0.5999999999999996,\"2025-09-10T18:53:33\",\"5568e2a00224773\"],[\"Ranol\",\"France\",-0.5999999999999996,\"2025-09-10T17:37:27\",\"5567c19002216f7\"],[\"Ranol\",\"France\",-0.5999999999999996,\"2025-09-08T21:45:13\",\"554136600187bc4\"],[\"Ranol\",\"Sweden\",-0.5999999999999996,\"2025-09-08T19:18:45\",\"553f11100182769\"],[\"Ranol\",\"Sweden\",-0.5999999999999996,\"2025-09-08T19:05:58\",\"553edad00181e20\"],[\"Ranol\",\"Sweden\",-0.5999999999999996,\"2025-09-08T18:55:15\",\"553eb62001817f2\"],[\"Ranol\",\"Russia\",-0.5999999999999996,\"2025-09-01T16:55:27\",\"54a94e5002de14b\"],[\"Ranol\",\"Russia\",-0.5999999999999996,\"2025-08-30T18:41:10\",\"5480abf0021a36d\"],[\"Ranol\",\"Russia\",-0.5999999999999996,\"2025-08-30T18:29:39\",\"548080f002199da\"],[\"Ranol\",\"Russia\",-0.5999999999999996,\"2025-08-30T18:03:19\",\"54801e4002184c6\"],[\"Ranol\",\"Russia\",-0.40000000000000036,\"2025-08-29T20:50:39\",\"546d79a001b58bb\"],[\"Ranol\",\"Russia\",-0.40000000000000036,\"2025-08-29T21:03:18\",\"546da91001b6323\"],[\"Ranol\",\"Russia\",-0.40000000000000036,\"2025-08-29T20:11:01\",\"546ce51001b3756\"],[\"Ranol\",\"Russia\",-0.40000000000000036,\"2025-08-29T18:38:00\",\"546b884001ae806\"],[\"Ranol\",\"Sweden\",-0.5999999999999999,\"2025-08-25T23:23:22\",\"541b567000398ce\"],[\"Ranol\",\"Sweden\",-0.5999999999999996,\"2025-08-24T20:38:12\",\"5403cdb003c2f28\"],[\"Ranol\",\"Sweden\",-0.5999999999999996,\"2025-08-24T20:22:13\",\"5403972003c23e2\"],[\"Ranol\",\"Sweden\",-0.5999999999999996,\"2025-08-24T20:06:26\",\"54035c0003c178a\"],[\"Ranol\",\"Russia\",-0.40000000000000036,\"2025-08-24T18:27:38\",\"5401e96003bc420\"],[\"Ranol\",\"Russia\",-0.5999999999999996,\"2025-08-23T18:25:19\",\"53ecc8b0034503c\"],[\"Ranol\",\"Russia\",-0.40000000000000036,\"2025-08-22T18:13:06\",\"53d7830002cf613\"],[\"Ranol\",\"Russia\",-0.40000000000000036,\"2025-08-21T20:08:14\",\"53c41ab0026d35d\"],[\"Ranol\",\"Russia\",-0.40000000000000036,\"2025-08-21T19:38:20\",\"53c3aa80026bad3\"],[\"Ranol\",\"Russia\",-0.40000000000000036,\"2025-08-21T19:52:42\",\"53c3e070026c69a\"],[\"Ranol\",\"Russia\",-0.40000000000000036,\"2025-08-21T18:57:53\",\"53c312d002698d3\"],[\"Ranol\",\"Sweden\",-0.5999999999999996,\"2025-08-21T18:13:37\",\"53c26cd00267317\"],[\"Ranol\",\"Sweden\",-0.5999999999999996,\"2025-08-18T20:17:48\",\"5384f6400138e67\"],[\"Ranol\",\"Sweden\",-0.5999999999999996,\"2025-08-18T19:04:48\",\"5383e4d001351e2\"],[\"Ranol\",\"Sweden\",-0.5999999999999996,\"2025-08-17T10:32:16\",\"53674aa000a5d0b\"],[\"Ranol\",\"Sweden\",-0.5999999999999996,\"2025-08-11T23:39:46\",\"52f443f0024b353\"],[\"Ranol\",\"Sweden\",-0.5999999999999999,\"2025-08-10T23:03:05\",\"52dea26001e65a6\"],[\"Ranol\",\"Sweden\",-0.5999999999999999,\"2025-08-11T17:29:58\",\"52eed8f002399a0\"],[\"Ranol\",\"Sweden\",-0.5999999999999999,\"2025-08-10T10:46:06\",\"52d3d0c001ba1c7\"],[\"Ranol\",\"Sweden\",-0.5999999999999996,\"2025-08-10T10:36:35\",\"52d3b12001b954b\"],[\"Ranol\",\"Sweden\",-0.5999999999999996,\"2025-08-06T20:24:47\",\"5287f0800047ff5\"],[\"Ranol\",\"Sweden\",-0.5999999999999999,\"2025-08-06T19:56:13\",\"528785a00046a75\"],[\"Ranol\",\"Sweden\",-0.5999999999999996,\"2025-08-06T20:06:45\",\"5287acf0004725e\"],[\"Ranol\",\"Sweden\",-0.5999999999999996,\"2025-08-02T14:55:00\",\"522ebbd002ac80f\"],[\"Ranol\",\"Sweden\",-0.5999999999999996,\"2025-07-30T22:33:02\",\"51f62770019dadc\"],[\"Ranol\",\"Russia\",-0.5999999999999996,\"2025-07-30T19:00:09\",\"51f30b500193d44\"],[\"Ranol\",\"Russia\",-0.5999999999999996,\"2025-07-30T18:17:59\",\"51f26d500191d32\"],[\"Ranol\",\"Russia\",-0.5999999999999996,\"2025-07-29T18:46:12\",\"51ddbf100133083\"],[\"Ranol\",\"Russia\",-0.5999999999999996,\"2025-07-29T19:08:11\",\"51de1170013417b\"],[\"Ranol\",\"Sweden\",-0.5999999999999996,\"2025-07-28T21:22:44\",\"51caf02000da7a9\"],[\"Ranol\",\"Sweden\",-0.5999999999999996,\"2025-07-27T22:21:41\",\"51b6b4400079d5a\"],[\"Ranol\",\"Russia\",-0.5999999999999996,\"2025-07-27T15:54:49\",\"51b10c100067487\"],[\"Ranol\",\"Russia\",-0.5999999999999996,\"2025-07-27T14:30:40\",\"51afd0d000624aa\"],[\"Ranol\",\"Russia\",-0.5999999999999996,\"2025-07-27T14:11:57\",\"51af8a900060f00\"],[\"Ranol\",\"Russia\",-0.5999999999999996,\"2025-07-27T13:46:23\",\"51af2ab0005efd6\"],[\"Ranol\",\"Russia\",-0.5999999999999996,\"2025-07-27T13:56:53\",\"51af5200005fd11\"],[\"Ranol\",\"Russia\",-0.5999999999999996,\"2025-07-27T13:24:18\",\"51aed3a0005d15b\"],[\"Ranol\",\"Sweden\",-0.5999999999999996,\"2025-07-27T12:24:05\",\"51adf6200057abd\"],[\"Ranol\",\"Sweden\",-0.5999999999999996,\"2025-07-26T10:59:32\",\"5197a10003e293e\"],[\"Ranol\",\"Russia\",-0.5999999999999996,\"2025-07-23T17:37:57\",\"515e2ee002d5fdc\"],[\"Ranol\",\"Russia\",-0.5999999999999996,\"2025-07-23T17:53:53\",\"515e6ad002d6b9d\"],[\"Ranol\",\"Russia\",-0.5999999999999996,\"2025-07-22T17:58:46\",\"514965200278fb7\"],[\"Ranol\",\"Russia\",-0.5999999999999996,\"2025-07-22T17:19:50\",\"5148d3400277476\"],[\"Ranol\",\"Russia\",-0.5999999999999996,\"2025-07-22T17:29:17\",\"5148f5600277ad0\"],[\"Ranol\",\"Russia\",-0.5999999999999996,\"2025-07-21T18:59:13\",\"51352fd0021db22\"],[\"Ranol\",\"Russia\",-0.5999999999999996,\"2025-07-21T18:33:07\",\"5134ce00021c70e\"],[\"Ranol\",\"Sweden\",-0.5999999999999996,\"2025-07-21T17:58:39\",\"51344cc0021ad9b\"],[\"Ranol\",\"Russia\",-0.5999999999999996,\"2025-07-21T17:25:28\",\"5133d0500219591\"],[\"Ranol\",\"Sweden\",-0.5999999999999996,\"2025-07-19T22:32:29\",\"510e1f80015c3f3\"],[\"Ranol\",\"Sweden\",-0.5999999999999996,\"2025-07-19T10:37:40\",\"5103a690012f562\"],[\"Ranol\",\"Sweden\",-0.5999999999999996,\"2025-07-17T22:28:46\",\"50e3e1500092cd1\"],[\"Ranol\",\"Sweden\",-0.5999999999999996,\"2025-07-16T21:51:50\",\"50ce3f200030d73\"],[\"Ranol\",\"Sweden\",-0.5999999999999996,\"2025-07-17T09:22:24\",\"50d85ce00061f9a\"],[\"Ranol\",\"Sweden\",-0.5999999999999996,\"2025-07-16T21:37:16\",\"50ce089000302d3\"],[\"Ranol\",\"Sweden\",-0.5999999999999996,\"2025-07-16T11:22:12\",\"50c505e0000c34b\"],[\"Ranol\",\"Sweden\",-0.5999999999999996,\"2025-07-16T11:03:34\",\"50c4c020000a7bd\"],[\"Ranol\",\"Sweden\",-0.5999999999999996,\"2025-07-16T11:12:36\",\"50c4e200000b523\"],[\"Ranol\",\"Sweden\",-0.5999999999999996,\"2025-07-13T13:09:12\",\"50874f6002f01de\"],[\"Ranol\",\"Sweden\",-0.5999999999999996,\"2025-07-13T11:52:25\",\"50862df002e8e7e\"],[\"Ranol\",\"Russia\",-0.40000000000000036,\"2025-07-11T21:53:31\",\"5064cb8002343b9\"],[\"Ranol\",\"Russia\",-0.40000000000000036,\"2025-07-11T20:23:17\",\"50637b30022f6ea\"],[\"Ranol\",\"Sweden\",-0.5999999999999996,\"2025-07-10T23:43:32\",\"5051521001d5c54\"]],\"hovertemplate\":\"\\u003cb\\u003e%{customdata[0]}\\u003c\\u002fb\\u003e\\u003cbr\\u003eBattle Rating: %{x}\\u003cbr\\u003eScore: %{y}\\u003cbr\\u003eCountry: %{customdata[1]}\\u003cbr\\u003eTier Status: Balanced\\u003cbr\\u003eBR Delta: %{customdata[2]:.2f}\\u003cbr\\u003eDate: %{customdata[3]|%Y-%m-%d %H:%M}\\u003cbr\\u003e\\u003cextra\\u003e\\u003c\\u002fextra\\u003e\",\"marker\":{\"color\":\"#0000ff\",\"line\":{\"color\":\"white\",\"width\":1},\"opacity\":0.7,\"size\":8},\"mode\":\"markers\",\"name\":\"Balanced\",\"x\":{\"dtype\":\"f8\",\"bdata\":\"mpmZmZmZBUDNzMzMzMwaQJqZmZmZmQ1AmpmZmZmZDUCamZmZmZkNQJqZmZmZmQVAmpmZmZmZBUCamZmZmZkFQJqZmZmZmQ1AmpmZmZmZDUCamZmZmZkNQJqZmZmZmQVAmpmZmZmZBUCamZmZmZkFQJqZmZmZmQVAmpmZmZmZBUCamZmZmZkFQJqZmZmZmQVAmpmZmZmZBUCamZmZmZkFQDMzMzMzMxFAMzMzMzMzEUAzMzMzMzMRQDMzMzMzMxFAMzMzMzMz+z+amZmZmZkFQJqZmZmZmQVAmpmZmZmZBUAzMzMzMzMRQM3MzMzMzBJAMzMzMzMzEUAzMzMzMzMRQDMzMzMzMxFAMzMzMzMzEUAzMzMzMzMRQM3MzMzMzBZAzczMzMzMFkDNzMzMzMwWQM3MzMzMzBpAmpmZmZmZBUAzMzMzMzP7PzMzMzMzM\\u002fs\\u002fMzMzMzMz+z\\u002fNzMzMzMwWQJqZmZmZmQVAMzMzMzMz+z+amZmZmZkFQJqZmZmZmQVAzczMzMzMFkCamZmZmZkNQJqZmZmZmQ1AmpmZmZmZDUCamZmZmZkNQM3MzMzMzBZAzczMzMzMFkCamZmZmZkNQJqZmZmZmQ1AmpmZmZmZBUCamZmZmZkFQJqZmZmZmQVAmpmZmZmZBUDNzMzMzMwaQM3MzMzMzBpAmpmZmZmZBUCamZmZmZkFQJqZmZmZmQVAmpmZmZmZBUCamZmZmZkFQJqZmZmZmQVAmpmZmZmZBUCamZmZmZkFQJqZmZmZmQVAzczMzMzMFkDNzMzMzMwWQM3MzMzMzBZAzczMzMzMFkDNzMzMzMwWQM3MzMzMzBZAzczMzMzMFkDNzMzMzMwWQM3MzMzMzBZAzczMzMzMGkDNzMzMzMwWQGZmZmZmZgJAZmZmZmZmAkDNzMzMzMwWQA==\"},\"y\":{\"dtype\":\"i2\",\"bdata\":\"fBGMBI0J9wW4CsMJ2QpDBwMC7AvSAUANhgXoDaMQZwevCewUdA7FB34GLQSzBkoF9gDFCn4KJAnCA6kAuwgRBF4HNQf9E54H5Ai5ByMEgw5ODfsDGQyVAFARSg\\u002fpEOMKfQo7CaMG9QkhCYwA7wA+ASkEvwzMA9UH8gWhAhAHtATWB+0GKQXTAwoIsQqnCEUDAAWACiQHkQv0As0G8QrJA\\u002fsD5gPvA3kGCgwmBg==\"},\"type\":\"scatter\"},{\"customdata\":[[\"Ranol\",\"USA\",-0.2999999999999998,\"2025-09-10T18:13:59\",\"55684e500222e98\"],[\"Ranol\",\"Russia\",-0.2999999999999998,\"2025-08-30T17:43:30\",\"547fd3f00217550\"],[\"Ranol\",\"Sweden\",-0.2999999999999998,\"2025-08-24T21:05:38\",\"540439c003c4463\"],[\"Ranol\",\"Russia\",-0.2999999999999998,\"2025-08-23T19:23:14\",\"53eda1f0034877a\"],[\"Ranol\",\"Russia\",-0.2999999999999998,\"2025-08-23T17:52:42\",\"53ec4e7003432f3\"],[\"Ranol\",\"France\",-0.3999999999999999,\"2025-08-19T21:10:39\",\"539ad4e001a416e\"],[\"Ranol\",\"Sweden\",-0.2999999999999998,\"2025-08-18T20:39:06\",\"538545200139f1d\"],[\"Ranol\",\"Russia\",-0.2999999999999998,\"2025-08-14T09:19:05\",\"5326f060034d28d\"],[\"Ranol\",\"Russia\",-0.2999999999999998,\"2025-08-12T18:50:40\",\"53051fd0029ee33\"],[\"Ranol\",\"Russia\",-0.2999999999999998,\"2025-08-10T19:52:43\",\"52dbd86001dd838\"],[\"Ranol\",\"Russia\",-0.2999999999999998,\"2025-08-10T19:19:58\",\"52db5cc001dbe59\"],[\"Ranol\",\"Russia\",-0.2999999999999998,\"2025-08-10T18:55:16\",\"52db000001dab3e\"],[\"Ranol\",\"Sweden\",-0.30000000000000004,\"2025-08-10T11:00:27\",\"52d40c7001bba06\"],[\"Ranol\",\"Sweden\",-0.30000000000000004,\"2025-08-07T08:58:56\",\"5292f950007af3a\"],[\"Ranol\",\"Sweden\",-0.2999999999999998,\"2025-08-03T11:51:48\",\"524125100309ecc\"],[\"Ranol\",\"Sweden\",-0.2999999999999998,\"2025-08-03T11:31:01\",\"5240d7000307ed7\"],[\"Ranol\",\"Sweden\",-0.2999999999999998,\"2025-08-02T19:32:33\",\"5232cca002bad97\"],[\"Ranol\",\"Russia\",-0.2999999999999998,\"2025-08-02T17:50:24\",\"52314dc002b5a8c\"],[\"Ranol\",\"Sweden\",-0.30000000000000004,\"2025-08-02T14:46:41\",\"522e993002abe10\"],[\"Ranol\",\"Sweden\",-0.2999999999999998,\"2025-08-02T12:44:12\",\"522cd19002a274b\"],[\"Ranol\",\"Sweden\",-0.2999999999999998,\"2025-08-02T12:16:02\",\"522c6760029ff3f\"],[\"Ranol\",\"Russia\",-0.2999999999999998,\"2025-07-31T17:56:58\",\"5207366001eeb83\"],[\"Ranol\",\"Russia\",-0.2999999999999998,\"2025-07-31T18:11:33\",\"52076d2001ef61d\"],[\"Ranol\",\"Russia\",-0.2999999999999998,\"2025-07-30T18:02:51\",\"51f234500191222\"],[\"Ranol\",\"Sweden\",-0.2999999999999998,\"2025-07-27T12:50:26\",\"51ae58d0005a283\"],[\"Ranol\",\"Russia\",-0.2999999999999998,\"2025-07-22T18:09:12\",\"51498c500279720\"]],\"hovertemplate\":\"\\u003cb\\u003e%{customdata[0]}\\u003c\\u002fb\\u003e\\u003cbr\\u003eBattle Rating: %{x}\\u003cbr\\u003eScore: %{y}\\u003cbr\\u003eCountry: %{customdata[1]}\\u003cbr\\u003eTier Status: Partial Uptier\\u003cbr\\u003eBR Delta: %{customdata[2]:.2f}\\u003cbr\\u003eDate: %{customdata[3]|%Y-%m-%d %H:%M}\\u003cbr\\u003e\\u003cextra\\u003e\\u003c\\u002fextra\\u003e\",\"marker\":{\"color\":\"#00C24E\",\"line\":{\"color\":\"white\",\"width\":1},\"opacity\":0.7,\"size\":8},\"mode\":\"markers\",\"name\":\"Partial Uptier\",\"x\":{\"dtype\":\"f8\",\"bdata\":\"mpmZmZmZDUAAAAAAAAAUQJqZmZmZmQVAzczMzMzMEkDNzMzMzMwSQM3MzMzMzPQ\\u002fzczMzMzMFkDNzMzMzMwSQAAAAAAAABBAAAAAAAAAEEAAAAAAAAAQQAAAAAAAABBAMzMzMzMz+z8zMzMzMzP7PwAAAAAAABBAAAAAAAAAEEAAAAAAAAAQQAAAAAAAABBAMzMzMzMz+z\\u002fNzMzMzMwWQM3MzMzMzBZAAAAAAAAAEEAAAAAAAAAQQJqZmZmZmQ1AzczMzMzMFkCamZmZmZkFQA==\"},\"y\":{\"dtype\":\"i2\",\"bdata\":\"HAkLBUcO2wjOB\\u002fAKVwZpBlAGoQnpCu0KsgsRBvkC5gyfA\\u002f8Fnwa\\u002fB3AF8AE1BMwIoAYbCA==\"},\"type\":\"scatter\"},{\"customdata\":[[\"Ranol\",\"Russia\",0.0,\"2025-09-04T17:26:25\",\"54e90be000b058a\"],[\"Ranol\",\"Russia\",0.0,\"2025-08-30T16:40:26\",\"547ee7200214413\"],[\"Ranol\",\"Russia\",0.0,\"2025-08-29T20:37:23\",\"546d480001b4d87\"],[\"Ranol\",\"Sweden\",0.0,\"2025-08-27T19:42:18\",\"5442494000f2944\"],[\"Ranol\",\"Russia\",0.0,\"2025-08-26T19:08:05\",\"542cb12000925b5\"],[\"Ranol\",\"Russia\",0.0,\"2025-08-24T19:32:17\",\"5402dbc003bfbb7\"],[\"Ranol\",\"Russia\",0.0,\"2025-08-24T18:56:22\",\"5402551003bdd1d\"],[\"Ranol\",\"Russia\",0.0,\"2025-08-24T18:40:31\",\"540219b003bcf3b\"],[\"Ranol\",\"Russia\",0.0,\"2025-08-23T18:35:39\",\"53ecef7003459e6\"],[\"Ranol\",\"Russia\",0.0,\"2025-08-23T18:07:03\",\"53ec84500343f9a\"],[\"Ranol\",\"Russia\",0.0,\"2025-08-22T19:12:00\",\"53d85fa002d2be1\"],[\"Ranol\",\"Russia\",0.0,\"2025-08-22T18:24:31\",\"53d7adc002d0071\"],[\"Ranol\",\"Russia\",0.0,\"2025-08-22T18:00:34\",\"53d753e002ceae7\"],[\"Ranol\",\"Russia\",0.0,\"2025-08-22T17:32:52\",\"53d6ec2002cd2c3\"],[\"Ranol\",\"Russia\",0.0,\"2025-08-21T18:41:05\",\"53c2d3c00268a90\"],[\"Ranol\",\"Sweden\",0.0,\"2025-08-17T10:14:23\",\"536707b000a3e74\"],[\"Ranol\",\"Russia\",0.0,\"2025-08-14T17:15:14\",\"532dea00037103d\"],[\"Ranol\",\"Russia\",0.0,\"2025-08-14T17:34:23\",\"532e31c00371f9b\"],[\"Ranol\",\"Russia\",0.0,\"2025-08-13T18:45:46\",\"531a2580030d821\"],[\"Ranol\",\"Russia\",0.0,\"2025-08-13T18:06:56\",\"531993b0030b4fc\"],[\"Ranol\",\"Russia\",0.0,\"2025-08-13T17:53:54\",\"531962f0030a94e\"],[\"Ranol\",\"Sweden\",0.0,\"2025-08-03T11:01:38\",\"5240690003051ef\"],[\"Ranol\",\"Russia\",0.0,\"2025-08-02T15:20:36\",\"522f1c2002ae172\"],[\"Ranol\",\"Sweden\",0.0,\"2025-08-02T12:35:33\",\"522cb0f002a1b0e\"],[\"Ranol\",\"Sweden\",0.0,\"2025-08-02T12:03:08\",\"522c3790029ed10\"],[\"Ranol\",\"Russia\",0.0,\"2025-07-27T16:10:28\",\"51b14710006819e\"],[\"Ranol\",\"Russia\",0.0,\"2025-07-27T15:14:21\",\"51b074a00065110\"],[\"Ranol\",\"Sweden\",0.0,\"2025-07-26T23:59:51\",\"51a30f100013260\"],[\"Ranol\",\"Sweden\",0.0,\"2025-07-26T23:49:04\",\"51a2e6d000127db\"],[\"Ranol\",\"Sweden\",0.0,\"2025-07-26T11:12:45\",\"5197d2a003e3b7f\"],[\"Ranol\",\"Russia\",0.0,\"2025-07-26T01:26:21\",\"518f3ba003b0861\"],[\"Ranol\",\"Russia\",0.0,\"2025-07-26T00:53:25\",\"518ec01003ae57d\"],[\"Ranol\",\"Sweden\",0.0,\"2025-07-20T15:45:24\",\"511d40e001b2e90\"],[\"Ranol\",\"Sweden\",0.0,\"2025-07-19T11:07:35\",\"510417400131f51\"],[\"Ranol\",\"Sweden\",0.0,\"2025-07-17T22:55:45\",\"50e446f00094182\"],[\"Ranol\",\"Sweden\",0.0,\"2025-07-13T21:21:50\",\"508e86b0030ba62\"],[\"Ranol\",\"Sweden\",0.0,\"2025-07-13T13:28:38\",\"508797e002f1ca9\"]],\"hovertemplate\":\"\\u003cb\\u003e%{customdata[0]}\\u003c\\u002fb\\u003e\\u003cbr\\u003eBattle Rating: %{x}\\u003cbr\\u003eScore: %{y}\\u003cbr\\u003eCountry: %{customdata[1]}\\u003cbr\\u003eTier Status: Uptier\\u003cbr\\u003eBR Delta: %{customdata[2]:.2f}\\u003cbr\\u003eDate: %{customdata[3]|%Y-%m-%d %H:%M}\\u003cbr\\u003e\\u003cextra\\u003e\\u003c\\u002fextra\\u003e\",\"marker\":{\"color\":\"#0A9200\",\"line\":{\"color\":\"white\",\"width\":1},\"opacity\":0.7,\"size\":8},\"mode\":\"markers\",\"name\":\"Uptier\",\"x\":{\"dtype\":\"f8\",\"bdata\":\"AAAAAAAAFEAAAAAAAAAUQDMzMzMzMxFAzczMzMzMGkAzMzMzMzMRQDMzMzMzMxFAMzMzMzMzEUAzMzMzMzMRQM3MzMzMzBJAzczMzMzMEkAzMzMzMzMRQDMzMzMzMxFAMzMzMzMzEUAzMzMzMzMRQDMzMzMzMxFAzczMzMzMGkAzMzMzMzMRQDMzMzMzMxFAzczMzMzMEkDNzMzMzMwSQM3MzMzMzBJAMzMzMzMzFUAAAAAAAAAQQM3MzMzMzBZAzczMzMzMGkCamZmZmZkNQJqZmZmZmQ1AzczMzMzMGkDNzMzMzMwaQM3MzMzMzBZAZmZmZmZmCkBmZmZmZmYKQM3MzMzMzBpAzczMzMzMFkDNzMzMzMwWQM3MzMzMzBpAzczMzMzMGkA=\"},\"y\":{\"dtype\":\"i2\",\"bdata\":\"7wCNBScJJQXmBN8OywztDGADXwSzB60EbAQiBXIDJwdcDYAEGgSjBAsEpwB4AswE3QkiCQoEaAnCApYAgwLVDKgFSAEiAloAvAg=\"},\"type\":\"scatter\"},{\"hovertemplate\":\"Overall Trend\\u003cbr\\u003eBR: %{x}\\u003cbr\\u003ePredicted Score: %{y:.0f}\\u003cextra\\u003e\\u003c\\u002fextra\\u003e\",\"line\":{\"color\":\"rgba(0, 0, 0, 0.5)\",\"dash\":\"dash\",\"width\":2},\"mode\":\"lines\",\"name\":\"Overall Trend (slope: -226.4)\",\"showlegend\":true,\"x\":{\"dtype\":\"f8\",\"bdata\":\"AAAAAAAA8D\\u002fsSL2O1OvwP9iReh2p1\\u002fE\\u002fxNo3rH3D8j+vI\\u002fU6Uq\\u002fzP5tssskmm\\u002fQ\\u002fh7VvWPuG9T9z\\u002fiznz3L2P19H6nWkXvc\\u002fSpCnBHlK+D822WSTTTb5PyIiIiIiIvo\\u002fDmvfsPYN+z\\u002f6s5w\\u002fy\\u002fn7P+b8Wc6f5fw\\u002f0kUXXXTR\\u002fT++jtTrSL3+P6rXkXodqf8\\u002fSpCnBHlKAEDANAZMY8AAQDbZZJNNNgFArH3D2jesAUAiIiIiIiICQJjGgGkMmAJADmvfsPYNA0CEDz744IMDQPqznD\\u002fL+QNAcFj7hrVvBEDm\\u002fFnOn+UEQFyhuBWKWwVA0kUXXXTRBUBI6nWkXkcGQL6O1OtIvQZANDMzMzMzB0Cq15F6HakHQB988MEHHwhAlSBPCfKUCEALxa1Q3AoJQIFpDJjGgAlA9w1r37D2CUBtsskmm2wKQONWKG6F4gpAWfuGtW9YC0DPn+X8Wc4LQEVERERERAxAuuiiiy66DEAwjQHTGDANQKYxYBoDpg1AHNa+Ye0bDkCSeh2p15EOQAgffPDBBw9AfsPaN6x9D0D0Zzl\\u002flvMPQDUGTGPANBBAcFj7hrVvEECrqqqqqqoQQOb8Wc6f5RBAIU8J8pQgEUBcobgVilsRQJbzZzl\\u002flhFA0kUXXXTREUAMmMaAaQwSQEjqdaReRxJAgjwlyFOCEkC+jtTrSL0SQPjggw8++BJANDMzMzMzE0BuheJWKG4TQKrXkXodqRNA5ClBnhLkE0AffPDBBx8UQFrOn+X8WRRAlSBPCfKUFEDQcv4s588UQAvFrVDcChVARhdddNFFFUCBaQyYxoAVQLy7u7u7uxVA9w1r37D2FUAyYBoDpjEWQG2yySabbBZAqAR5SpCnFkDjVihuheIWQB6p15F6HRdAWfuGtW9YF0CUTTbZZJMXQM+f5fxZzhdACvKUIE8JGEBFREREREQYQICW82c5fxhAuuiiiy66GED1OlKvI\\u002fUYQDCNAdMYMBlAa9+w9g1rGUCmMWAaA6YZQOGDDz744BlAHNa+Ye0bGkBXKG6F4lYaQJJ6HanXkRpAzczMzMzMGkA=\"},\"y\":{\"dtype\":\"f8\",\"bdata\":\"N+yAZ\\u002fQRo0DLNOyT4feiQGB9V8DO3aJA9MXC7LvDokCJDi4ZqamiQB5XmUWWj6JAsp8EcoN1okBH6G+ecFuiQNsw28pdQaJAcHlG90onokAEwrEjOA2iQJkKHVAl86FALlOIfBLZoUDCm\\u002fOo\\u002f76hQFfkXtXspKFA6yzKAdqKoUCAdTUux3ChQBS+oFq0VqFAqQYMh6E8oUA+T3ezjiKhQNKX4t97CKFAZ+BNDGnuoED8KLk4VtSgQJBxJGVDuqBAJbqPkTCgoEC5Avu9HYagQE5LZuoKbKBA4pPRFvhRoEB33DxD5TegQAwlqG\\u002fSHaBAoG0TnL8DoEBpbP2QWdOfQJL90+kzn59AvI6qQg5rn0DkH4Gb6DafQA6xV\\u002fTCAp9AOEIuTZ3OnkBg0wSmd5qeQIpk2\\u002f5RZp5AsvWxVywynkDchoiwBv6dQAUYXwnhyZ1ALqk1YruVnUBXOgy7lWGdQIDL4hNwLZ1Aqly5bEr5nEDT7Y\\u002fFJMWcQPx+Zh7\\u002fkJxAJRA9d9lcnEBOoRPQsyicQHgy6iiO9JtAoMPAgWjAm0DKVJfaQoybQPPlbTMdWJtAHHdEjPcjm0BFCBvl0e+aQG6Z8T2su5pAmCrIloaHmkDAu57vYFOaQOpMdUg7H5pAEt5LoRXrmUA8byL677aZQGUA+VLKgplAj5HPq6ROmUC3IqYEfxqZQOGzfF1Z5phACUVTtjOymEA01ikPDn6YQFxnAGjoSZhAhvjWwMIVmECvia0ZneGXQNgahHJ3rZdAAaxay1F5l0AqPTEkLEWXQFPOB30GEZdAfV\\u002fe1eDclkCm8LQuu6iWQM+Bi4eVdJZA+BJi4G9AlkAhpDg5SgyWQEo1D5Ik2JVAc8bl6v6jlUCcV7xD2W+VQMbokpyzO5VA73lp9Y0HlUAYC0BOaNOUQEGcFqdCn5RAai3t\\u002fxxrlECTvsNY9zaUQLxPmrHRApRA5uBwCqzOk0APckdjhpqTQDkDHrxgZpNAYpT0FDsyk0CLJcttFf6SQLS2ocbvyZJA3Ud4H8qVkkAG2U54pGGSQC9qJdF+LZJAWPv7KVn5kUA=\"},\"type\":\"scatter\"},{\"hovertemplate\":\"Downtier Trend\\u003cbr\\u003eBR: %{x}\\u003cbr\\u003ePredicted Score: %{y:.0f}\\u003cextra\\u003e\\u003c\\u002fextra\\u003e\",\"legendgroup\":\"Downtier\",\"line\":{\"color\":\"rgba(255, 0, 0, 0.5)\",\"dash\":\"dot\",\"width\":1.5},\"mode\":\"lines\",\"name\":\"Downtier Trend (-206.3)\",\"showlegend\":true,\"visible\":\"legendonly\",\"x\":{\"dtype\":\"f8\",\"bdata\":\"AAAAAAAA8D8RMEo1edzxPyJglGryuPM\\u002fMpDen2uV9T9DwCjV5HH3P1TwcgpeTvk\\u002fZCC9P9cq+z91UAd1UAf9P4aAUarJ4\\u002f4\\u002fTNjNbyFgAEBU8HIKXk4BQFwIGKWaPAJAZCC9P9cqA0BtOGLaExkEQHVQB3VQBwVAfmisD431BUCGgFGqyeMGQI6Y9kQG0gdAl7Cb30LACECfyEB6f64JQKjg5RS8nApAsPiKr\\u002fiKC0C4EDBKNXkMQMEo1eRxZw1AyUB6f65VDkDRWB8a60MPQG04YtoTGRBAccS0JzKQEEB1UAd1UAcRQHrcWcJufhFAfmisD431EUCC9P5cq2wSQIaAUarJ4xJAigyk9+daE0COmPZEBtITQJMkSZIkSRRAl7Cb30LAFECbPO4sYTcVQJ\\u002fIQHp\\u002frhVAo1STx50lFkCo4OUUvJwWQKxsOGLaExdAsPiKr\\u002fiKF0C0hN38FgIYQLgQMEo1eRhAvJyCl1PwGEDBKNXkcWcZQMW0JzKQ3hlAyUB6f65VGkDNzMzMzMwaQA==\"},\"y\":{\"dtype\":\"f8\",\"bdata\":\"AZfsMUdpoUD+MET5STmhQPvKm8BMCaFA+GTzh0\\u002fZoED1\\u002fkpPUqmgQPKYohZVeaBA7jL63VdJoEDszFGlWhmgQNHNUtm60p9AygECaMByn0DENbH2xRKfQL5pYIXLsp5AuJ0PFNFSnkCy0b6i1vKdQKwFbjHckp1ApjkdwOEynUCgbcxO59KcQJqhe93scpxAlNUqbPISnECOCdr697KbQIc9iYn9UptAgXE4GAPzmkB7peemCJOaQHTZljUOM5pAbg1GxBPTmUBpQfVSGXOZQGJ1pOEeE5lAXKlTcCSzmEBW3QL\\u002fKVOYQFARso0v85dASkVhHDWTl0BEeRCrOjOXQD6tvzlA05ZAOOFuyEVzlkAyFR5XSxOWQCtJzeVQs5VAJX18dFZTlUAfsSsDXPOUQBnl2pFhk5RAExmKIGczlEAMTTmvbNOTQAaB6D1yc5NAALWXzHcTk0D66EZbfbOSQPQc9umCU5JA7lCleIjzkUDohFQHjpORQOK4A5aTM5FA3OyyJJnTkEDWIGKznnOQQA==\"},\"type\":\"scatter\"},{\"hovertemplate\":\"Partial Downtier Trend\\u003cbr\\u003eBR: %{x}\\u003cbr\\u003ePredicted Score: %{y:.0f}\\u003cextra\\u003e\\u003c\\u002fextra\\u003e\",\"legendgroup\":\"Partial Downtier\",\"line\":{\"color\":\"rgba(255, 90, 0, 0.5)\",\"dash\":\"dot\",\"width\":1.5},\"mode\":\"lines\",\"name\":\"Partial Downtier Trend (-144.8)\",\"showlegend\":true,\"visible\":\"legendonly\",\"x\":{\"dtype\":\"f8\",\"bdata\":\"AAAAAAAA8D\\u002fAKNXkcWfxP4BRqsnjzvI\\u002fQXp\\u002frlU29D8Bo1STx531P8HLKXg5Bfc\\u002fgvT+XKts+D9CHdRBHdT5PwJGqSaPO\\u002fs\\u002fwm5+CwGj\\u002fD+Cl1Pwcgr+P0PAKNXkcf8\\u002fgvT+XKtsAEDiiGlPZCABQEId1EEd1AFAorE+NNaHAkACRqkmjzsDQGLaExlI7wNAwm5+CwGjBEAiA+n9uVYFQIKXU\\u002fByCgZA4iu+4iu+BkBDwCjV5HEHQKNUk8edJQhAA+n9uVbZCEBjfWisD40JQMMR057IQApAI6Y9kYH0CkCEOqiDOqgLQOTOEnbzWwxARGN9aKwPDUCk9+daZcMNQASMUk0edw5AZCC9P9cqD0DEtCcykN4PQJIkSZIkSRBAwm5+CwGjEEDyuLOE3fwQQCID6f25VhFAUk0ed5awEUCCl1PwcgoSQLLhiGlPZBJA4iu+4iu+EkASdvNbCBgTQEPAKNXkcRNAcwpeTsHLE0CjVJPHnSUUQNOeyEB6fxRAA+n9uVbZFEAzMzMzMzMVQA==\"},\"y\":{\"dtype\":\"f8\",\"bdata\":\"kcbYF1HfoUBOEwvL5sWhQApgPX58rKFAx6xvMRKToUCE+aHkp3mhQEBG1Jc9YKFA\\u002fZIGS9NGoUC63zj+aC2hQHYsa7H+E6FAM3mdZJT6oEDwxc8XKuGgQKwSAsu\\u002fx6BAaV80flWuoEAmrGYx65SgQOL4mOSAe6BAn0XLlxZioEBckv1KrEigQBjfL\\u002f5BL6BA1StisdcVoEAj8SjJ2vifQJyKjS8Gxp9AFiTylTGTn0CPvVb8XGCfQAhXu2KILZ9AgvAfybP6nkD7iYQv38eeQHQj6ZUKlZ5A7rxN\\u002fDVinkBnVrJiYS+eQODvFsmM\\u002fJ1AWol7L7jJnUDSIuCV45adQEy8RPwOZJ1AxlWpYjoxnUA\\u002f7w3JZf6cQLiIci+Ry5xAMiLXlbyYnECruzv852WcQCRVoGITM5xAnu4EyT4AnEAXiGkvas2bQJAhzpWVmptACrsy\\u002fMBnm0CDVJdi7DSbQPzt+8gXAptAdYdgL0PPmkDuIMWVbpyaQGi6KfyZaZpA4VOOYsU2mkBa7fLI8AOaQA==\"},\"type\":\"scatter\"},{\"hovertemplate\":\"Balanced Trend\\u003cbr\\u003eBR: %{x}\\u003cbr\\u003ePredicted Score: %{y:.0f}\\u003cextra\\u003e\\u003c\\u002fextra\\u003e\",\"legendgroup\":\"Balanced\",\"line\":{\"color\":\"rgba(0, 0, 255, 0.5)\",\"dash\":\"dot\",\"width\":1.5},\"mode\":\"lines\",\"name\":\"Balanced Trend (-316.0)\",\"showlegend\":true,\"visible\":\"legendonly\",\"x\":{\"dtype\":\"f8\",\"bdata\":\"MzMzMzMz+z+c30LAKNX8PwSMUk0ed\\u002f4\\u002fNhwx7YkMAEBq8rizhN0AQJ\\u002fIQHp\\u002frgFA057IQHp\\u002fAkAHdVAHdVADQDxL2M1vIQRAcCFglGryBECk9+daZcMFQNjNbyFglAZADKT351plB0BAen+uVTYIQHVQB3VQBwlAqiaPO0vYCUDe\\u002fBYCRqkKQBLTnshAegtARqkmjztLDEB6f65VNhwNQK5VNhwx7Q1A4iu+4iu+DkAYAkapJo8PQCbs5rcQMBBAQNcqG46YEEBawm5+CwERQHStsuGIaRFAjpj2RAbSEUCogzqogzoSQMJufgsBoxJA3VnCbn4LE0D3RAbS+3MTQBEwSjV53BNAKxuOmPZEFEBFBtL7c60UQF\\u002fxFV\\u002fxFRVAedxZwm5+FUCTx50l7OYVQK6y4YhpTxZAyJ0l7Oa3FkDiiGlPZCAXQPxzrbLhiBdAFl\\u002fxFV\\u002fxF0AwSjV53FkYQEs1edxZwhhAZSC9P9cqGUB\\u002fCwGjVJMZQJn2RAbS+xlAs+GIaU9kGkDNzMzMzMwaQA==\"},\"y\":{\"dtype\":\"f8\",\"bdata\":\"A4sVjvBDpUD+LF6pdQOlQPjOpsT6wqRA83Dv33+CpEDuEjj7BEKkQOi0gBaKAaRA41bJMQ\\u002fBo0De+BFNlICjQNiaWmgZQKNA0zyjg57\\u002fokDO3uueI7+iQMmANLqofqJAxCJ91S0+okC+xMXwsv2hQLlmDgw4vaFAswhXJ718oUCuqp9CQjyhQKlM6F3H+6BApO4weUy7oECekHmU0XqgQJkywq9WOqBAKKkVlrfzn0Ac7abMwXKfQBIxOAPM8Z5AB3XJOdZwnkD9uFpw4O+dQPL866bqbp1A6EB93fTtnEDehA4U\\u002f2ycQNPIn0oJ7JtAyAwxgRNrm0C9UMK3HeqaQLOUU+4naZpAqNjkJDLomUCeHHZbPGeZQJNgB5JG5phAiaSYyFBlmEB\\u002f6Cn\\u002fWuSXQHMsuzVlY5dAaHBMbG\\u002filkBetN2ieWGWQFT4btmD4JVASTwAEI5flUA\\u002fgJFGmN6UQDPEIn2iXZRAKQi0s6zck0AeTEXqtluTQBSQ1iDB2pJACtRnV8tZkkD+F\\u002fmN1diRQA==\"},\"type\":\"scatter\"},{\"hovertemplate\":\"Partial Uptier Trend\\u003cbr\\u003eBR: %{x}\\u003cbr\\u003ePredicted Score: %{y:.0f}\\u003cextra\\u003e\\u003c\\u002fextra\\u003e\",\"legendgroup\":\"Partial Uptier\",\"line\":{\"color\":\"rgba(0, 194, 78, 0.5)\",\"dash\":\"dot\",\"width\":1.5},\"mode\":\"lines\",\"name\":\"Partial Uptier Trend (-204.0)\",\"showlegend\":true,\"visible\":\"legendonly\",\"x\":{\"dtype\":\"f8\",\"bdata\":\"zczMzMzM9D9cCBilmjz2P+tDY31orPc\\u002fen+uVTYc+T8Ku\\u002fktBIz6P5n2RAbS+\\u002fs\\u002fKDKQ3p9r\\u002fT+4bdu2bdv+P6NUk8edJQBAa\\u002fK4s4TdAEAykN6fa5UBQPotBIxSTQJAwsspeDkFA0CJaU9kIL0DQFEHdVAHdQRAGKWaPO4sBUDgQsAo1eQFQKjg5RS8nAZAb34LAaNUB0A3HDHtiQwIQP65VtlwxAhAxld8xVd8CUCO9aGxPjQKQFaTx50l7ApAHDHtiQykC0DkzhJ281sMQKxsOGLaEw1AdApeTsHLDUA8qIM6qIMOQAJGqSaPOw9AyuPOEnbzD0DJQHp\\u002frlUQQK0PjfWhsRBAkd6fa5UNEUB0rbLhiGkRQFh8xVd8xRFAPEvYzW8hEkAgGutDY30SQATp\\u002fblW2RJA57cQMEo1E0DLhiOmPZETQK9VNhwx7RNAkyRJkiRJFEB381sIGKUUQFrCbn4LARVAPpGB9P5cFUAiYJRq8rgVQAUvp+DlFBZA6f25VtlwFkDNzMzMzMwWQA==\"},\"y\":{\"dtype\":\"f8\",\"bdata\":\"G9eGiTZ0o0CaWosxlU+jQBjej9nzKqNAl2GUgVIGo0AW5ZgpseGiQJVondEPvaJAE+yheW6YokCSb6YhzXOiQBHzqskrT6JAkHavcYoqokAO+rMZ6QWiQI19uMFH4aFADAG9aaa8oUCLhMERBZihQAoIxrljc6FAiIvKYcJOoUAHD88JISqhQIaS07F\\u002fBaFABRbYWd7goECDmdwBPbygQAId4ambl6BAgaDlUfpyoEAAJOr5WE6gQH6n7qG3KaBA\\u002fSrzSRYFoED4XO\\u002fj6cCfQPZj+DOnd59A82oBhGQun0DwcQrUIeWeQO54EyTfm55A7H8cdJxSnkDphiXEWQmeQOaNLhQXwJ1A5JQ3ZNR2nUDim0C0kS2dQOCiSQRP5JxA3alSVAybnEDasFukyVGcQNi3ZPSGCJxA1r5tRES\\u002fm0DTxXaUAXabQNDMf+S+LJtAztOINHzjmkDL2pGEOZqaQMnhmtT2UJpAx+ijJLQHmkDE76x0cb6ZQML2tcQudZlAwP2+FOwrmUC9BMhkqeKYQA==\"},\"type\":\"scatter\"},{\"hovertemplate\":\"Uptier Trend\\u003cbr\\u003eBR: %{x}\\u003cbr\\u003ePredicted Score: %{y:.0f}\\u003cextra\\u003e\\u003c\\u002fextra\\u003e\",\"legendgroup\":\"Uptier\",\"line\":{\"color\":\"rgba(10, 146, 0, 0.5)\",\"dash\":\"dot\",\"width\":1.5},\"mode\":\"lines\",\"name\":\"Uptier Trend (-180.8)\",\"showlegend\":true,\"visible\":\"legendonly\",\"x\":{\"dtype\":\"f8\",\"bdata\":\"ZmZmZmZmCkAjpj2RgfQKQODlFLycggtAniXs5rcQDEBbZcMR054MQBilmjzuLA1A1eRxZwm7DUCSJEmSJEkOQE9kIL0\\u002f1w5ADKT351plD0DK484SdvMPQMMR057IQBBAorE+NNaHEECAUarJ484QQF\\u002fxFV\\u002fxFRFAPpGB9P5cEUAcMe2JDKQRQPvQWB8a6xFA2nDEtCcyEkC4EDBKNXkSQJawm99CwBJAdVAHdVAHE0BU8HIKXk4TQDKQ3p9rlRNAETBKNXncE0Dwz7XKhiMUQM5vIWCUahRArA+N9aGxFECLr\\u002fiKr\\u002fgUQGpPZCC9PxVASO\\u002fPtcqGFUAnjztL2M0VQAYvp+DlFBZA5M4SdvNbFkDCbn4LAaMWQKEO6qAO6hZAgK5VNhwxF0BeTsHLKXgXQD3uLGE3vxdAHI6Y9kQGGED6LQSMUk0YQNjNbyFglBhAuG3btm3bGECWDUdMeyIZQHStsuGIaRlAU00ed5awGUAy7YkMpPcZQBCN9aGxPhpA7yxhN7+FGkDNzMzMzMwaQA==\"},\"y\":{\"dtype\":\"f8\",\"bdata\":\"9sLnRNj2m0BZk2GzqcSbQLxj2yF7kptAHzRVkExgm0CCBM\\u002f+HS6bQObUSG3v+5pASaXC28DJmkCsdTxKkpeaQBBGtrhjZZpAcxYwJzUzmkDW5qmVBgGaQDq3IwTYzplAnIedcqmcmUAAWBfhemqZQGMokU9MOJlAxvgKvh0GmUAqyYQs79OYQI2Z\\u002fprAoZhA8Gl4CZJvmEBUOvJ3Yz2YQLcKbOY0C5hAGtvlVAbZl0B9q1\\u002fD16aXQOB72TGpdJdARExToHpCl0CmHM0OTBCXQArtRn0d3pZAbr3A6+6rlkDRjTpawHmWQDRetMiRR5ZAmC4uN2MVlkD6\\u002fqelNOOVQF7PIRQGsZVAwZ+bgtd+lUAlcBXxqEyVQIhAj196GpVA6xAJzkvolEBO4YI8HbaUQLGx\\u002fKrug5RAFIJ2GcBRlEB4UvCHkR+UQNwiavZi7ZNAPvPjZDS7k0Ciw13TBYmTQAWU10HXVpNAaGRRsKgkk0DLNMseevKSQC8FRY1LwJJAktW++xyOkkD2pThq7luSQA==\"},\"type\":\"scatter\"}],                        {\"template\":{\"data\":{\"histogram2dcontour\":[{\"type\":\"histogram2dcontour\",\"colorbar\":{\"outlinewidth\":0,\"ticks\":\"\"},\"colorscale\":[[0.0,\"#0d0887\"],[0.1111111111111111,\"#46039f\"],[0.2222222222222222,\"#7201a8\"],[0.3333333333333333,\"#9c179e\"],[0.4444444444444444,\"#bd3786\"],[0.5555555555555556,\"#d8576b\"],[0.6666666666666666,\"#ed7953\"],[0.7777777777777778,\"#fb9f3a\"],[0.8888888888888888,\"#fdca26\"],[1.0,\"#f0f921\"]]}],\"choropleth\":[{\"type\":\"choropleth\",\"colorbar\":{\"outlinewidth\":0,\"ticks\":\"\"}}],\"histogram2d\":[{\"type\":\"histogram2d\",\"colorbar\":{\"outlinewidth\":0,\"ticks\":\"\"},\"colorscale\":[[0.0,\"#0d0887\"],[0.1111111111111111,\"#46039f\"],[0.2222222222222222,\"#7201a8\"],[0.3333333333333333,\"#9c179e\"],[0.4444444444444444,\"#bd3786\"],[0.5555555555555556,\"#d8576b\"],[0.6666666666666666,\"#ed7953\"],[0.7777777777777778,\"#fb9f3a\"],[0.8888888888888888,\"#fdca26\"],[1.0,\"#f0f921\"]]}],\"heatmap\":[{\"type\":\"heatmap\",\"colorbar\":{\"outlinewidth\":0,\"ticks\":\"\"},\"colorscale\":[[0.0,\"#0d0887\"],[0.1111111111111111,\"#46039f\"],[0.2222222222222222,\"#7201a8\"],[0.3333333333333333,\"#9c179e\"],[0.4444444444444444,\"#bd3786\"],[0.5555555555555556,\"#d8576b\"],[0.6666666666666666,\"#ed7953\"],[0.7777777777777778,\"#fb9f3a\"],[0.8888888888888888,\"#fdca26\"],[1.0,\"#f0f921\"]]}],\"contourcarpet\":[{\"type\":\"contourcarpet\",\"colorbar\":{\"outlinewidth\":0,\"ticks\":\"\"}}],\"contour\":[{\"type\":\"contour\",\"colorbar\":{\"outlinewidth\":0,\"ticks\":\"\"},\"colorscale\":[[0.0,\"#0d0887\"],[0.1111111111111111,\"#46039f\"],[0.2222222222222222,\"#7201a8\"],[0.3333333333333333,\"#9c179e\"],[0.4444444444444444,\"#bd3786\"],[0.5555555555555556,\"#d8576b\"],[0.6666666666666666,\"#ed7953\"],[0.7777777777777778,\"#fb9f3a\"],[0.8888888888888888,\"#fdca26\"],[1.0,\"#f0f921\"]]}],\"surface\":[{\"type\":\"surface\",\"colorbar\":{\"outlinewidth\":0,\"ticks\":\"\"},\"colorscale\":[[0.0,\"#0d0887\"],[0.1111111111111111,\"#46039f\"],[0.2222222222222222,\"#7201a8\"],[0.3333333333333333,\"#9c179e\"],[0.4444444444444444,\"#bd3786\"],[0.5555555555555556,\"#d8576b\"],[0.6666666666666666,\"#ed7953\"],[0.7777777777777778,\"#fb9f3a\"],[0.8888888888888888,\"#fdca26\"],[1.0,\"#f0f921\"]]}],\"mesh3d\":[{\"type\":\"mesh3d\",\"colorbar\":{\"outlinewidth\":0,\"ticks\":\"\"}}],\"scatter\":[{\"fillpattern\":{\"fillmode\":\"overlay\",\"size\":10,\"solidity\":0.2},\"type\":\"scatter\"}],\"parcoords\":[{\"type\":\"parcoords\",\"line\":{\"colorbar\":{\"outlinewidth\":0,\"ticks\":\"\"}}}],\"scatterpolargl\":[{\"type\":\"scatterpolargl\",\"marker\":{\"colorbar\":{\"outlinewidth\":0,\"ticks\":\"\"}}}],\"bar\":[{\"error_x\":{\"color\":\"#2a3f5f\"},\"error_y\":{\"color\":\"#2a3f5f\"},\"marker\":{\"line\":{\"color\":\"#E5ECF6\",\"width\":0.5},\"pattern\":{\"fillmode\":\"overlay\",\"size\":10,\"solidity\":0.2}},\"type\":\"bar\"}],\"scattergeo\":[{\"type\":\"scattergeo\",\"marker\":{\"colorbar\":{\"outlinewidth\":0,\"ticks\":\"\"}}}],\"scatterpolar\":[{\"type\":\"scatterpolar\",\"marker\":{\"colorbar\":{\"outlinewidth\":0,\"ticks\":\"\"}}}],\"histogram\":[{\"marker\":{\"pattern\":{\"fillmode\":\"overlay\",\"size\":10,\"solidity\":0.2}},\"type\":\"histogram\"}],\"scattergl\":[{\"type\":\"scattergl\",\"marker\":{\"colorbar\":{\"outlinewidth\":0,\"ticks\":\"\"}}}],\"scatter3d\":[{\"type\":\"scatter3d\",\"line\":{\"colorbar\":{\"outlinewidth\":0,\"ticks\":\"\"}},\"marker\":{\"colorbar\":{\"outlinewidth\":0,\"ticks\":\"\"}}}],\"scattermap\":[{\"type\":\"scattermap\",\"marker\":{\"colorbar\":{\"outlinewidth\":0,\"ticks\":\"\"}}}],\"scattermapbox\":[{\"type\":\"scattermapbox\",\"marker\":{\"colorbar\":{\"outlinewidth\":0,\"ticks\":\"\"}}}],\"scatterternary\":[{\"type\":\"scatterternary\",\"marker\":{\"colorbar\":{\"outlinewidth\":0,\"ticks\":\"\"}}}],\"scattercarpet\":[{\"type\":\"scattercarpet\",\"marker\":{\"colorbar\":{\"outlinewidth\":0,\"ticks\":\"\"}}}],\"carpet\":[{\"aaxis\":{\"endlinecolor\":\"#2a3f5f\",\"gridcolor\":\"white\",\"linecolor\":\"white\",\"minorgridcolor\":\"white\",\"startlinecolor\":\"#2a3f5f\"},\"baxis\":{\"endlinecolor\":\"#2a3f5f\",\"gridcolor\":\"white\",\"linecolor\":\"white\",\"minorgridcolor\":\"white\",\"startlinecolor\":\"#2a3f5f\"},\"type\":\"carpet\"}],\"table\":[{\"cells\":{\"fill\":{\"color\":\"#EBF0F8\"},\"line\":{\"color\":\"white\"}},\"header\":{\"fill\":{\"color\":\"#C8D4E3\"},\"line\":{\"color\":\"white\"}},\"type\":\"table\"}],\"barpolar\":[{\"marker\":{\"line\":{\"color\":\"#E5ECF6\",\"width\":0.5},\"pattern\":{\"fillmode\":\"overlay\",\"size\":10,\"solidity\":0.2}},\"type\":\"barpolar\"}],\"pie\":[{\"automargin\":true,\"type\":\"pie\"}]},\"layout\":{\"autotypenumbers\":\"strict\",\"colorway\":[\"#636efa\",\"#EF553B\",\"#00cc96\",\"#ab63fa\",\"#FFA15A\",\"#19d3f3\",\"#FF6692\",\"#B6E880\",\"#FF97FF\",\"#FECB52\"],\"font\":{\"color\":\"#2a3f5f\"},\"hovermode\":\"closest\",\"hoverlabel\":{\"align\":\"left\"},\"paper_bgcolor\":\"white\",\"plot_bgcolor\":\"#E5ECF6\",\"polar\":{\"bgcolor\":\"#E5ECF6\",\"angularaxis\":{\"gridcolor\":\"white\",\"linecolor\":\"white\",\"ticks\":\"\"},\"radialaxis\":{\"gridcolor\":\"white\",\"linecolor\":\"white\",\"ticks\":\"\"}},\"ternary\":{\"bgcolor\":\"#E5ECF6\",\"aaxis\":{\"gridcolor\":\"white\",\"linecolor\":\"white\",\"ticks\":\"\"},\"baxis\":{\"gridcolor\":\"white\",\"linecolor\":\"white\",\"ticks\":\"\"},\"caxis\":{\"gridcolor\":\"white\",\"linecolor\":\"white\",\"ticks\":\"\"}},\"coloraxis\":{\"colorbar\":{\"outlinewidth\":0,\"ticks\":\"\"}},\"colorscale\":{\"sequential\":[[0.0,\"#0d0887\"],[0.1111111111111111,\"#46039f\"],[0.2222222222222222,\"#7201a8\"],[0.3333333333333333,\"#9c179e\"],[0.4444444444444444,\"#bd3786\"],[0.5555555555555556,\"#d8576b\"],[0.6666666666666666,\"#ed7953\"],[0.7777777777777778,\"#fb9f3a\"],[0.8888888888888888,\"#fdca26\"],[1.0,\"#f0f921\"]],\"sequentialminus\":[[0.0,\"#0d0887\"],[0.1111111111111111,\"#46039f\"],[0.2222222222222222,\"#7201a8\"],[0.3333333333333333,\"#9c179e\"],[0.4444444444444444,\"#bd3786\"],[0.5555555555555556,\"#d8576b\"],[0.6666666666666666,\"#ed7953\"],[0.7777777777777778,\"#fb9f3a\"],[0.8888888888888888,\"#fdca26\"],[1.0,\"#f0f921\"]],\"diverging\":[[0,\"#8e0152\"],[0.1,\"#c51b7d\"],[0.2,\"#de77ae\"],[0.3,\"#f1b6da\"],[0.4,\"#fde0ef\"],[0.5,\"#f7f7f7\"],[0.6,\"#e6f5d0\"],[0.7,\"#b8e186\"],[0.8,\"#7fbc41\"],[0.9,\"#4d9221\"],[1,\"#276419\"]]},\"xaxis\":{\"gridcolor\":\"white\",\"linecolor\":\"white\",\"ticks\":\"\",\"title\":{\"standoff\":15},\"zerolinecolor\":\"white\",\"automargin\":true,\"zerolinewidth\":2},\"yaxis\":{\"gridcolor\":\"white\",\"linecolor\":\"white\",\"ticks\":\"\",\"title\":{\"standoff\":15},\"zerolinecolor\":\"white\",\"automargin\":true,\"zerolinewidth\":2},\"scene\":{\"xaxis\":{\"backgroundcolor\":\"#E5ECF6\",\"gridcolor\":\"white\",\"linecolor\":\"white\",\"showbackground\":true,\"ticks\":\"\",\"zerolinecolor\":\"white\",\"gridwidth\":2},\"yaxis\":{\"backgroundcolor\":\"#E5ECF6\",\"gridcolor\":\"white\",\"linecolor\":\"white\",\"showbackground\":true,\"ticks\":\"\",\"zerolinecolor\":\"white\",\"gridwidth\":2},\"zaxis\":{\"backgroundcolor\":\"#E5ECF6\",\"gridcolor\":\"white\",\"linecolor\":\"white\",\"showbackground\":true,\"ticks\":\"\",\"zerolinecolor\":\"white\",\"gridwidth\":2}},\"shapedefaults\":{\"line\":{\"color\":\"#2a3f5f\"}},\"annotationdefaults\":{\"arrowcolor\":\"#2a3f5f\",\"arrowhead\":0,\"arrowwidth\":1},\"geo\":{\"bgcolor\":\"white\",\"landcolor\":\"#E5ECF6\",\"subunitcolor\":\"white\",\"showland\":true,\"showlakes\":true,\"lakecolor\":\"white\"},\"title\":{\"x\":0.05},\"mapbox\":{\"style\":\"light\"}}},\"title\":{\"font\":{\"size\":16},\"text\":\"Score vs Battle Rating with Tier (Player: Ranol, Replays: 459)\",\"x\":0.5,\"xanchor\":\"center\"},\"xaxis\":{\"title\":{\"text\":\"Battle Rating\"},\"gridcolor\":\"lightgray\",\"gridwidth\":1,\"zeroline\":false},\"yaxis\":{\"title\":{\"text\":\"Score\"},\"gridcolor\":\"lightgray\",\"gridwidth\":1,\"zeroline\":false},\"legend\":{\"orientation\":\"v\",\"yanchor\":\"top\",\"y\":1,\"xanchor\":\"left\",\"x\":1.02},\"margin\":{\"r\":150},\"plot_bgcolor\":\"white\",\"width\":1000,\"height\":600,\"hovermode\":\"closest\"},                        {\"responsive\": true}                    ).then(function(){\n",
       "                            \n",
       "var gd = document.getElementById('49cab840-0f79-4eb4-a005-577007514a65');\n",
       "var x = new MutationObserver(function (mutations, observer) {{\n",
       "        var display = window.getComputedStyle(gd).display;\n",
       "        if (!display || display === 'none') {{\n",
       "            console.log([gd, 'removed!']);\n",
       "            Plotly.purge(gd);\n",
       "            observer.disconnect();\n",
       "        }}\n",
       "}});\n",
       "\n",
       "// Listen for the removal of the full notebook cells\n",
       "var notebookContainer = gd.closest('#notebook-container');\n",
       "if (notebookContainer) {{\n",
       "    x.observe(notebookContainer, {childList: true});\n",
       "}}\n",
       "\n",
       "// Listen for the clearing of the current output cell\n",
       "var outputEl = gd.closest('.output');\n",
       "if (outputEl) {{\n",
       "    x.observe(outputEl, {childList: true});\n",
       "}}\n",
       "\n",
       "                        })                };            </script>        </div>"
      ]
     },
     "metadata": {},
     "output_type": "display_data"
    }
   ],
   "source": [
    "create_score_vs_br_plot(performance_df, tier_df, player_name=config.player_name, country_filters=config.country_filters).show()"
   ]
  },
  {
   "cell_type": "markdown",
   "id": "74316413",
   "metadata": {},
   "source": [
    "## Tier Frequency Analysis"
   ]
  },
  {
   "cell_type": "markdown",
   "id": "a30e859f",
   "metadata": {},
   "source": [
    "### Code"
   ]
  },
  {
   "cell_type": "code",
   "execution_count": null,
   "id": "cce14b39",
   "metadata": {},
   "outputs": [],
   "source": [
    "def create_tier_frequency_pie_chart(tier_df: pd.DataFrame, *, player_name=None, country_filters=[]):\n",
    "    \"\"\"\n",
    "    Create an interactive Plotly pie chart showing the frequency of each battle rating tier.\n",
    "\n",
    "    Args:\n",
    "        tier_df: DataFrame with tier status data\n",
    "        player_name: Optional player name for title\n",
    "        country_filters: List of countries to filter by\n",
    "\n",
    "    Returns:\n",
    "        Plotly figure object\n",
    "    \"\"\"\n",
    "    if tier_df.empty:\n",
    "        print(\"No tier data available for plotting\")\n",
    "        return None\n",
    "\n",
    "    # Count the frequency of each tier status\n",
    "    tier_counts = tier_df['tier_status'].value_counts()\n",
    "\n",
    "    # Ensure all tier statuses are represented (with 0 counts if necessary)\n",
    "    all_tier_counts = {}\n",
    "    for tier_status in PLOTLY_BATTLE_RATING_TIER_STATUS_ORDER:\n",
    "        tier_status_name = BATTLE_RATING_TIER_NAMES[tier_status]\n",
    "        count = tier_counts.get(tier_status, 0)\n",
    "        all_tier_counts[tier_status_name] = count\n",
    "\n",
    "    # Filter out zero counts for cleaner visualization\n",
    "    filtered_tier_counts = {k: v for k, v in all_tier_counts.items() if v > 0}\n",
    "\n",
    "    if not filtered_tier_counts:\n",
    "        print(\"No tier data found after filtering\")\n",
    "        return None\n",
    "\n",
    "    # Create lists for the pie chart\n",
    "    labels = list(filtered_tier_counts.keys())\n",
    "    values = list(filtered_tier_counts.values())\n",
    "\n",
    "    # Map colors to the labels\n",
    "    colors = []\n",
    "    for label in labels:\n",
    "        # Find the corresponding tier status for this label\n",
    "        for tier_status in PLOTLY_BATTLE_RATING_TIER_STATUS_ORDER:\n",
    "            if BATTLE_RATING_TIER_NAMES[tier_status] == label:\n",
    "                colors.append(PLOTLY_BATTLE_RATING_TIER_STATUS_COLORS[tier_status])\n",
    "                break\n",
    "\n",
    "    # Create the pie chart\n",
    "    fig = go.Figure(data=[\n",
    "        go.Pie(\n",
    "            labels=labels,\n",
    "            values=values,\n",
    "            hole=0.3,  # Creates a donut chart\n",
    "            marker=dict(\n",
    "                colors=colors,\n",
    "                line=dict(color='white', width=2)\n",
    "            ),\n",
    "            textinfo='label+percent+value',\n",
    "            texttemplate='<b>%{label}</b><br>%{percent}<br>(%{value} battles)',\n",
    "            hovertemplate='<b>%{label}</b><br>' +\n",
    "                         'Count: %{value}<br>' +\n",
    "                         'Percentage: %{percent}<br>' +\n",
    "                         '<extra></extra>',\n",
    "            textfont=dict(size=12)\n",
    "        )\n",
    "    ])\n",
    "\n",
    "    # Build the graph's title\n",
    "    title_filters = {}\n",
    "    if player_name:\n",
    "        title_filters[\"Player\"] = player_name\n",
    "    title_filters[\"Battles\"] = len(tier_df)\n",
    "    if country_filters:\n",
    "        title_filters[f\"Countr{'y' if len(country_filters) == 1 else 'ies'}\"] = ', '.join([country.value for country in country_filters])\n",
    "    title = title_builder.build_title(\"Battle Rating Tier Frequency\", filters=title_filters)\n",
    "\n",
    "    # Update layout\n",
    "    fig.update_layout(\n",
    "        title={\n",
    "            'text': title,\n",
    "            'x': 0.5,\n",
    "            'xanchor': 'center',\n",
    "            'font': {'size': 16}\n",
    "        },\n",
    "        width=800,\n",
    "        height=600,\n",
    "        showlegend=False,\n",
    "        plot_bgcolor='white'\n",
    "    )\n",
    "\n",
    "    return fig\n",
    "\n",
    "\n",
    "def create_tier_frequency_by_country_bar_chart(performance_df: pd.DataFrame, tier_df: pd.DataFrame, *, player_name=None, country_filters=[]):\n",
    "    \"\"\"\n",
    "    Create an interactive Plotly stacked bar chart showing tier frequency percentages by country.\n",
    "\n",
    "    Args:\n",
    "        performance_df: DataFrame with performance data\n",
    "        tier_df: DataFrame with tier status data\n",
    "        player_name: Optional player name for title\n",
    "        country_filters: List of countries to filter by\n",
    "\n",
    "    Returns:\n",
    "        Plotly figure object\n",
    "    \"\"\"\n",
    "    if performance_df.empty or tier_df.empty:\n",
    "        print(\"No data available for plotting\")\n",
    "        return None\n",
    "\n",
    "    # Merge performance data with tier data to get country information\n",
    "    merged_df = pd.merge(\n",
    "        performance_df[['replay_file', 'country']],\n",
    "        tier_df[['replay_file', 'tier_status']],\n",
    "        on='replay_file',\n",
    "        how='inner'\n",
    "    )\n",
    "\n",
    "    if merged_df.empty:\n",
    "        print(\"No merged data available for plotting\")\n",
    "        return None\n",
    "\n",
    "    # Get available countries and filter if specified\n",
    "    available_countries = list(merged_df['country'].unique())\n",
    "    if country_filters:\n",
    "        # Convert Country enum values to strings for comparison\n",
    "        country_filter_names = [country.value for country in country_filters]\n",
    "        available_countries = [country for country in available_countries if country in country_filter_names]\n",
    "\n",
    "    if len(available_countries) == 0:\n",
    "        print(\"No countries match the filters\")\n",
    "        return None\n",
    "\n",
    "    # Calculate tier percentages for each country\n",
    "    country_tier_data = []\n",
    "    for country in sorted(available_countries):\n",
    "        country_data = merged_df[merged_df['country'] == country]\n",
    "        tier_counts = country_data['tier_status'].value_counts()\n",
    "        total_battles = len(country_data)\n",
    "\n",
    "        # Calculate percentages for each tier\n",
    "        tier_percentages = {}\n",
    "        for tier_status in PLOTLY_BATTLE_RATING_TIER_STATUS_ORDER:\n",
    "            tier_status_name = BATTLE_RATING_TIER_NAMES[tier_status]\n",
    "            count = tier_counts.get(tier_status, 0)\n",
    "            percentage = (count / total_battles) * 100 if total_battles > 0 else 0\n",
    "            tier_percentages[tier_status_name] = {\n",
    "                'percentage': percentage,\n",
    "                'count': count,\n",
    "                'total': total_battles\n",
    "            }\n",
    "\n",
    "        country_tier_data.append({\n",
    "            'country': country,\n",
    "            'tier_percentages': tier_percentages,\n",
    "            'total_battles': total_battles\n",
    "        })\n",
    "\n",
    "    # Create the stacked bar chart\n",
    "    fig = go.Figure()\n",
    "\n",
    "    # Add a bar for each tier status\n",
    "    for tier_status in PLOTLY_BATTLE_RATING_TIER_STATUS_ORDER:\n",
    "        tier_status_name = BATTLE_RATING_TIER_NAMES[tier_status]\n",
    "\n",
    "        countries = [data['country'] for data in country_tier_data]\n",
    "        percentages = [data['tier_percentages'][tier_status_name]['percentage'] for data in country_tier_data]\n",
    "        counts = [data['tier_percentages'][tier_status_name]['count'] for data in country_tier_data]\n",
    "        totals = [data['total_battles'] for data in country_tier_data]\n",
    "\n",
    "        # Only add bars that have data\n",
    "        if any(p > 0 for p in percentages):\n",
    "            fig.add_trace(\n",
    "                go.Bar(\n",
    "                    name=tier_status_name,\n",
    "                    x=countries,\n",
    "                    y=percentages,\n",
    "                    text=[str(count) if count > 0 else '' for count in counts],\n",
    "                    textposition='inside',\n",
    "                    textfont=dict(color='white', size=10),\n",
    "                    marker_color=PLOTLY_BATTLE_RATING_TIER_STATUS_COLORS[tier_status],\n",
    "                    customdata=list(zip(counts, totals)),\n",
    "                    hovertemplate=(\n",
    "                        f'<b>{tier_status_name}</b><br>' +\n",
    "                        'Country: %{x}<br>' +\n",
    "                        'Percentage: %{y:.1f}%<br>' +\n",
    "                        'Count: %{customdata[0]}<br>' +\n",
    "                        'Total Battles: %{customdata[1]}<br>' +\n",
    "                        '<extra></extra>'\n",
    "                    )\n",
    "                )\n",
    "            )\n",
    "\n",
    "    # Build the graph's title\n",
    "    title_filters = {}\n",
    "    if player_name:\n",
    "        title_filters[\"Player\"] = player_name\n",
    "    total_battles = sum(data['total_battles'] for data in country_tier_data)\n",
    "    title_filters[\"Battles\"] = total_battles\n",
    "    if country_filters:\n",
    "        title_filters[f\"Countr{'y' if len(country_filters) == 1 else 'ies'}\"] = ', '.join([country.value for country in country_filters])\n",
    "    title = title_builder.build_title(\"Battle Rating Tier Frequency by Country\", filters=title_filters)\n",
    "\n",
    "    # Update layout for stacked bar chart\n",
    "    fig.update_layout(\n",
    "        title={\n",
    "            'text': title,\n",
    "            'x': 0.5,\n",
    "            'xanchor': 'center',\n",
    "            'font': {'size': 16}\n",
    "        },\n",
    "        xaxis=dict(\n",
    "            title='Country',\n",
    "            tickangle=45 if len(available_countries) > 5 else 0\n",
    "        ),\n",
    "        yaxis=dict(\n",
    "            title='Percentage (%)',\n",
    "            range=[0, 100]\n",
    "        ),\n",
    "        barmode='stack',\n",
    "        width=800,\n",
    "        height=600,\n",
    "        legend=dict(\n",
    "            orientation=\"v\",\n",
    "            yanchor=\"top\",\n",
    "            y=1,\n",
    "            xanchor=\"left\",\n",
    "            x=1.02\n",
    "        ),\n",
    "        margin=dict(r=150, b=100),  # Add margins for legend and country labels\n",
    "        plot_bgcolor='white'\n",
    "    )\n",
    "\n",
    "    return fig\n",
    "\n",
    "\n",
    "def create_tier_frequency_by_br_bar_chart(performance_df: pd.DataFrame, tier_df: pd.DataFrame, *, player_name=None, country_filters=[]):\n",
    "    \"\"\"\n",
    "    Create an interactive Plotly stacked bar chart showing tier frequency percentages by battle rating.\n",
    "\n",
    "    Args:\n",
    "        performance_df: DataFrame with performance data\n",
    "        tier_df: DataFrame with tier status data\n",
    "        player_name: Optional player name for title\n",
    "        country_filters: List of countries to filter by\n",
    "\n",
    "    Returns:\n",
    "        Plotly figure object\n",
    "    \"\"\"\n",
    "    if performance_df.empty or tier_df.empty:\n",
    "        print(\"No data available for plotting\")\n",
    "        return None\n",
    "\n",
    "    # Merge performance data with tier data to get battle rating information\n",
    "    merged_df = pd.merge(\n",
    "        performance_df[['replay_file', 'battle_rating']],\n",
    "        tier_df[['replay_file', 'tier_status']],\n",
    "        on='replay_file',\n",
    "        how='inner'\n",
    "    )\n",
    "\n",
    "    if merged_df.empty:\n",
    "        print(\"No merged data available for plotting\")\n",
    "        return None\n",
    "\n",
    "    # Get available battle ratings\n",
    "    available_brs = sorted(merged_df['battle_rating'].unique())\n",
    "\n",
    "    if len(available_brs) == 0:\n",
    "        print(\"No battle ratings found in data\")\n",
    "        return None\n",
    "\n",
    "    # Calculate tier percentages for each battle rating\n",
    "    br_tier_data = []\n",
    "    for br in available_brs:\n",
    "        br_data = merged_df[merged_df['battle_rating'] == br]\n",
    "        tier_counts = br_data['tier_status'].value_counts()\n",
    "        total_battles = len(br_data)\n",
    "\n",
    "        # Calculate percentages for each tier\n",
    "        tier_percentages = {}\n",
    "        for tier_status in PLOTLY_BATTLE_RATING_TIER_STATUS_ORDER:\n",
    "            tier_status_name = BATTLE_RATING_TIER_NAMES[tier_status]\n",
    "            count = tier_counts.get(tier_status, 0)\n",
    "            percentage = (count / total_battles) * 100 if total_battles > 0 else 0\n",
    "            tier_percentages[tier_status_name] = {\n",
    "                'percentage': percentage,\n",
    "                'count': count,\n",
    "                'total': total_battles\n",
    "            }\n",
    "\n",
    "        br_tier_data.append({\n",
    "            'battle_rating': br,\n",
    "            'tier_percentages': tier_percentages,\n",
    "            'total_battles': total_battles\n",
    "        })\n",
    "\n",
    "    # Create the stacked bar chart\n",
    "    fig = go.Figure()\n",
    "\n",
    "    # Add a bar for each tier status\n",
    "    for tier_status in PLOTLY_BATTLE_RATING_TIER_STATUS_ORDER:\n",
    "        tier_status_name = BATTLE_RATING_TIER_NAMES[tier_status]\n",
    "\n",
    "        battle_ratings = [data['battle_rating'] for data in br_tier_data]\n",
    "        percentages = [data['tier_percentages'][tier_status_name]['percentage'] for data in br_tier_data]\n",
    "        counts = [data['tier_percentages'][tier_status_name]['count'] for data in br_tier_data]\n",
    "        totals = [data['total_battles'] for data in br_tier_data]\n",
    "\n",
    "        # Only add bars that have data\n",
    "        if any(p > 0 for p in percentages):\n",
    "            fig.add_trace(\n",
    "                go.Bar(\n",
    "                    name=tier_status_name,\n",
    "                    x=battle_ratings,\n",
    "                    y=percentages,\n",
    "                    text=[str(count) if count > 0 else '' for count in counts],\n",
    "                    textposition='inside',\n",
    "                    textfont=dict(color='white', size=9),\n",
    "                    marker_color=PLOTLY_BATTLE_RATING_TIER_STATUS_COLORS[tier_status],\n",
    "                    customdata=list(zip(counts, totals)),\n",
    "                    hovertemplate=(\n",
    "                        f'<b>{tier_status_name}</b><br>' +\n",
    "                        'Battle Rating: %{x}<br>' +\n",
    "                        'Percentage: %{y:.1f}%<br>' +\n",
    "                        'Count: %{customdata[0]}<br>' +\n",
    "                        'Total Battles: %{customdata[1]}<br>' +\n",
    "                        '<extra></extra>'\n",
    "                    )\n",
    "                )\n",
    "            )\n",
    "\n",
    "    # Build the graph's title\n",
    "    title_filters = {}\n",
    "    if player_name:\n",
    "        title_filters[\"Player\"] = player_name\n",
    "    total_battles = sum(data['total_battles'] for data in br_tier_data)\n",
    "    title_filters[\"Battles\"] = total_battles\n",
    "    if country_filters:\n",
    "        title_filters[f\"Countr{'y' if len(country_filters) == 1 else 'ies'}\"] = ', '.join([country.value for country in country_filters])\n",
    "    title = title_builder.build_title(\"Tier Frequency by Battle Rating\", filters=title_filters)\n",
    "\n",
    "    # Update layout for stacked bar chart\n",
    "    fig.update_layout(\n",
    "        title={\n",
    "            'text': title,\n",
    "            'x': 0.5,\n",
    "            'xanchor': 'center',\n",
    "            'font': {'size': 16}\n",
    "        },\n",
    "        xaxis=dict(\n",
    "            title='Battle Rating',\n",
    "            tickangle=45 if len(available_brs) > 10 else 0,\n",
    "            tickvals=available_brs,\n",
    "            ticktext=[f\"{br:.1f}\" for br in available_brs],\n",
    "        ),\n",
    "        yaxis=dict(\n",
    "            title='Percentage (%)',\n",
    "            range=[0, 100]\n",
    "        ),\n",
    "        barmode='stack',\n",
    "        width=1000,\n",
    "        height=600,\n",
    "        legend=dict(\n",
    "            orientation=\"v\",\n",
    "            yanchor=\"top\",\n",
    "            y=1,\n",
    "            xanchor=\"left\",\n",
    "            x=1.02\n",
    "        ),\n",
    "        margin=dict(r=150, b=100),  # Add margins for legend and BR labels\n",
    "        plot_bgcolor='white'\n",
    "    )\n",
    "\n",
    "    return fig"
   ]
  },
  {
   "cell_type": "markdown",
   "id": "9f0f5d59",
   "metadata": {},
   "source": [
    "### Output"
   ]
  },
  {
   "cell_type": "code",
   "execution_count": 58,
   "id": "54eb6d45",
   "metadata": {},
   "outputs": [
    {
     "data": {
      "application/vnd.plotly.v1+json": {
       "config": {
        "plotlyServerURL": "https://plot.ly"
       },
       "data": [
        {
         "hole": 0.3,
         "hovertemplate": "<b>%{label}</b><br>Count: %{value}<br>Percentage: %{percent}<br><extra></extra>",
         "labels": [
          "Downtier",
          "Partial Downtier",
          "Balanced",
          "Partial Uptier",
          "Uptier"
         ],
         "marker": {
          "colors": [
           "#ff0000",
           "#FF5A00",
           "#0000ff",
           "#00C24E",
           "#0A9200"
          ],
          "line": {
           "color": "white",
           "width": 2
          }
         },
         "textfont": {
          "size": 12
         },
         "textinfo": "label+percent+value",
         "texttemplate": "<b>%{label}</b><br>%{percent}<br>(%{value} battles)",
         "type": "pie",
         "values": [
          189,
          121,
          86,
          26,
          37
         ]
        }
       ],
       "layout": {
        "height": 600,
        "plot_bgcolor": "white",
        "showlegend": false,
        "template": {
         "data": {
          "bar": [
           {
            "error_x": {
             "color": "#2a3f5f"
            },
            "error_y": {
             "color": "#2a3f5f"
            },
            "marker": {
             "line": {
              "color": "#E5ECF6",
              "width": 0.5
             },
             "pattern": {
              "fillmode": "overlay",
              "size": 10,
              "solidity": 0.2
             }
            },
            "type": "bar"
           }
          ],
          "barpolar": [
           {
            "marker": {
             "line": {
              "color": "#E5ECF6",
              "width": 0.5
             },
             "pattern": {
              "fillmode": "overlay",
              "size": 10,
              "solidity": 0.2
             }
            },
            "type": "barpolar"
           }
          ],
          "carpet": [
           {
            "aaxis": {
             "endlinecolor": "#2a3f5f",
             "gridcolor": "white",
             "linecolor": "white",
             "minorgridcolor": "white",
             "startlinecolor": "#2a3f5f"
            },
            "baxis": {
             "endlinecolor": "#2a3f5f",
             "gridcolor": "white",
             "linecolor": "white",
             "minorgridcolor": "white",
             "startlinecolor": "#2a3f5f"
            },
            "type": "carpet"
           }
          ],
          "choropleth": [
           {
            "colorbar": {
             "outlinewidth": 0,
             "ticks": ""
            },
            "type": "choropleth"
           }
          ],
          "contour": [
           {
            "colorbar": {
             "outlinewidth": 0,
             "ticks": ""
            },
            "colorscale": [
             [
              0,
              "#0d0887"
             ],
             [
              0.1111111111111111,
              "#46039f"
             ],
             [
              0.2222222222222222,
              "#7201a8"
             ],
             [
              0.3333333333333333,
              "#9c179e"
             ],
             [
              0.4444444444444444,
              "#bd3786"
             ],
             [
              0.5555555555555556,
              "#d8576b"
             ],
             [
              0.6666666666666666,
              "#ed7953"
             ],
             [
              0.7777777777777778,
              "#fb9f3a"
             ],
             [
              0.8888888888888888,
              "#fdca26"
             ],
             [
              1,
              "#f0f921"
             ]
            ],
            "type": "contour"
           }
          ],
          "contourcarpet": [
           {
            "colorbar": {
             "outlinewidth": 0,
             "ticks": ""
            },
            "type": "contourcarpet"
           }
          ],
          "heatmap": [
           {
            "colorbar": {
             "outlinewidth": 0,
             "ticks": ""
            },
            "colorscale": [
             [
              0,
              "#0d0887"
             ],
             [
              0.1111111111111111,
              "#46039f"
             ],
             [
              0.2222222222222222,
              "#7201a8"
             ],
             [
              0.3333333333333333,
              "#9c179e"
             ],
             [
              0.4444444444444444,
              "#bd3786"
             ],
             [
              0.5555555555555556,
              "#d8576b"
             ],
             [
              0.6666666666666666,
              "#ed7953"
             ],
             [
              0.7777777777777778,
              "#fb9f3a"
             ],
             [
              0.8888888888888888,
              "#fdca26"
             ],
             [
              1,
              "#f0f921"
             ]
            ],
            "type": "heatmap"
           }
          ],
          "histogram": [
           {
            "marker": {
             "pattern": {
              "fillmode": "overlay",
              "size": 10,
              "solidity": 0.2
             }
            },
            "type": "histogram"
           }
          ],
          "histogram2d": [
           {
            "colorbar": {
             "outlinewidth": 0,
             "ticks": ""
            },
            "colorscale": [
             [
              0,
              "#0d0887"
             ],
             [
              0.1111111111111111,
              "#46039f"
             ],
             [
              0.2222222222222222,
              "#7201a8"
             ],
             [
              0.3333333333333333,
              "#9c179e"
             ],
             [
              0.4444444444444444,
              "#bd3786"
             ],
             [
              0.5555555555555556,
              "#d8576b"
             ],
             [
              0.6666666666666666,
              "#ed7953"
             ],
             [
              0.7777777777777778,
              "#fb9f3a"
             ],
             [
              0.8888888888888888,
              "#fdca26"
             ],
             [
              1,
              "#f0f921"
             ]
            ],
            "type": "histogram2d"
           }
          ],
          "histogram2dcontour": [
           {
            "colorbar": {
             "outlinewidth": 0,
             "ticks": ""
            },
            "colorscale": [
             [
              0,
              "#0d0887"
             ],
             [
              0.1111111111111111,
              "#46039f"
             ],
             [
              0.2222222222222222,
              "#7201a8"
             ],
             [
              0.3333333333333333,
              "#9c179e"
             ],
             [
              0.4444444444444444,
              "#bd3786"
             ],
             [
              0.5555555555555556,
              "#d8576b"
             ],
             [
              0.6666666666666666,
              "#ed7953"
             ],
             [
              0.7777777777777778,
              "#fb9f3a"
             ],
             [
              0.8888888888888888,
              "#fdca26"
             ],
             [
              1,
              "#f0f921"
             ]
            ],
            "type": "histogram2dcontour"
           }
          ],
          "mesh3d": [
           {
            "colorbar": {
             "outlinewidth": 0,
             "ticks": ""
            },
            "type": "mesh3d"
           }
          ],
          "parcoords": [
           {
            "line": {
             "colorbar": {
              "outlinewidth": 0,
              "ticks": ""
             }
            },
            "type": "parcoords"
           }
          ],
          "pie": [
           {
            "automargin": true,
            "type": "pie"
           }
          ],
          "scatter": [
           {
            "fillpattern": {
             "fillmode": "overlay",
             "size": 10,
             "solidity": 0.2
            },
            "type": "scatter"
           }
          ],
          "scatter3d": [
           {
            "line": {
             "colorbar": {
              "outlinewidth": 0,
              "ticks": ""
             }
            },
            "marker": {
             "colorbar": {
              "outlinewidth": 0,
              "ticks": ""
             }
            },
            "type": "scatter3d"
           }
          ],
          "scattercarpet": [
           {
            "marker": {
             "colorbar": {
              "outlinewidth": 0,
              "ticks": ""
             }
            },
            "type": "scattercarpet"
           }
          ],
          "scattergeo": [
           {
            "marker": {
             "colorbar": {
              "outlinewidth": 0,
              "ticks": ""
             }
            },
            "type": "scattergeo"
           }
          ],
          "scattergl": [
           {
            "marker": {
             "colorbar": {
              "outlinewidth": 0,
              "ticks": ""
             }
            },
            "type": "scattergl"
           }
          ],
          "scattermap": [
           {
            "marker": {
             "colorbar": {
              "outlinewidth": 0,
              "ticks": ""
             }
            },
            "type": "scattermap"
           }
          ],
          "scattermapbox": [
           {
            "marker": {
             "colorbar": {
              "outlinewidth": 0,
              "ticks": ""
             }
            },
            "type": "scattermapbox"
           }
          ],
          "scatterpolar": [
           {
            "marker": {
             "colorbar": {
              "outlinewidth": 0,
              "ticks": ""
             }
            },
            "type": "scatterpolar"
           }
          ],
          "scatterpolargl": [
           {
            "marker": {
             "colorbar": {
              "outlinewidth": 0,
              "ticks": ""
             }
            },
            "type": "scatterpolargl"
           }
          ],
          "scatterternary": [
           {
            "marker": {
             "colorbar": {
              "outlinewidth": 0,
              "ticks": ""
             }
            },
            "type": "scatterternary"
           }
          ],
          "surface": [
           {
            "colorbar": {
             "outlinewidth": 0,
             "ticks": ""
            },
            "colorscale": [
             [
              0,
              "#0d0887"
             ],
             [
              0.1111111111111111,
              "#46039f"
             ],
             [
              0.2222222222222222,
              "#7201a8"
             ],
             [
              0.3333333333333333,
              "#9c179e"
             ],
             [
              0.4444444444444444,
              "#bd3786"
             ],
             [
              0.5555555555555556,
              "#d8576b"
             ],
             [
              0.6666666666666666,
              "#ed7953"
             ],
             [
              0.7777777777777778,
              "#fb9f3a"
             ],
             [
              0.8888888888888888,
              "#fdca26"
             ],
             [
              1,
              "#f0f921"
             ]
            ],
            "type": "surface"
           }
          ],
          "table": [
           {
            "cells": {
             "fill": {
              "color": "#EBF0F8"
             },
             "line": {
              "color": "white"
             }
            },
            "header": {
             "fill": {
              "color": "#C8D4E3"
             },
             "line": {
              "color": "white"
             }
            },
            "type": "table"
           }
          ]
         },
         "layout": {
          "annotationdefaults": {
           "arrowcolor": "#2a3f5f",
           "arrowhead": 0,
           "arrowwidth": 1
          },
          "autotypenumbers": "strict",
          "coloraxis": {
           "colorbar": {
            "outlinewidth": 0,
            "ticks": ""
           }
          },
          "colorscale": {
           "diverging": [
            [
             0,
             "#8e0152"
            ],
            [
             0.1,
             "#c51b7d"
            ],
            [
             0.2,
             "#de77ae"
            ],
            [
             0.3,
             "#f1b6da"
            ],
            [
             0.4,
             "#fde0ef"
            ],
            [
             0.5,
             "#f7f7f7"
            ],
            [
             0.6,
             "#e6f5d0"
            ],
            [
             0.7,
             "#b8e186"
            ],
            [
             0.8,
             "#7fbc41"
            ],
            [
             0.9,
             "#4d9221"
            ],
            [
             1,
             "#276419"
            ]
           ],
           "sequential": [
            [
             0,
             "#0d0887"
            ],
            [
             0.1111111111111111,
             "#46039f"
            ],
            [
             0.2222222222222222,
             "#7201a8"
            ],
            [
             0.3333333333333333,
             "#9c179e"
            ],
            [
             0.4444444444444444,
             "#bd3786"
            ],
            [
             0.5555555555555556,
             "#d8576b"
            ],
            [
             0.6666666666666666,
             "#ed7953"
            ],
            [
             0.7777777777777778,
             "#fb9f3a"
            ],
            [
             0.8888888888888888,
             "#fdca26"
            ],
            [
             1,
             "#f0f921"
            ]
           ],
           "sequentialminus": [
            [
             0,
             "#0d0887"
            ],
            [
             0.1111111111111111,
             "#46039f"
            ],
            [
             0.2222222222222222,
             "#7201a8"
            ],
            [
             0.3333333333333333,
             "#9c179e"
            ],
            [
             0.4444444444444444,
             "#bd3786"
            ],
            [
             0.5555555555555556,
             "#d8576b"
            ],
            [
             0.6666666666666666,
             "#ed7953"
            ],
            [
             0.7777777777777778,
             "#fb9f3a"
            ],
            [
             0.8888888888888888,
             "#fdca26"
            ],
            [
             1,
             "#f0f921"
            ]
           ]
          },
          "colorway": [
           "#636efa",
           "#EF553B",
           "#00cc96",
           "#ab63fa",
           "#FFA15A",
           "#19d3f3",
           "#FF6692",
           "#B6E880",
           "#FF97FF",
           "#FECB52"
          ],
          "font": {
           "color": "#2a3f5f"
          },
          "geo": {
           "bgcolor": "white",
           "lakecolor": "white",
           "landcolor": "#E5ECF6",
           "showlakes": true,
           "showland": true,
           "subunitcolor": "white"
          },
          "hoverlabel": {
           "align": "left"
          },
          "hovermode": "closest",
          "mapbox": {
           "style": "light"
          },
          "paper_bgcolor": "white",
          "plot_bgcolor": "#E5ECF6",
          "polar": {
           "angularaxis": {
            "gridcolor": "white",
            "linecolor": "white",
            "ticks": ""
           },
           "bgcolor": "#E5ECF6",
           "radialaxis": {
            "gridcolor": "white",
            "linecolor": "white",
            "ticks": ""
           }
          },
          "scene": {
           "xaxis": {
            "backgroundcolor": "#E5ECF6",
            "gridcolor": "white",
            "gridwidth": 2,
            "linecolor": "white",
            "showbackground": true,
            "ticks": "",
            "zerolinecolor": "white"
           },
           "yaxis": {
            "backgroundcolor": "#E5ECF6",
            "gridcolor": "white",
            "gridwidth": 2,
            "linecolor": "white",
            "showbackground": true,
            "ticks": "",
            "zerolinecolor": "white"
           },
           "zaxis": {
            "backgroundcolor": "#E5ECF6",
            "gridcolor": "white",
            "gridwidth": 2,
            "linecolor": "white",
            "showbackground": true,
            "ticks": "",
            "zerolinecolor": "white"
           }
          },
          "shapedefaults": {
           "line": {
            "color": "#2a3f5f"
           }
          },
          "ternary": {
           "aaxis": {
            "gridcolor": "white",
            "linecolor": "white",
            "ticks": ""
           },
           "baxis": {
            "gridcolor": "white",
            "linecolor": "white",
            "ticks": ""
           },
           "bgcolor": "#E5ECF6",
           "caxis": {
            "gridcolor": "white",
            "linecolor": "white",
            "ticks": ""
           }
          },
          "title": {
           "x": 0.05
          },
          "xaxis": {
           "automargin": true,
           "gridcolor": "white",
           "linecolor": "white",
           "ticks": "",
           "title": {
            "standoff": 15
           },
           "zerolinecolor": "white",
           "zerolinewidth": 2
          },
          "yaxis": {
           "automargin": true,
           "gridcolor": "white",
           "linecolor": "white",
           "ticks": "",
           "title": {
            "standoff": 15
           },
           "zerolinecolor": "white",
           "zerolinewidth": 2
          }
         }
        },
        "title": {
         "font": {
          "size": 16
         },
         "text": "Battle Rating Tier Frequency (Player: Ranol, Battles: 459)",
         "x": 0.5,
         "xanchor": "center"
        },
        "width": 800
       }
      },
      "text/html": [
       "<div>            <script src=\"https://cdnjs.cloudflare.com/ajax/libs/mathjax/2.7.5/MathJax.js?config=TeX-AMS-MML_SVG\"></script><script type=\"text/javascript\">if (window.MathJax && window.MathJax.Hub && window.MathJax.Hub.Config) {window.MathJax.Hub.Config({SVG: {font: \"STIX-Web\"}});}</script>                <script type=\"text/javascript\">window.PlotlyConfig = {MathJaxConfig: 'local'};</script>\n",
       "        <script charset=\"utf-8\" src=\"https://cdn.plot.ly/plotly-3.1.0.min.js\" integrity=\"sha256-Ei4740bWZhaUTQuD6q9yQlgVCMPBz6CZWhevDYPv93A=\" crossorigin=\"anonymous\"></script>                <div id=\"1740c453-16c4-447d-bac5-b28e1d9d2391\" class=\"plotly-graph-div\" style=\"height:600px; width:800px;\"></div>            <script type=\"text/javascript\">                window.PLOTLYENV=window.PLOTLYENV || {};                                if (document.getElementById(\"1740c453-16c4-447d-bac5-b28e1d9d2391\")) {                    Plotly.newPlot(                        \"1740c453-16c4-447d-bac5-b28e1d9d2391\",                        [{\"hole\":0.3,\"hovertemplate\":\"\\u003cb\\u003e%{label}\\u003c\\u002fb\\u003e\\u003cbr\\u003eCount: %{value}\\u003cbr\\u003ePercentage: %{percent}\\u003cbr\\u003e\\u003cextra\\u003e\\u003c\\u002fextra\\u003e\",\"labels\":[\"Downtier\",\"Partial Downtier\",\"Balanced\",\"Partial Uptier\",\"Uptier\"],\"marker\":{\"colors\":[\"#ff0000\",\"#FF5A00\",\"#0000ff\",\"#00C24E\",\"#0A9200\"],\"line\":{\"color\":\"white\",\"width\":2}},\"textfont\":{\"size\":12},\"textinfo\":\"label+percent+value\",\"texttemplate\":\"\\u003cb\\u003e%{label}\\u003c\\u002fb\\u003e\\u003cbr\\u003e%{percent}\\u003cbr\\u003e(%{value} battles)\",\"values\":[189,121,86,26,37],\"type\":\"pie\"}],                        {\"template\":{\"data\":{\"histogram2dcontour\":[{\"type\":\"histogram2dcontour\",\"colorbar\":{\"outlinewidth\":0,\"ticks\":\"\"},\"colorscale\":[[0.0,\"#0d0887\"],[0.1111111111111111,\"#46039f\"],[0.2222222222222222,\"#7201a8\"],[0.3333333333333333,\"#9c179e\"],[0.4444444444444444,\"#bd3786\"],[0.5555555555555556,\"#d8576b\"],[0.6666666666666666,\"#ed7953\"],[0.7777777777777778,\"#fb9f3a\"],[0.8888888888888888,\"#fdca26\"],[1.0,\"#f0f921\"]]}],\"choropleth\":[{\"type\":\"choropleth\",\"colorbar\":{\"outlinewidth\":0,\"ticks\":\"\"}}],\"histogram2d\":[{\"type\":\"histogram2d\",\"colorbar\":{\"outlinewidth\":0,\"ticks\":\"\"},\"colorscale\":[[0.0,\"#0d0887\"],[0.1111111111111111,\"#46039f\"],[0.2222222222222222,\"#7201a8\"],[0.3333333333333333,\"#9c179e\"],[0.4444444444444444,\"#bd3786\"],[0.5555555555555556,\"#d8576b\"],[0.6666666666666666,\"#ed7953\"],[0.7777777777777778,\"#fb9f3a\"],[0.8888888888888888,\"#fdca26\"],[1.0,\"#f0f921\"]]}],\"heatmap\":[{\"type\":\"heatmap\",\"colorbar\":{\"outlinewidth\":0,\"ticks\":\"\"},\"colorscale\":[[0.0,\"#0d0887\"],[0.1111111111111111,\"#46039f\"],[0.2222222222222222,\"#7201a8\"],[0.3333333333333333,\"#9c179e\"],[0.4444444444444444,\"#bd3786\"],[0.5555555555555556,\"#d8576b\"],[0.6666666666666666,\"#ed7953\"],[0.7777777777777778,\"#fb9f3a\"],[0.8888888888888888,\"#fdca26\"],[1.0,\"#f0f921\"]]}],\"contourcarpet\":[{\"type\":\"contourcarpet\",\"colorbar\":{\"outlinewidth\":0,\"ticks\":\"\"}}],\"contour\":[{\"type\":\"contour\",\"colorbar\":{\"outlinewidth\":0,\"ticks\":\"\"},\"colorscale\":[[0.0,\"#0d0887\"],[0.1111111111111111,\"#46039f\"],[0.2222222222222222,\"#7201a8\"],[0.3333333333333333,\"#9c179e\"],[0.4444444444444444,\"#bd3786\"],[0.5555555555555556,\"#d8576b\"],[0.6666666666666666,\"#ed7953\"],[0.7777777777777778,\"#fb9f3a\"],[0.8888888888888888,\"#fdca26\"],[1.0,\"#f0f921\"]]}],\"surface\":[{\"type\":\"surface\",\"colorbar\":{\"outlinewidth\":0,\"ticks\":\"\"},\"colorscale\":[[0.0,\"#0d0887\"],[0.1111111111111111,\"#46039f\"],[0.2222222222222222,\"#7201a8\"],[0.3333333333333333,\"#9c179e\"],[0.4444444444444444,\"#bd3786\"],[0.5555555555555556,\"#d8576b\"],[0.6666666666666666,\"#ed7953\"],[0.7777777777777778,\"#fb9f3a\"],[0.8888888888888888,\"#fdca26\"],[1.0,\"#f0f921\"]]}],\"mesh3d\":[{\"type\":\"mesh3d\",\"colorbar\":{\"outlinewidth\":0,\"ticks\":\"\"}}],\"scatter\":[{\"fillpattern\":{\"fillmode\":\"overlay\",\"size\":10,\"solidity\":0.2},\"type\":\"scatter\"}],\"parcoords\":[{\"type\":\"parcoords\",\"line\":{\"colorbar\":{\"outlinewidth\":0,\"ticks\":\"\"}}}],\"scatterpolargl\":[{\"type\":\"scatterpolargl\",\"marker\":{\"colorbar\":{\"outlinewidth\":0,\"ticks\":\"\"}}}],\"bar\":[{\"error_x\":{\"color\":\"#2a3f5f\"},\"error_y\":{\"color\":\"#2a3f5f\"},\"marker\":{\"line\":{\"color\":\"#E5ECF6\",\"width\":0.5},\"pattern\":{\"fillmode\":\"overlay\",\"size\":10,\"solidity\":0.2}},\"type\":\"bar\"}],\"scattergeo\":[{\"type\":\"scattergeo\",\"marker\":{\"colorbar\":{\"outlinewidth\":0,\"ticks\":\"\"}}}],\"scatterpolar\":[{\"type\":\"scatterpolar\",\"marker\":{\"colorbar\":{\"outlinewidth\":0,\"ticks\":\"\"}}}],\"histogram\":[{\"marker\":{\"pattern\":{\"fillmode\":\"overlay\",\"size\":10,\"solidity\":0.2}},\"type\":\"histogram\"}],\"scattergl\":[{\"type\":\"scattergl\",\"marker\":{\"colorbar\":{\"outlinewidth\":0,\"ticks\":\"\"}}}],\"scatter3d\":[{\"type\":\"scatter3d\",\"line\":{\"colorbar\":{\"outlinewidth\":0,\"ticks\":\"\"}},\"marker\":{\"colorbar\":{\"outlinewidth\":0,\"ticks\":\"\"}}}],\"scattermap\":[{\"type\":\"scattermap\",\"marker\":{\"colorbar\":{\"outlinewidth\":0,\"ticks\":\"\"}}}],\"scattermapbox\":[{\"type\":\"scattermapbox\",\"marker\":{\"colorbar\":{\"outlinewidth\":0,\"ticks\":\"\"}}}],\"scatterternary\":[{\"type\":\"scatterternary\",\"marker\":{\"colorbar\":{\"outlinewidth\":0,\"ticks\":\"\"}}}],\"scattercarpet\":[{\"type\":\"scattercarpet\",\"marker\":{\"colorbar\":{\"outlinewidth\":0,\"ticks\":\"\"}}}],\"carpet\":[{\"aaxis\":{\"endlinecolor\":\"#2a3f5f\",\"gridcolor\":\"white\",\"linecolor\":\"white\",\"minorgridcolor\":\"white\",\"startlinecolor\":\"#2a3f5f\"},\"baxis\":{\"endlinecolor\":\"#2a3f5f\",\"gridcolor\":\"white\",\"linecolor\":\"white\",\"minorgridcolor\":\"white\",\"startlinecolor\":\"#2a3f5f\"},\"type\":\"carpet\"}],\"table\":[{\"cells\":{\"fill\":{\"color\":\"#EBF0F8\"},\"line\":{\"color\":\"white\"}},\"header\":{\"fill\":{\"color\":\"#C8D4E3\"},\"line\":{\"color\":\"white\"}},\"type\":\"table\"}],\"barpolar\":[{\"marker\":{\"line\":{\"color\":\"#E5ECF6\",\"width\":0.5},\"pattern\":{\"fillmode\":\"overlay\",\"size\":10,\"solidity\":0.2}},\"type\":\"barpolar\"}],\"pie\":[{\"automargin\":true,\"type\":\"pie\"}]},\"layout\":{\"autotypenumbers\":\"strict\",\"colorway\":[\"#636efa\",\"#EF553B\",\"#00cc96\",\"#ab63fa\",\"#FFA15A\",\"#19d3f3\",\"#FF6692\",\"#B6E880\",\"#FF97FF\",\"#FECB52\"],\"font\":{\"color\":\"#2a3f5f\"},\"hovermode\":\"closest\",\"hoverlabel\":{\"align\":\"left\"},\"paper_bgcolor\":\"white\",\"plot_bgcolor\":\"#E5ECF6\",\"polar\":{\"bgcolor\":\"#E5ECF6\",\"angularaxis\":{\"gridcolor\":\"white\",\"linecolor\":\"white\",\"ticks\":\"\"},\"radialaxis\":{\"gridcolor\":\"white\",\"linecolor\":\"white\",\"ticks\":\"\"}},\"ternary\":{\"bgcolor\":\"#E5ECF6\",\"aaxis\":{\"gridcolor\":\"white\",\"linecolor\":\"white\",\"ticks\":\"\"},\"baxis\":{\"gridcolor\":\"white\",\"linecolor\":\"white\",\"ticks\":\"\"},\"caxis\":{\"gridcolor\":\"white\",\"linecolor\":\"white\",\"ticks\":\"\"}},\"coloraxis\":{\"colorbar\":{\"outlinewidth\":0,\"ticks\":\"\"}},\"colorscale\":{\"sequential\":[[0.0,\"#0d0887\"],[0.1111111111111111,\"#46039f\"],[0.2222222222222222,\"#7201a8\"],[0.3333333333333333,\"#9c179e\"],[0.4444444444444444,\"#bd3786\"],[0.5555555555555556,\"#d8576b\"],[0.6666666666666666,\"#ed7953\"],[0.7777777777777778,\"#fb9f3a\"],[0.8888888888888888,\"#fdca26\"],[1.0,\"#f0f921\"]],\"sequentialminus\":[[0.0,\"#0d0887\"],[0.1111111111111111,\"#46039f\"],[0.2222222222222222,\"#7201a8\"],[0.3333333333333333,\"#9c179e\"],[0.4444444444444444,\"#bd3786\"],[0.5555555555555556,\"#d8576b\"],[0.6666666666666666,\"#ed7953\"],[0.7777777777777778,\"#fb9f3a\"],[0.8888888888888888,\"#fdca26\"],[1.0,\"#f0f921\"]],\"diverging\":[[0,\"#8e0152\"],[0.1,\"#c51b7d\"],[0.2,\"#de77ae\"],[0.3,\"#f1b6da\"],[0.4,\"#fde0ef\"],[0.5,\"#f7f7f7\"],[0.6,\"#e6f5d0\"],[0.7,\"#b8e186\"],[0.8,\"#7fbc41\"],[0.9,\"#4d9221\"],[1,\"#276419\"]]},\"xaxis\":{\"gridcolor\":\"white\",\"linecolor\":\"white\",\"ticks\":\"\",\"title\":{\"standoff\":15},\"zerolinecolor\":\"white\",\"automargin\":true,\"zerolinewidth\":2},\"yaxis\":{\"gridcolor\":\"white\",\"linecolor\":\"white\",\"ticks\":\"\",\"title\":{\"standoff\":15},\"zerolinecolor\":\"white\",\"automargin\":true,\"zerolinewidth\":2},\"scene\":{\"xaxis\":{\"backgroundcolor\":\"#E5ECF6\",\"gridcolor\":\"white\",\"linecolor\":\"white\",\"showbackground\":true,\"ticks\":\"\",\"zerolinecolor\":\"white\",\"gridwidth\":2},\"yaxis\":{\"backgroundcolor\":\"#E5ECF6\",\"gridcolor\":\"white\",\"linecolor\":\"white\",\"showbackground\":true,\"ticks\":\"\",\"zerolinecolor\":\"white\",\"gridwidth\":2},\"zaxis\":{\"backgroundcolor\":\"#E5ECF6\",\"gridcolor\":\"white\",\"linecolor\":\"white\",\"showbackground\":true,\"ticks\":\"\",\"zerolinecolor\":\"white\",\"gridwidth\":2}},\"shapedefaults\":{\"line\":{\"color\":\"#2a3f5f\"}},\"annotationdefaults\":{\"arrowcolor\":\"#2a3f5f\",\"arrowhead\":0,\"arrowwidth\":1},\"geo\":{\"bgcolor\":\"white\",\"landcolor\":\"#E5ECF6\",\"subunitcolor\":\"white\",\"showland\":true,\"showlakes\":true,\"lakecolor\":\"white\"},\"title\":{\"x\":0.05},\"mapbox\":{\"style\":\"light\"}}},\"title\":{\"font\":{\"size\":16},\"text\":\"Battle Rating Tier Frequency (Player: Ranol, Battles: 459)\",\"x\":0.5,\"xanchor\":\"center\"},\"width\":800,\"height\":600,\"showlegend\":false,\"plot_bgcolor\":\"white\"},                        {\"responsive\": true}                    ).then(function(){\n",
       "                            \n",
       "var gd = document.getElementById('1740c453-16c4-447d-bac5-b28e1d9d2391');\n",
       "var x = new MutationObserver(function (mutations, observer) {{\n",
       "        var display = window.getComputedStyle(gd).display;\n",
       "        if (!display || display === 'none') {{\n",
       "            console.log([gd, 'removed!']);\n",
       "            Plotly.purge(gd);\n",
       "            observer.disconnect();\n",
       "        }}\n",
       "}});\n",
       "\n",
       "// Listen for the removal of the full notebook cells\n",
       "var notebookContainer = gd.closest('#notebook-container');\n",
       "if (notebookContainer) {{\n",
       "    x.observe(notebookContainer, {childList: true});\n",
       "}}\n",
       "\n",
       "// Listen for the clearing of the current output cell\n",
       "var outputEl = gd.closest('.output');\n",
       "if (outputEl) {{\n",
       "    x.observe(outputEl, {childList: true});\n",
       "}}\n",
       "\n",
       "                        })                };            </script>        </div>"
      ]
     },
     "metadata": {},
     "output_type": "display_data"
    },
    {
     "data": {
      "application/vnd.plotly.v1+json": {
       "config": {
        "plotlyServerURL": "https://plot.ly"
       },
       "data": [
        {
         "customdata": [
          [
           22,
           49
          ],
          [
           0,
           6
          ],
          [
           84,
           233
          ],
          [
           80,
           161
          ],
          [
           3,
           10
          ]
         ],
         "hovertemplate": "<b>Downtier</b><br>Country: %{x}<br>Percentage: %{y:.1f}%<br>Count: %{customdata[0]}<br>Total Battles: %{customdata[1]}<br><extra></extra>",
         "marker": {
          "color": "#ff0000"
         },
         "name": "Downtier",
         "text": [
          "22",
          "",
          "84",
          "80",
          "3"
         ],
         "textfont": {
          "color": "white",
          "size": 10
         },
         "textposition": "inside",
         "type": "bar",
         "x": [
          "France",
          "Germany",
          "Russia",
          "Sweden",
          "USA"
         ],
         "y": [
          44.89795918367347,
          0,
          36.05150214592275,
          49.68944099378882,
          30
         ]
        },
        {
         "customdata": [
          [
           21,
           49
          ],
          [
           6,
           6
          ],
          [
           76,
           233
          ],
          [
           18,
           161
          ],
          [
           0,
           10
          ]
         ],
         "hovertemplate": "<b>Partial Downtier</b><br>Country: %{x}<br>Percentage: %{y:.1f}%<br>Count: %{customdata[0]}<br>Total Battles: %{customdata[1]}<br><extra></extra>",
         "marker": {
          "color": "#FF5A00"
         },
         "name": "Partial Downtier",
         "text": [
          "21",
          "6",
          "76",
          "18",
          ""
         ],
         "textfont": {
          "color": "white",
          "size": 10
         },
         "textposition": "inside",
         "type": "bar",
         "x": [
          "France",
          "Germany",
          "Russia",
          "Sweden",
          "USA"
         ],
         "y": [
          42.857142857142854,
          100,
          32.61802575107296,
          11.180124223602485,
          0
         ]
        },
        {
         "customdata": [
          [
           5,
           49
          ],
          [
           0,
           6
          ],
          [
           36,
           233
          ],
          [
           39,
           161
          ],
          [
           6,
           10
          ]
         ],
         "hovertemplate": "<b>Balanced</b><br>Country: %{x}<br>Percentage: %{y:.1f}%<br>Count: %{customdata[0]}<br>Total Battles: %{customdata[1]}<br><extra></extra>",
         "marker": {
          "color": "#0000ff"
         },
         "name": "Balanced",
         "text": [
          "5",
          "",
          "36",
          "39",
          "6"
         ],
         "textfont": {
          "color": "white",
          "size": 10
         },
         "textposition": "inside",
         "type": "bar",
         "x": [
          "France",
          "Germany",
          "Russia",
          "Sweden",
          "USA"
         ],
         "y": [
          10.204081632653061,
          0,
          15.450643776824036,
          24.22360248447205,
          60
         ]
        },
        {
         "customdata": [
          [
           1,
           49
          ],
          [
           0,
           6
          ],
          [
           13,
           233
          ],
          [
           11,
           161
          ],
          [
           1,
           10
          ]
         ],
         "hovertemplate": "<b>Partial Uptier</b><br>Country: %{x}<br>Percentage: %{y:.1f}%<br>Count: %{customdata[0]}<br>Total Battles: %{customdata[1]}<br><extra></extra>",
         "marker": {
          "color": "#00C24E"
         },
         "name": "Partial Uptier",
         "text": [
          "1",
          "",
          "13",
          "11",
          "1"
         ],
         "textfont": {
          "color": "white",
          "size": 10
         },
         "textposition": "inside",
         "type": "bar",
         "x": [
          "France",
          "Germany",
          "Russia",
          "Sweden",
          "USA"
         ],
         "y": [
          2.0408163265306123,
          0,
          5.579399141630901,
          6.832298136645963,
          10
         ]
        },
        {
         "customdata": [
          [
           0,
           49
          ],
          [
           0,
           6
          ],
          [
           24,
           233
          ],
          [
           13,
           161
          ],
          [
           0,
           10
          ]
         ],
         "hovertemplate": "<b>Uptier</b><br>Country: %{x}<br>Percentage: %{y:.1f}%<br>Count: %{customdata[0]}<br>Total Battles: %{customdata[1]}<br><extra></extra>",
         "marker": {
          "color": "#0A9200"
         },
         "name": "Uptier",
         "text": [
          "",
          "",
          "24",
          "13",
          ""
         ],
         "textfont": {
          "color": "white",
          "size": 10
         },
         "textposition": "inside",
         "type": "bar",
         "x": [
          "France",
          "Germany",
          "Russia",
          "Sweden",
          "USA"
         ],
         "y": [
          0,
          0,
          10.300429184549357,
          8.074534161490684,
          0
         ]
        }
       ],
       "layout": {
        "barmode": "stack",
        "height": 600,
        "legend": {
         "orientation": "v",
         "x": 1.02,
         "xanchor": "left",
         "y": 1,
         "yanchor": "top"
        },
        "margin": {
         "b": 100,
         "r": 150
        },
        "plot_bgcolor": "white",
        "template": {
         "data": {
          "bar": [
           {
            "error_x": {
             "color": "#2a3f5f"
            },
            "error_y": {
             "color": "#2a3f5f"
            },
            "marker": {
             "line": {
              "color": "#E5ECF6",
              "width": 0.5
             },
             "pattern": {
              "fillmode": "overlay",
              "size": 10,
              "solidity": 0.2
             }
            },
            "type": "bar"
           }
          ],
          "barpolar": [
           {
            "marker": {
             "line": {
              "color": "#E5ECF6",
              "width": 0.5
             },
             "pattern": {
              "fillmode": "overlay",
              "size": 10,
              "solidity": 0.2
             }
            },
            "type": "barpolar"
           }
          ],
          "carpet": [
           {
            "aaxis": {
             "endlinecolor": "#2a3f5f",
             "gridcolor": "white",
             "linecolor": "white",
             "minorgridcolor": "white",
             "startlinecolor": "#2a3f5f"
            },
            "baxis": {
             "endlinecolor": "#2a3f5f",
             "gridcolor": "white",
             "linecolor": "white",
             "minorgridcolor": "white",
             "startlinecolor": "#2a3f5f"
            },
            "type": "carpet"
           }
          ],
          "choropleth": [
           {
            "colorbar": {
             "outlinewidth": 0,
             "ticks": ""
            },
            "type": "choropleth"
           }
          ],
          "contour": [
           {
            "colorbar": {
             "outlinewidth": 0,
             "ticks": ""
            },
            "colorscale": [
             [
              0,
              "#0d0887"
             ],
             [
              0.1111111111111111,
              "#46039f"
             ],
             [
              0.2222222222222222,
              "#7201a8"
             ],
             [
              0.3333333333333333,
              "#9c179e"
             ],
             [
              0.4444444444444444,
              "#bd3786"
             ],
             [
              0.5555555555555556,
              "#d8576b"
             ],
             [
              0.6666666666666666,
              "#ed7953"
             ],
             [
              0.7777777777777778,
              "#fb9f3a"
             ],
             [
              0.8888888888888888,
              "#fdca26"
             ],
             [
              1,
              "#f0f921"
             ]
            ],
            "type": "contour"
           }
          ],
          "contourcarpet": [
           {
            "colorbar": {
             "outlinewidth": 0,
             "ticks": ""
            },
            "type": "contourcarpet"
           }
          ],
          "heatmap": [
           {
            "colorbar": {
             "outlinewidth": 0,
             "ticks": ""
            },
            "colorscale": [
             [
              0,
              "#0d0887"
             ],
             [
              0.1111111111111111,
              "#46039f"
             ],
             [
              0.2222222222222222,
              "#7201a8"
             ],
             [
              0.3333333333333333,
              "#9c179e"
             ],
             [
              0.4444444444444444,
              "#bd3786"
             ],
             [
              0.5555555555555556,
              "#d8576b"
             ],
             [
              0.6666666666666666,
              "#ed7953"
             ],
             [
              0.7777777777777778,
              "#fb9f3a"
             ],
             [
              0.8888888888888888,
              "#fdca26"
             ],
             [
              1,
              "#f0f921"
             ]
            ],
            "type": "heatmap"
           }
          ],
          "histogram": [
           {
            "marker": {
             "pattern": {
              "fillmode": "overlay",
              "size": 10,
              "solidity": 0.2
             }
            },
            "type": "histogram"
           }
          ],
          "histogram2d": [
           {
            "colorbar": {
             "outlinewidth": 0,
             "ticks": ""
            },
            "colorscale": [
             [
              0,
              "#0d0887"
             ],
             [
              0.1111111111111111,
              "#46039f"
             ],
             [
              0.2222222222222222,
              "#7201a8"
             ],
             [
              0.3333333333333333,
              "#9c179e"
             ],
             [
              0.4444444444444444,
              "#bd3786"
             ],
             [
              0.5555555555555556,
              "#d8576b"
             ],
             [
              0.6666666666666666,
              "#ed7953"
             ],
             [
              0.7777777777777778,
              "#fb9f3a"
             ],
             [
              0.8888888888888888,
              "#fdca26"
             ],
             [
              1,
              "#f0f921"
             ]
            ],
            "type": "histogram2d"
           }
          ],
          "histogram2dcontour": [
           {
            "colorbar": {
             "outlinewidth": 0,
             "ticks": ""
            },
            "colorscale": [
             [
              0,
              "#0d0887"
             ],
             [
              0.1111111111111111,
              "#46039f"
             ],
             [
              0.2222222222222222,
              "#7201a8"
             ],
             [
              0.3333333333333333,
              "#9c179e"
             ],
             [
              0.4444444444444444,
              "#bd3786"
             ],
             [
              0.5555555555555556,
              "#d8576b"
             ],
             [
              0.6666666666666666,
              "#ed7953"
             ],
             [
              0.7777777777777778,
              "#fb9f3a"
             ],
             [
              0.8888888888888888,
              "#fdca26"
             ],
             [
              1,
              "#f0f921"
             ]
            ],
            "type": "histogram2dcontour"
           }
          ],
          "mesh3d": [
           {
            "colorbar": {
             "outlinewidth": 0,
             "ticks": ""
            },
            "type": "mesh3d"
           }
          ],
          "parcoords": [
           {
            "line": {
             "colorbar": {
              "outlinewidth": 0,
              "ticks": ""
             }
            },
            "type": "parcoords"
           }
          ],
          "pie": [
           {
            "automargin": true,
            "type": "pie"
           }
          ],
          "scatter": [
           {
            "fillpattern": {
             "fillmode": "overlay",
             "size": 10,
             "solidity": 0.2
            },
            "type": "scatter"
           }
          ],
          "scatter3d": [
           {
            "line": {
             "colorbar": {
              "outlinewidth": 0,
              "ticks": ""
             }
            },
            "marker": {
             "colorbar": {
              "outlinewidth": 0,
              "ticks": ""
             }
            },
            "type": "scatter3d"
           }
          ],
          "scattercarpet": [
           {
            "marker": {
             "colorbar": {
              "outlinewidth": 0,
              "ticks": ""
             }
            },
            "type": "scattercarpet"
           }
          ],
          "scattergeo": [
           {
            "marker": {
             "colorbar": {
              "outlinewidth": 0,
              "ticks": ""
             }
            },
            "type": "scattergeo"
           }
          ],
          "scattergl": [
           {
            "marker": {
             "colorbar": {
              "outlinewidth": 0,
              "ticks": ""
             }
            },
            "type": "scattergl"
           }
          ],
          "scattermap": [
           {
            "marker": {
             "colorbar": {
              "outlinewidth": 0,
              "ticks": ""
             }
            },
            "type": "scattermap"
           }
          ],
          "scattermapbox": [
           {
            "marker": {
             "colorbar": {
              "outlinewidth": 0,
              "ticks": ""
             }
            },
            "type": "scattermapbox"
           }
          ],
          "scatterpolar": [
           {
            "marker": {
             "colorbar": {
              "outlinewidth": 0,
              "ticks": ""
             }
            },
            "type": "scatterpolar"
           }
          ],
          "scatterpolargl": [
           {
            "marker": {
             "colorbar": {
              "outlinewidth": 0,
              "ticks": ""
             }
            },
            "type": "scatterpolargl"
           }
          ],
          "scatterternary": [
           {
            "marker": {
             "colorbar": {
              "outlinewidth": 0,
              "ticks": ""
             }
            },
            "type": "scatterternary"
           }
          ],
          "surface": [
           {
            "colorbar": {
             "outlinewidth": 0,
             "ticks": ""
            },
            "colorscale": [
             [
              0,
              "#0d0887"
             ],
             [
              0.1111111111111111,
              "#46039f"
             ],
             [
              0.2222222222222222,
              "#7201a8"
             ],
             [
              0.3333333333333333,
              "#9c179e"
             ],
             [
              0.4444444444444444,
              "#bd3786"
             ],
             [
              0.5555555555555556,
              "#d8576b"
             ],
             [
              0.6666666666666666,
              "#ed7953"
             ],
             [
              0.7777777777777778,
              "#fb9f3a"
             ],
             [
              0.8888888888888888,
              "#fdca26"
             ],
             [
              1,
              "#f0f921"
             ]
            ],
            "type": "surface"
           }
          ],
          "table": [
           {
            "cells": {
             "fill": {
              "color": "#EBF0F8"
             },
             "line": {
              "color": "white"
             }
            },
            "header": {
             "fill": {
              "color": "#C8D4E3"
             },
             "line": {
              "color": "white"
             }
            },
            "type": "table"
           }
          ]
         },
         "layout": {
          "annotationdefaults": {
           "arrowcolor": "#2a3f5f",
           "arrowhead": 0,
           "arrowwidth": 1
          },
          "autotypenumbers": "strict",
          "coloraxis": {
           "colorbar": {
            "outlinewidth": 0,
            "ticks": ""
           }
          },
          "colorscale": {
           "diverging": [
            [
             0,
             "#8e0152"
            ],
            [
             0.1,
             "#c51b7d"
            ],
            [
             0.2,
             "#de77ae"
            ],
            [
             0.3,
             "#f1b6da"
            ],
            [
             0.4,
             "#fde0ef"
            ],
            [
             0.5,
             "#f7f7f7"
            ],
            [
             0.6,
             "#e6f5d0"
            ],
            [
             0.7,
             "#b8e186"
            ],
            [
             0.8,
             "#7fbc41"
            ],
            [
             0.9,
             "#4d9221"
            ],
            [
             1,
             "#276419"
            ]
           ],
           "sequential": [
            [
             0,
             "#0d0887"
            ],
            [
             0.1111111111111111,
             "#46039f"
            ],
            [
             0.2222222222222222,
             "#7201a8"
            ],
            [
             0.3333333333333333,
             "#9c179e"
            ],
            [
             0.4444444444444444,
             "#bd3786"
            ],
            [
             0.5555555555555556,
             "#d8576b"
            ],
            [
             0.6666666666666666,
             "#ed7953"
            ],
            [
             0.7777777777777778,
             "#fb9f3a"
            ],
            [
             0.8888888888888888,
             "#fdca26"
            ],
            [
             1,
             "#f0f921"
            ]
           ],
           "sequentialminus": [
            [
             0,
             "#0d0887"
            ],
            [
             0.1111111111111111,
             "#46039f"
            ],
            [
             0.2222222222222222,
             "#7201a8"
            ],
            [
             0.3333333333333333,
             "#9c179e"
            ],
            [
             0.4444444444444444,
             "#bd3786"
            ],
            [
             0.5555555555555556,
             "#d8576b"
            ],
            [
             0.6666666666666666,
             "#ed7953"
            ],
            [
             0.7777777777777778,
             "#fb9f3a"
            ],
            [
             0.8888888888888888,
             "#fdca26"
            ],
            [
             1,
             "#f0f921"
            ]
           ]
          },
          "colorway": [
           "#636efa",
           "#EF553B",
           "#00cc96",
           "#ab63fa",
           "#FFA15A",
           "#19d3f3",
           "#FF6692",
           "#B6E880",
           "#FF97FF",
           "#FECB52"
          ],
          "font": {
           "color": "#2a3f5f"
          },
          "geo": {
           "bgcolor": "white",
           "lakecolor": "white",
           "landcolor": "#E5ECF6",
           "showlakes": true,
           "showland": true,
           "subunitcolor": "white"
          },
          "hoverlabel": {
           "align": "left"
          },
          "hovermode": "closest",
          "mapbox": {
           "style": "light"
          },
          "paper_bgcolor": "white",
          "plot_bgcolor": "#E5ECF6",
          "polar": {
           "angularaxis": {
            "gridcolor": "white",
            "linecolor": "white",
            "ticks": ""
           },
           "bgcolor": "#E5ECF6",
           "radialaxis": {
            "gridcolor": "white",
            "linecolor": "white",
            "ticks": ""
           }
          },
          "scene": {
           "xaxis": {
            "backgroundcolor": "#E5ECF6",
            "gridcolor": "white",
            "gridwidth": 2,
            "linecolor": "white",
            "showbackground": true,
            "ticks": "",
            "zerolinecolor": "white"
           },
           "yaxis": {
            "backgroundcolor": "#E5ECF6",
            "gridcolor": "white",
            "gridwidth": 2,
            "linecolor": "white",
            "showbackground": true,
            "ticks": "",
            "zerolinecolor": "white"
           },
           "zaxis": {
            "backgroundcolor": "#E5ECF6",
            "gridcolor": "white",
            "gridwidth": 2,
            "linecolor": "white",
            "showbackground": true,
            "ticks": "",
            "zerolinecolor": "white"
           }
          },
          "shapedefaults": {
           "line": {
            "color": "#2a3f5f"
           }
          },
          "ternary": {
           "aaxis": {
            "gridcolor": "white",
            "linecolor": "white",
            "ticks": ""
           },
           "baxis": {
            "gridcolor": "white",
            "linecolor": "white",
            "ticks": ""
           },
           "bgcolor": "#E5ECF6",
           "caxis": {
            "gridcolor": "white",
            "linecolor": "white",
            "ticks": ""
           }
          },
          "title": {
           "x": 0.05
          },
          "xaxis": {
           "automargin": true,
           "gridcolor": "white",
           "linecolor": "white",
           "ticks": "",
           "title": {
            "standoff": 15
           },
           "zerolinecolor": "white",
           "zerolinewidth": 2
          },
          "yaxis": {
           "automargin": true,
           "gridcolor": "white",
           "linecolor": "white",
           "ticks": "",
           "title": {
            "standoff": 15
           },
           "zerolinecolor": "white",
           "zerolinewidth": 2
          }
         }
        },
        "title": {
         "font": {
          "size": 16
         },
         "text": "Battle Rating Tier Frequency by Country (Player: Ranol, Battles: 459)",
         "x": 0.5,
         "xanchor": "center"
        },
        "width": 800,
        "xaxis": {
         "tickangle": 0,
         "title": {
          "text": "Country"
         }
        },
        "yaxis": {
         "range": [
          0,
          100
         ],
         "title": {
          "text": "Percentage (%)"
         }
        }
       }
      },
      "text/html": [
       "<div>            <script src=\"https://cdnjs.cloudflare.com/ajax/libs/mathjax/2.7.5/MathJax.js?config=TeX-AMS-MML_SVG\"></script><script type=\"text/javascript\">if (window.MathJax && window.MathJax.Hub && window.MathJax.Hub.Config) {window.MathJax.Hub.Config({SVG: {font: \"STIX-Web\"}});}</script>                <script type=\"text/javascript\">window.PlotlyConfig = {MathJaxConfig: 'local'};</script>\n",
       "        <script charset=\"utf-8\" src=\"https://cdn.plot.ly/plotly-3.1.0.min.js\" integrity=\"sha256-Ei4740bWZhaUTQuD6q9yQlgVCMPBz6CZWhevDYPv93A=\" crossorigin=\"anonymous\"></script>                <div id=\"f90a7646-dcab-4d7a-aba5-226861b9f052\" class=\"plotly-graph-div\" style=\"height:600px; width:800px;\"></div>            <script type=\"text/javascript\">                window.PLOTLYENV=window.PLOTLYENV || {};                                if (document.getElementById(\"f90a7646-dcab-4d7a-aba5-226861b9f052\")) {                    Plotly.newPlot(                        \"f90a7646-dcab-4d7a-aba5-226861b9f052\",                        [{\"customdata\":[[22,49],[0,6],[84,233],[80,161],[3,10]],\"hovertemplate\":\"\\u003cb\\u003eDowntier\\u003c\\u002fb\\u003e\\u003cbr\\u003eCountry: %{x}\\u003cbr\\u003ePercentage: %{y:.1f}%\\u003cbr\\u003eCount: %{customdata[0]}\\u003cbr\\u003eTotal Battles: %{customdata[1]}\\u003cbr\\u003e\\u003cextra\\u003e\\u003c\\u002fextra\\u003e\",\"marker\":{\"color\":\"#ff0000\"},\"name\":\"Downtier\",\"text\":[\"22\",\"\",\"84\",\"80\",\"3\"],\"textfont\":{\"color\":\"white\",\"size\":10},\"textposition\":\"inside\",\"x\":[\"France\",\"Germany\",\"Russia\",\"Sweden\",\"USA\"],\"y\":[44.89795918367347,0.0,36.05150214592275,49.68944099378882,30.0],\"type\":\"bar\"},{\"customdata\":[[21,49],[6,6],[76,233],[18,161],[0,10]],\"hovertemplate\":\"\\u003cb\\u003ePartial Downtier\\u003c\\u002fb\\u003e\\u003cbr\\u003eCountry: %{x}\\u003cbr\\u003ePercentage: %{y:.1f}%\\u003cbr\\u003eCount: %{customdata[0]}\\u003cbr\\u003eTotal Battles: %{customdata[1]}\\u003cbr\\u003e\\u003cextra\\u003e\\u003c\\u002fextra\\u003e\",\"marker\":{\"color\":\"#FF5A00\"},\"name\":\"Partial Downtier\",\"text\":[\"21\",\"6\",\"76\",\"18\",\"\"],\"textfont\":{\"color\":\"white\",\"size\":10},\"textposition\":\"inside\",\"x\":[\"France\",\"Germany\",\"Russia\",\"Sweden\",\"USA\"],\"y\":[42.857142857142854,100.0,32.61802575107296,11.180124223602485,0.0],\"type\":\"bar\"},{\"customdata\":[[5,49],[0,6],[36,233],[39,161],[6,10]],\"hovertemplate\":\"\\u003cb\\u003eBalanced\\u003c\\u002fb\\u003e\\u003cbr\\u003eCountry: %{x}\\u003cbr\\u003ePercentage: %{y:.1f}%\\u003cbr\\u003eCount: %{customdata[0]}\\u003cbr\\u003eTotal Battles: %{customdata[1]}\\u003cbr\\u003e\\u003cextra\\u003e\\u003c\\u002fextra\\u003e\",\"marker\":{\"color\":\"#0000ff\"},\"name\":\"Balanced\",\"text\":[\"5\",\"\",\"36\",\"39\",\"6\"],\"textfont\":{\"color\":\"white\",\"size\":10},\"textposition\":\"inside\",\"x\":[\"France\",\"Germany\",\"Russia\",\"Sweden\",\"USA\"],\"y\":[10.204081632653061,0.0,15.450643776824036,24.22360248447205,60.0],\"type\":\"bar\"},{\"customdata\":[[1,49],[0,6],[13,233],[11,161],[1,10]],\"hovertemplate\":\"\\u003cb\\u003ePartial Uptier\\u003c\\u002fb\\u003e\\u003cbr\\u003eCountry: %{x}\\u003cbr\\u003ePercentage: %{y:.1f}%\\u003cbr\\u003eCount: %{customdata[0]}\\u003cbr\\u003eTotal Battles: %{customdata[1]}\\u003cbr\\u003e\\u003cextra\\u003e\\u003c\\u002fextra\\u003e\",\"marker\":{\"color\":\"#00C24E\"},\"name\":\"Partial Uptier\",\"text\":[\"1\",\"\",\"13\",\"11\",\"1\"],\"textfont\":{\"color\":\"white\",\"size\":10},\"textposition\":\"inside\",\"x\":[\"France\",\"Germany\",\"Russia\",\"Sweden\",\"USA\"],\"y\":[2.0408163265306123,0.0,5.579399141630901,6.832298136645963,10.0],\"type\":\"bar\"},{\"customdata\":[[0,49],[0,6],[24,233],[13,161],[0,10]],\"hovertemplate\":\"\\u003cb\\u003eUptier\\u003c\\u002fb\\u003e\\u003cbr\\u003eCountry: %{x}\\u003cbr\\u003ePercentage: %{y:.1f}%\\u003cbr\\u003eCount: %{customdata[0]}\\u003cbr\\u003eTotal Battles: %{customdata[1]}\\u003cbr\\u003e\\u003cextra\\u003e\\u003c\\u002fextra\\u003e\",\"marker\":{\"color\":\"#0A9200\"},\"name\":\"Uptier\",\"text\":[\"\",\"\",\"24\",\"13\",\"\"],\"textfont\":{\"color\":\"white\",\"size\":10},\"textposition\":\"inside\",\"x\":[\"France\",\"Germany\",\"Russia\",\"Sweden\",\"USA\"],\"y\":[0.0,0.0,10.300429184549357,8.074534161490684,0.0],\"type\":\"bar\"}],                        {\"template\":{\"data\":{\"histogram2dcontour\":[{\"type\":\"histogram2dcontour\",\"colorbar\":{\"outlinewidth\":0,\"ticks\":\"\"},\"colorscale\":[[0.0,\"#0d0887\"],[0.1111111111111111,\"#46039f\"],[0.2222222222222222,\"#7201a8\"],[0.3333333333333333,\"#9c179e\"],[0.4444444444444444,\"#bd3786\"],[0.5555555555555556,\"#d8576b\"],[0.6666666666666666,\"#ed7953\"],[0.7777777777777778,\"#fb9f3a\"],[0.8888888888888888,\"#fdca26\"],[1.0,\"#f0f921\"]]}],\"choropleth\":[{\"type\":\"choropleth\",\"colorbar\":{\"outlinewidth\":0,\"ticks\":\"\"}}],\"histogram2d\":[{\"type\":\"histogram2d\",\"colorbar\":{\"outlinewidth\":0,\"ticks\":\"\"},\"colorscale\":[[0.0,\"#0d0887\"],[0.1111111111111111,\"#46039f\"],[0.2222222222222222,\"#7201a8\"],[0.3333333333333333,\"#9c179e\"],[0.4444444444444444,\"#bd3786\"],[0.5555555555555556,\"#d8576b\"],[0.6666666666666666,\"#ed7953\"],[0.7777777777777778,\"#fb9f3a\"],[0.8888888888888888,\"#fdca26\"],[1.0,\"#f0f921\"]]}],\"heatmap\":[{\"type\":\"heatmap\",\"colorbar\":{\"outlinewidth\":0,\"ticks\":\"\"},\"colorscale\":[[0.0,\"#0d0887\"],[0.1111111111111111,\"#46039f\"],[0.2222222222222222,\"#7201a8\"],[0.3333333333333333,\"#9c179e\"],[0.4444444444444444,\"#bd3786\"],[0.5555555555555556,\"#d8576b\"],[0.6666666666666666,\"#ed7953\"],[0.7777777777777778,\"#fb9f3a\"],[0.8888888888888888,\"#fdca26\"],[1.0,\"#f0f921\"]]}],\"contourcarpet\":[{\"type\":\"contourcarpet\",\"colorbar\":{\"outlinewidth\":0,\"ticks\":\"\"}}],\"contour\":[{\"type\":\"contour\",\"colorbar\":{\"outlinewidth\":0,\"ticks\":\"\"},\"colorscale\":[[0.0,\"#0d0887\"],[0.1111111111111111,\"#46039f\"],[0.2222222222222222,\"#7201a8\"],[0.3333333333333333,\"#9c179e\"],[0.4444444444444444,\"#bd3786\"],[0.5555555555555556,\"#d8576b\"],[0.6666666666666666,\"#ed7953\"],[0.7777777777777778,\"#fb9f3a\"],[0.8888888888888888,\"#fdca26\"],[1.0,\"#f0f921\"]]}],\"surface\":[{\"type\":\"surface\",\"colorbar\":{\"outlinewidth\":0,\"ticks\":\"\"},\"colorscale\":[[0.0,\"#0d0887\"],[0.1111111111111111,\"#46039f\"],[0.2222222222222222,\"#7201a8\"],[0.3333333333333333,\"#9c179e\"],[0.4444444444444444,\"#bd3786\"],[0.5555555555555556,\"#d8576b\"],[0.6666666666666666,\"#ed7953\"],[0.7777777777777778,\"#fb9f3a\"],[0.8888888888888888,\"#fdca26\"],[1.0,\"#f0f921\"]]}],\"mesh3d\":[{\"type\":\"mesh3d\",\"colorbar\":{\"outlinewidth\":0,\"ticks\":\"\"}}],\"scatter\":[{\"fillpattern\":{\"fillmode\":\"overlay\",\"size\":10,\"solidity\":0.2},\"type\":\"scatter\"}],\"parcoords\":[{\"type\":\"parcoords\",\"line\":{\"colorbar\":{\"outlinewidth\":0,\"ticks\":\"\"}}}],\"scatterpolargl\":[{\"type\":\"scatterpolargl\",\"marker\":{\"colorbar\":{\"outlinewidth\":0,\"ticks\":\"\"}}}],\"bar\":[{\"error_x\":{\"color\":\"#2a3f5f\"},\"error_y\":{\"color\":\"#2a3f5f\"},\"marker\":{\"line\":{\"color\":\"#E5ECF6\",\"width\":0.5},\"pattern\":{\"fillmode\":\"overlay\",\"size\":10,\"solidity\":0.2}},\"type\":\"bar\"}],\"scattergeo\":[{\"type\":\"scattergeo\",\"marker\":{\"colorbar\":{\"outlinewidth\":0,\"ticks\":\"\"}}}],\"scatterpolar\":[{\"type\":\"scatterpolar\",\"marker\":{\"colorbar\":{\"outlinewidth\":0,\"ticks\":\"\"}}}],\"histogram\":[{\"marker\":{\"pattern\":{\"fillmode\":\"overlay\",\"size\":10,\"solidity\":0.2}},\"type\":\"histogram\"}],\"scattergl\":[{\"type\":\"scattergl\",\"marker\":{\"colorbar\":{\"outlinewidth\":0,\"ticks\":\"\"}}}],\"scatter3d\":[{\"type\":\"scatter3d\",\"line\":{\"colorbar\":{\"outlinewidth\":0,\"ticks\":\"\"}},\"marker\":{\"colorbar\":{\"outlinewidth\":0,\"ticks\":\"\"}}}],\"scattermap\":[{\"type\":\"scattermap\",\"marker\":{\"colorbar\":{\"outlinewidth\":0,\"ticks\":\"\"}}}],\"scattermapbox\":[{\"type\":\"scattermapbox\",\"marker\":{\"colorbar\":{\"outlinewidth\":0,\"ticks\":\"\"}}}],\"scatterternary\":[{\"type\":\"scatterternary\",\"marker\":{\"colorbar\":{\"outlinewidth\":0,\"ticks\":\"\"}}}],\"scattercarpet\":[{\"type\":\"scattercarpet\",\"marker\":{\"colorbar\":{\"outlinewidth\":0,\"ticks\":\"\"}}}],\"carpet\":[{\"aaxis\":{\"endlinecolor\":\"#2a3f5f\",\"gridcolor\":\"white\",\"linecolor\":\"white\",\"minorgridcolor\":\"white\",\"startlinecolor\":\"#2a3f5f\"},\"baxis\":{\"endlinecolor\":\"#2a3f5f\",\"gridcolor\":\"white\",\"linecolor\":\"white\",\"minorgridcolor\":\"white\",\"startlinecolor\":\"#2a3f5f\"},\"type\":\"carpet\"}],\"table\":[{\"cells\":{\"fill\":{\"color\":\"#EBF0F8\"},\"line\":{\"color\":\"white\"}},\"header\":{\"fill\":{\"color\":\"#C8D4E3\"},\"line\":{\"color\":\"white\"}},\"type\":\"table\"}],\"barpolar\":[{\"marker\":{\"line\":{\"color\":\"#E5ECF6\",\"width\":0.5},\"pattern\":{\"fillmode\":\"overlay\",\"size\":10,\"solidity\":0.2}},\"type\":\"barpolar\"}],\"pie\":[{\"automargin\":true,\"type\":\"pie\"}]},\"layout\":{\"autotypenumbers\":\"strict\",\"colorway\":[\"#636efa\",\"#EF553B\",\"#00cc96\",\"#ab63fa\",\"#FFA15A\",\"#19d3f3\",\"#FF6692\",\"#B6E880\",\"#FF97FF\",\"#FECB52\"],\"font\":{\"color\":\"#2a3f5f\"},\"hovermode\":\"closest\",\"hoverlabel\":{\"align\":\"left\"},\"paper_bgcolor\":\"white\",\"plot_bgcolor\":\"#E5ECF6\",\"polar\":{\"bgcolor\":\"#E5ECF6\",\"angularaxis\":{\"gridcolor\":\"white\",\"linecolor\":\"white\",\"ticks\":\"\"},\"radialaxis\":{\"gridcolor\":\"white\",\"linecolor\":\"white\",\"ticks\":\"\"}},\"ternary\":{\"bgcolor\":\"#E5ECF6\",\"aaxis\":{\"gridcolor\":\"white\",\"linecolor\":\"white\",\"ticks\":\"\"},\"baxis\":{\"gridcolor\":\"white\",\"linecolor\":\"white\",\"ticks\":\"\"},\"caxis\":{\"gridcolor\":\"white\",\"linecolor\":\"white\",\"ticks\":\"\"}},\"coloraxis\":{\"colorbar\":{\"outlinewidth\":0,\"ticks\":\"\"}},\"colorscale\":{\"sequential\":[[0.0,\"#0d0887\"],[0.1111111111111111,\"#46039f\"],[0.2222222222222222,\"#7201a8\"],[0.3333333333333333,\"#9c179e\"],[0.4444444444444444,\"#bd3786\"],[0.5555555555555556,\"#d8576b\"],[0.6666666666666666,\"#ed7953\"],[0.7777777777777778,\"#fb9f3a\"],[0.8888888888888888,\"#fdca26\"],[1.0,\"#f0f921\"]],\"sequentialminus\":[[0.0,\"#0d0887\"],[0.1111111111111111,\"#46039f\"],[0.2222222222222222,\"#7201a8\"],[0.3333333333333333,\"#9c179e\"],[0.4444444444444444,\"#bd3786\"],[0.5555555555555556,\"#d8576b\"],[0.6666666666666666,\"#ed7953\"],[0.7777777777777778,\"#fb9f3a\"],[0.8888888888888888,\"#fdca26\"],[1.0,\"#f0f921\"]],\"diverging\":[[0,\"#8e0152\"],[0.1,\"#c51b7d\"],[0.2,\"#de77ae\"],[0.3,\"#f1b6da\"],[0.4,\"#fde0ef\"],[0.5,\"#f7f7f7\"],[0.6,\"#e6f5d0\"],[0.7,\"#b8e186\"],[0.8,\"#7fbc41\"],[0.9,\"#4d9221\"],[1,\"#276419\"]]},\"xaxis\":{\"gridcolor\":\"white\",\"linecolor\":\"white\",\"ticks\":\"\",\"title\":{\"standoff\":15},\"zerolinecolor\":\"white\",\"automargin\":true,\"zerolinewidth\":2},\"yaxis\":{\"gridcolor\":\"white\",\"linecolor\":\"white\",\"ticks\":\"\",\"title\":{\"standoff\":15},\"zerolinecolor\":\"white\",\"automargin\":true,\"zerolinewidth\":2},\"scene\":{\"xaxis\":{\"backgroundcolor\":\"#E5ECF6\",\"gridcolor\":\"white\",\"linecolor\":\"white\",\"showbackground\":true,\"ticks\":\"\",\"zerolinecolor\":\"white\",\"gridwidth\":2},\"yaxis\":{\"backgroundcolor\":\"#E5ECF6\",\"gridcolor\":\"white\",\"linecolor\":\"white\",\"showbackground\":true,\"ticks\":\"\",\"zerolinecolor\":\"white\",\"gridwidth\":2},\"zaxis\":{\"backgroundcolor\":\"#E5ECF6\",\"gridcolor\":\"white\",\"linecolor\":\"white\",\"showbackground\":true,\"ticks\":\"\",\"zerolinecolor\":\"white\",\"gridwidth\":2}},\"shapedefaults\":{\"line\":{\"color\":\"#2a3f5f\"}},\"annotationdefaults\":{\"arrowcolor\":\"#2a3f5f\",\"arrowhead\":0,\"arrowwidth\":1},\"geo\":{\"bgcolor\":\"white\",\"landcolor\":\"#E5ECF6\",\"subunitcolor\":\"white\",\"showland\":true,\"showlakes\":true,\"lakecolor\":\"white\"},\"title\":{\"x\":0.05},\"mapbox\":{\"style\":\"light\"}}},\"title\":{\"font\":{\"size\":16},\"text\":\"Battle Rating Tier Frequency by Country (Player: Ranol, Battles: 459)\",\"x\":0.5,\"xanchor\":\"center\"},\"xaxis\":{\"title\":{\"text\":\"Country\"},\"tickangle\":0},\"yaxis\":{\"title\":{\"text\":\"Percentage (%)\"},\"range\":[0,100]},\"legend\":{\"orientation\":\"v\",\"yanchor\":\"top\",\"y\":1,\"xanchor\":\"left\",\"x\":1.02},\"margin\":{\"r\":150,\"b\":100},\"barmode\":\"stack\",\"width\":800,\"height\":600,\"plot_bgcolor\":\"white\"},                        {\"responsive\": true}                    ).then(function(){\n",
       "                            \n",
       "var gd = document.getElementById('f90a7646-dcab-4d7a-aba5-226861b9f052');\n",
       "var x = new MutationObserver(function (mutations, observer) {{\n",
       "        var display = window.getComputedStyle(gd).display;\n",
       "        if (!display || display === 'none') {{\n",
       "            console.log([gd, 'removed!']);\n",
       "            Plotly.purge(gd);\n",
       "            observer.disconnect();\n",
       "        }}\n",
       "}});\n",
       "\n",
       "// Listen for the removal of the full notebook cells\n",
       "var notebookContainer = gd.closest('#notebook-container');\n",
       "if (notebookContainer) {{\n",
       "    x.observe(notebookContainer, {childList: true});\n",
       "}}\n",
       "\n",
       "// Listen for the clearing of the current output cell\n",
       "var outputEl = gd.closest('.output');\n",
       "if (outputEl) {{\n",
       "    x.observe(outputEl, {childList: true});\n",
       "}}\n",
       "\n",
       "                        })                };            </script>        </div>"
      ]
     },
     "metadata": {},
     "output_type": "display_data"
    },
    {
     "data": {
      "application/vnd.plotly.v1+json": {
       "config": {
        "plotlyServerURL": "https://plot.ly"
       },
       "data": [
        {
         "customdata": [
          [
           15,
           17
          ],
          [
           0,
           29
          ],
          [
           3,
           11
          ],
          [
           20,
           30
          ],
          [
           14,
           49
          ],
          [
           14,
           19
          ],
          [
           18,
           34
          ],
          [
           16,
           83
          ],
          [
           3,
           43
          ],
          [
           11,
           20
          ],
          [
           10,
           18
          ],
          [
           3,
           5
          ],
          [
           35,
           61
          ],
          [
           27,
           40
          ]
         ],
         "hovertemplate": "<b>Downtier</b><br>Battle Rating: %{x}<br>Percentage: %{y:.1f}%<br>Count: %{customdata[0]}<br>Total Battles: %{customdata[1]}<br><extra></extra>",
         "marker": {
          "color": "#ff0000"
         },
         "name": "Downtier",
         "text": [
          "15",
          "",
          "3",
          "20",
          "14",
          "14",
          "18",
          "16",
          "3",
          "11",
          "10",
          "3",
          "35",
          "27"
         ],
         "textfont": {
          "color": "white",
          "size": 9
         },
         "textposition": "inside",
         "type": "bar",
         "x": [
          1,
          1.3,
          1.7,
          2.3,
          2.7,
          3.3,
          3.7,
          4,
          4.3,
          4.7,
          5,
          5.3,
          5.7,
          6.7
         ],
         "y": [
          88.23529411764706,
          0,
          27.27272727272727,
          66.66666666666666,
          28.57142857142857,
          73.68421052631578,
          52.94117647058824,
          19.27710843373494,
          6.976744186046512,
          55.00000000000001,
          55.55555555555556,
          60,
          57.377049180327866,
          67.5
         ]
        },
        {
         "customdata": [
          [
           2,
           17
          ],
          [
           28,
           29
          ],
          [
           0,
           11
          ],
          [
           8,
           30
          ],
          [
           0,
           49
          ],
          [
           3,
           19
          ],
          [
           0,
           34
          ],
          [
           56,
           83
          ],
          [
           18,
           43
          ],
          [
           0,
           20
          ],
          [
           5,
           18
          ],
          [
           1,
           5
          ],
          [
           0,
           61
          ],
          [
           0,
           40
          ]
         ],
         "hovertemplate": "<b>Partial Downtier</b><br>Battle Rating: %{x}<br>Percentage: %{y:.1f}%<br>Count: %{customdata[0]}<br>Total Battles: %{customdata[1]}<br><extra></extra>",
         "marker": {
          "color": "#FF5A00"
         },
         "name": "Partial Downtier",
         "text": [
          "2",
          "28",
          "",
          "8",
          "",
          "3",
          "",
          "56",
          "18",
          "",
          "5",
          "1",
          "",
          ""
         ],
         "textfont": {
          "color": "white",
          "size": 9
         },
         "textposition": "inside",
         "type": "bar",
         "x": [
          1,
          1.3,
          1.7,
          2.3,
          2.7,
          3.3,
          3.7,
          4,
          4.3,
          4.7,
          5,
          5.3,
          5.7,
          6.7
         ],
         "y": [
          11.76470588235294,
          96.55172413793103,
          0,
          26.666666666666668,
          0,
          15.789473684210526,
          0,
          67.46987951807229,
          41.86046511627907,
          0,
          27.77777777777778,
          20,
          0,
          0
         ]
        },
        {
         "customdata": [
          [
           0,
           17
          ],
          [
           0,
           29
          ],
          [
           5,
           11
          ],
          [
           2,
           30
          ],
          [
           33,
           49
          ],
          [
           0,
           19
          ],
          [
           12,
           34
          ],
          [
           0,
           83
          ],
          [
           10,
           43
          ],
          [
           1,
           20
          ],
          [
           0,
           18
          ],
          [
           0,
           5
          ],
          [
           18,
           61
          ],
          [
           5,
           40
          ]
         ],
         "hovertemplate": "<b>Balanced</b><br>Battle Rating: %{x}<br>Percentage: %{y:.1f}%<br>Count: %{customdata[0]}<br>Total Battles: %{customdata[1]}<br><extra></extra>",
         "marker": {
          "color": "#0000ff"
         },
         "name": "Balanced",
         "text": [
          "",
          "",
          "5",
          "2",
          "33",
          "",
          "12",
          "",
          "10",
          "1",
          "",
          "",
          "18",
          "5"
         ],
         "textfont": {
          "color": "white",
          "size": 9
         },
         "textposition": "inside",
         "type": "bar",
         "x": [
          1,
          1.3,
          1.7,
          2.3,
          2.7,
          3.3,
          3.7,
          4,
          4.3,
          4.7,
          5,
          5.3,
          5.7,
          6.7
         ],
         "y": [
          0,
          0,
          45.45454545454545,
          6.666666666666667,
          67.3469387755102,
          0,
          35.294117647058826,
          0,
          23.25581395348837,
          5,
          0,
          0,
          29.508196721311474,
          12.5
         ]
        },
        {
         "customdata": [
          [
           0,
           17
          ],
          [
           1,
           29
          ],
          [
           3,
           11
          ],
          [
           0,
           30
          ],
          [
           2,
           49
          ],
          [
           0,
           19
          ],
          [
           2,
           34
          ],
          [
           10,
           83
          ],
          [
           0,
           43
          ],
          [
           3,
           20
          ],
          [
           1,
           18
          ],
          [
           0,
           5
          ],
          [
           4,
           61
          ],
          [
           0,
           40
          ]
         ],
         "hovertemplate": "<b>Partial Uptier</b><br>Battle Rating: %{x}<br>Percentage: %{y:.1f}%<br>Count: %{customdata[0]}<br>Total Battles: %{customdata[1]}<br><extra></extra>",
         "marker": {
          "color": "#00C24E"
         },
         "name": "Partial Uptier",
         "text": [
          "",
          "1",
          "3",
          "",
          "2",
          "",
          "2",
          "10",
          "",
          "3",
          "1",
          "",
          "4",
          ""
         ],
         "textfont": {
          "color": "white",
          "size": 9
         },
         "textposition": "inside",
         "type": "bar",
         "x": [
          1,
          1.3,
          1.7,
          2.3,
          2.7,
          3.3,
          3.7,
          4,
          4.3,
          4.7,
          5,
          5.3,
          5.7,
          6.7
         ],
         "y": [
          0,
          3.4482758620689653,
          27.27272727272727,
          0,
          4.081632653061225,
          0,
          5.88235294117647,
          12.048192771084338,
          0,
          15,
          5.555555555555555,
          0,
          6.557377049180328,
          0
         ]
        },
        {
         "customdata": [
          [
           0,
           17
          ],
          [
           0,
           29
          ],
          [
           0,
           11
          ],
          [
           0,
           30
          ],
          [
           0,
           49
          ],
          [
           2,
           19
          ],
          [
           2,
           34
          ],
          [
           1,
           83
          ],
          [
           12,
           43
          ],
          [
           5,
           20
          ],
          [
           2,
           18
          ],
          [
           1,
           5
          ],
          [
           4,
           61
          ],
          [
           8,
           40
          ]
         ],
         "hovertemplate": "<b>Uptier</b><br>Battle Rating: %{x}<br>Percentage: %{y:.1f}%<br>Count: %{customdata[0]}<br>Total Battles: %{customdata[1]}<br><extra></extra>",
         "marker": {
          "color": "#0A9200"
         },
         "name": "Uptier",
         "text": [
          "",
          "",
          "",
          "",
          "",
          "2",
          "2",
          "1",
          "12",
          "5",
          "2",
          "1",
          "4",
          "8"
         ],
         "textfont": {
          "color": "white",
          "size": 9
         },
         "textposition": "inside",
         "type": "bar",
         "x": [
          1,
          1.3,
          1.7,
          2.3,
          2.7,
          3.3,
          3.7,
          4,
          4.3,
          4.7,
          5,
          5.3,
          5.7,
          6.7
         ],
         "y": [
          0,
          0,
          0,
          0,
          0,
          10.526315789473683,
          5.88235294117647,
          1.2048192771084338,
          27.906976744186046,
          25,
          11.11111111111111,
          20,
          6.557377049180328,
          20
         ]
        }
       ],
       "layout": {
        "barmode": "stack",
        "height": 600,
        "legend": {
         "orientation": "v",
         "x": 1.02,
         "xanchor": "left",
         "y": 1,
         "yanchor": "top"
        },
        "margin": {
         "b": 100,
         "r": 150
        },
        "plot_bgcolor": "white",
        "template": {
         "data": {
          "bar": [
           {
            "error_x": {
             "color": "#2a3f5f"
            },
            "error_y": {
             "color": "#2a3f5f"
            },
            "marker": {
             "line": {
              "color": "#E5ECF6",
              "width": 0.5
             },
             "pattern": {
              "fillmode": "overlay",
              "size": 10,
              "solidity": 0.2
             }
            },
            "type": "bar"
           }
          ],
          "barpolar": [
           {
            "marker": {
             "line": {
              "color": "#E5ECF6",
              "width": 0.5
             },
             "pattern": {
              "fillmode": "overlay",
              "size": 10,
              "solidity": 0.2
             }
            },
            "type": "barpolar"
           }
          ],
          "carpet": [
           {
            "aaxis": {
             "endlinecolor": "#2a3f5f",
             "gridcolor": "white",
             "linecolor": "white",
             "minorgridcolor": "white",
             "startlinecolor": "#2a3f5f"
            },
            "baxis": {
             "endlinecolor": "#2a3f5f",
             "gridcolor": "white",
             "linecolor": "white",
             "minorgridcolor": "white",
             "startlinecolor": "#2a3f5f"
            },
            "type": "carpet"
           }
          ],
          "choropleth": [
           {
            "colorbar": {
             "outlinewidth": 0,
             "ticks": ""
            },
            "type": "choropleth"
           }
          ],
          "contour": [
           {
            "colorbar": {
             "outlinewidth": 0,
             "ticks": ""
            },
            "colorscale": [
             [
              0,
              "#0d0887"
             ],
             [
              0.1111111111111111,
              "#46039f"
             ],
             [
              0.2222222222222222,
              "#7201a8"
             ],
             [
              0.3333333333333333,
              "#9c179e"
             ],
             [
              0.4444444444444444,
              "#bd3786"
             ],
             [
              0.5555555555555556,
              "#d8576b"
             ],
             [
              0.6666666666666666,
              "#ed7953"
             ],
             [
              0.7777777777777778,
              "#fb9f3a"
             ],
             [
              0.8888888888888888,
              "#fdca26"
             ],
             [
              1,
              "#f0f921"
             ]
            ],
            "type": "contour"
           }
          ],
          "contourcarpet": [
           {
            "colorbar": {
             "outlinewidth": 0,
             "ticks": ""
            },
            "type": "contourcarpet"
           }
          ],
          "heatmap": [
           {
            "colorbar": {
             "outlinewidth": 0,
             "ticks": ""
            },
            "colorscale": [
             [
              0,
              "#0d0887"
             ],
             [
              0.1111111111111111,
              "#46039f"
             ],
             [
              0.2222222222222222,
              "#7201a8"
             ],
             [
              0.3333333333333333,
              "#9c179e"
             ],
             [
              0.4444444444444444,
              "#bd3786"
             ],
             [
              0.5555555555555556,
              "#d8576b"
             ],
             [
              0.6666666666666666,
              "#ed7953"
             ],
             [
              0.7777777777777778,
              "#fb9f3a"
             ],
             [
              0.8888888888888888,
              "#fdca26"
             ],
             [
              1,
              "#f0f921"
             ]
            ],
            "type": "heatmap"
           }
          ],
          "histogram": [
           {
            "marker": {
             "pattern": {
              "fillmode": "overlay",
              "size": 10,
              "solidity": 0.2
             }
            },
            "type": "histogram"
           }
          ],
          "histogram2d": [
           {
            "colorbar": {
             "outlinewidth": 0,
             "ticks": ""
            },
            "colorscale": [
             [
              0,
              "#0d0887"
             ],
             [
              0.1111111111111111,
              "#46039f"
             ],
             [
              0.2222222222222222,
              "#7201a8"
             ],
             [
              0.3333333333333333,
              "#9c179e"
             ],
             [
              0.4444444444444444,
              "#bd3786"
             ],
             [
              0.5555555555555556,
              "#d8576b"
             ],
             [
              0.6666666666666666,
              "#ed7953"
             ],
             [
              0.7777777777777778,
              "#fb9f3a"
             ],
             [
              0.8888888888888888,
              "#fdca26"
             ],
             [
              1,
              "#f0f921"
             ]
            ],
            "type": "histogram2d"
           }
          ],
          "histogram2dcontour": [
           {
            "colorbar": {
             "outlinewidth": 0,
             "ticks": ""
            },
            "colorscale": [
             [
              0,
              "#0d0887"
             ],
             [
              0.1111111111111111,
              "#46039f"
             ],
             [
              0.2222222222222222,
              "#7201a8"
             ],
             [
              0.3333333333333333,
              "#9c179e"
             ],
             [
              0.4444444444444444,
              "#bd3786"
             ],
             [
              0.5555555555555556,
              "#d8576b"
             ],
             [
              0.6666666666666666,
              "#ed7953"
             ],
             [
              0.7777777777777778,
              "#fb9f3a"
             ],
             [
              0.8888888888888888,
              "#fdca26"
             ],
             [
              1,
              "#f0f921"
             ]
            ],
            "type": "histogram2dcontour"
           }
          ],
          "mesh3d": [
           {
            "colorbar": {
             "outlinewidth": 0,
             "ticks": ""
            },
            "type": "mesh3d"
           }
          ],
          "parcoords": [
           {
            "line": {
             "colorbar": {
              "outlinewidth": 0,
              "ticks": ""
             }
            },
            "type": "parcoords"
           }
          ],
          "pie": [
           {
            "automargin": true,
            "type": "pie"
           }
          ],
          "scatter": [
           {
            "fillpattern": {
             "fillmode": "overlay",
             "size": 10,
             "solidity": 0.2
            },
            "type": "scatter"
           }
          ],
          "scatter3d": [
           {
            "line": {
             "colorbar": {
              "outlinewidth": 0,
              "ticks": ""
             }
            },
            "marker": {
             "colorbar": {
              "outlinewidth": 0,
              "ticks": ""
             }
            },
            "type": "scatter3d"
           }
          ],
          "scattercarpet": [
           {
            "marker": {
             "colorbar": {
              "outlinewidth": 0,
              "ticks": ""
             }
            },
            "type": "scattercarpet"
           }
          ],
          "scattergeo": [
           {
            "marker": {
             "colorbar": {
              "outlinewidth": 0,
              "ticks": ""
             }
            },
            "type": "scattergeo"
           }
          ],
          "scattergl": [
           {
            "marker": {
             "colorbar": {
              "outlinewidth": 0,
              "ticks": ""
             }
            },
            "type": "scattergl"
           }
          ],
          "scattermap": [
           {
            "marker": {
             "colorbar": {
              "outlinewidth": 0,
              "ticks": ""
             }
            },
            "type": "scattermap"
           }
          ],
          "scattermapbox": [
           {
            "marker": {
             "colorbar": {
              "outlinewidth": 0,
              "ticks": ""
             }
            },
            "type": "scattermapbox"
           }
          ],
          "scatterpolar": [
           {
            "marker": {
             "colorbar": {
              "outlinewidth": 0,
              "ticks": ""
             }
            },
            "type": "scatterpolar"
           }
          ],
          "scatterpolargl": [
           {
            "marker": {
             "colorbar": {
              "outlinewidth": 0,
              "ticks": ""
             }
            },
            "type": "scatterpolargl"
           }
          ],
          "scatterternary": [
           {
            "marker": {
             "colorbar": {
              "outlinewidth": 0,
              "ticks": ""
             }
            },
            "type": "scatterternary"
           }
          ],
          "surface": [
           {
            "colorbar": {
             "outlinewidth": 0,
             "ticks": ""
            },
            "colorscale": [
             [
              0,
              "#0d0887"
             ],
             [
              0.1111111111111111,
              "#46039f"
             ],
             [
              0.2222222222222222,
              "#7201a8"
             ],
             [
              0.3333333333333333,
              "#9c179e"
             ],
             [
              0.4444444444444444,
              "#bd3786"
             ],
             [
              0.5555555555555556,
              "#d8576b"
             ],
             [
              0.6666666666666666,
              "#ed7953"
             ],
             [
              0.7777777777777778,
              "#fb9f3a"
             ],
             [
              0.8888888888888888,
              "#fdca26"
             ],
             [
              1,
              "#f0f921"
             ]
            ],
            "type": "surface"
           }
          ],
          "table": [
           {
            "cells": {
             "fill": {
              "color": "#EBF0F8"
             },
             "line": {
              "color": "white"
             }
            },
            "header": {
             "fill": {
              "color": "#C8D4E3"
             },
             "line": {
              "color": "white"
             }
            },
            "type": "table"
           }
          ]
         },
         "layout": {
          "annotationdefaults": {
           "arrowcolor": "#2a3f5f",
           "arrowhead": 0,
           "arrowwidth": 1
          },
          "autotypenumbers": "strict",
          "coloraxis": {
           "colorbar": {
            "outlinewidth": 0,
            "ticks": ""
           }
          },
          "colorscale": {
           "diverging": [
            [
             0,
             "#8e0152"
            ],
            [
             0.1,
             "#c51b7d"
            ],
            [
             0.2,
             "#de77ae"
            ],
            [
             0.3,
             "#f1b6da"
            ],
            [
             0.4,
             "#fde0ef"
            ],
            [
             0.5,
             "#f7f7f7"
            ],
            [
             0.6,
             "#e6f5d0"
            ],
            [
             0.7,
             "#b8e186"
            ],
            [
             0.8,
             "#7fbc41"
            ],
            [
             0.9,
             "#4d9221"
            ],
            [
             1,
             "#276419"
            ]
           ],
           "sequential": [
            [
             0,
             "#0d0887"
            ],
            [
             0.1111111111111111,
             "#46039f"
            ],
            [
             0.2222222222222222,
             "#7201a8"
            ],
            [
             0.3333333333333333,
             "#9c179e"
            ],
            [
             0.4444444444444444,
             "#bd3786"
            ],
            [
             0.5555555555555556,
             "#d8576b"
            ],
            [
             0.6666666666666666,
             "#ed7953"
            ],
            [
             0.7777777777777778,
             "#fb9f3a"
            ],
            [
             0.8888888888888888,
             "#fdca26"
            ],
            [
             1,
             "#f0f921"
            ]
           ],
           "sequentialminus": [
            [
             0,
             "#0d0887"
            ],
            [
             0.1111111111111111,
             "#46039f"
            ],
            [
             0.2222222222222222,
             "#7201a8"
            ],
            [
             0.3333333333333333,
             "#9c179e"
            ],
            [
             0.4444444444444444,
             "#bd3786"
            ],
            [
             0.5555555555555556,
             "#d8576b"
            ],
            [
             0.6666666666666666,
             "#ed7953"
            ],
            [
             0.7777777777777778,
             "#fb9f3a"
            ],
            [
             0.8888888888888888,
             "#fdca26"
            ],
            [
             1,
             "#f0f921"
            ]
           ]
          },
          "colorway": [
           "#636efa",
           "#EF553B",
           "#00cc96",
           "#ab63fa",
           "#FFA15A",
           "#19d3f3",
           "#FF6692",
           "#B6E880",
           "#FF97FF",
           "#FECB52"
          ],
          "font": {
           "color": "#2a3f5f"
          },
          "geo": {
           "bgcolor": "white",
           "lakecolor": "white",
           "landcolor": "#E5ECF6",
           "showlakes": true,
           "showland": true,
           "subunitcolor": "white"
          },
          "hoverlabel": {
           "align": "left"
          },
          "hovermode": "closest",
          "mapbox": {
           "style": "light"
          },
          "paper_bgcolor": "white",
          "plot_bgcolor": "#E5ECF6",
          "polar": {
           "angularaxis": {
            "gridcolor": "white",
            "linecolor": "white",
            "ticks": ""
           },
           "bgcolor": "#E5ECF6",
           "radialaxis": {
            "gridcolor": "white",
            "linecolor": "white",
            "ticks": ""
           }
          },
          "scene": {
           "xaxis": {
            "backgroundcolor": "#E5ECF6",
            "gridcolor": "white",
            "gridwidth": 2,
            "linecolor": "white",
            "showbackground": true,
            "ticks": "",
            "zerolinecolor": "white"
           },
           "yaxis": {
            "backgroundcolor": "#E5ECF6",
            "gridcolor": "white",
            "gridwidth": 2,
            "linecolor": "white",
            "showbackground": true,
            "ticks": "",
            "zerolinecolor": "white"
           },
           "zaxis": {
            "backgroundcolor": "#E5ECF6",
            "gridcolor": "white",
            "gridwidth": 2,
            "linecolor": "white",
            "showbackground": true,
            "ticks": "",
            "zerolinecolor": "white"
           }
          },
          "shapedefaults": {
           "line": {
            "color": "#2a3f5f"
           }
          },
          "ternary": {
           "aaxis": {
            "gridcolor": "white",
            "linecolor": "white",
            "ticks": ""
           },
           "baxis": {
            "gridcolor": "white",
            "linecolor": "white",
            "ticks": ""
           },
           "bgcolor": "#E5ECF6",
           "caxis": {
            "gridcolor": "white",
            "linecolor": "white",
            "ticks": ""
           }
          },
          "title": {
           "x": 0.05
          },
          "xaxis": {
           "automargin": true,
           "gridcolor": "white",
           "linecolor": "white",
           "ticks": "",
           "title": {
            "standoff": 15
           },
           "zerolinecolor": "white",
           "zerolinewidth": 2
          },
          "yaxis": {
           "automargin": true,
           "gridcolor": "white",
           "linecolor": "white",
           "ticks": "",
           "title": {
            "standoff": 15
           },
           "zerolinecolor": "white",
           "zerolinewidth": 2
          }
         }
        },
        "title": {
         "font": {
          "size": 16
         },
         "text": "Tier Frequency by Battle Rating (Player: Ranol, Battles: 459)",
         "x": 0.5,
         "xanchor": "center"
        },
        "width": 1000,
        "xaxis": {
         "tickangle": 45,
         "tickmode": "linear",
         "ticktext": [
          "1.0",
          "1.3",
          "1.7",
          "2.3",
          "2.7",
          "3.3",
          "3.7",
          "4.0",
          "4.3",
          "4.7",
          "5.0",
          "5.3",
          "5.7",
          "6.7"
         ],
         "tickvals": [
          1,
          1.3,
          1.7,
          2.3,
          2.7,
          3.3,
          3.7,
          4,
          4.3,
          4.7,
          5,
          5.3,
          5.7,
          6.7
         ],
         "title": {
          "text": "Battle Rating"
         }
        },
        "yaxis": {
         "range": [
          0,
          100
         ],
         "title": {
          "text": "Percentage (%)"
         }
        }
       }
      },
      "text/html": [
       "<div>            <script src=\"https://cdnjs.cloudflare.com/ajax/libs/mathjax/2.7.5/MathJax.js?config=TeX-AMS-MML_SVG\"></script><script type=\"text/javascript\">if (window.MathJax && window.MathJax.Hub && window.MathJax.Hub.Config) {window.MathJax.Hub.Config({SVG: {font: \"STIX-Web\"}});}</script>                <script type=\"text/javascript\">window.PlotlyConfig = {MathJaxConfig: 'local'};</script>\n",
       "        <script charset=\"utf-8\" src=\"https://cdn.plot.ly/plotly-3.1.0.min.js\" integrity=\"sha256-Ei4740bWZhaUTQuD6q9yQlgVCMPBz6CZWhevDYPv93A=\" crossorigin=\"anonymous\"></script>                <div id=\"9380d9b5-f7b9-4a29-bde2-b839db884223\" class=\"plotly-graph-div\" style=\"height:600px; width:1000px;\"></div>            <script type=\"text/javascript\">                window.PLOTLYENV=window.PLOTLYENV || {};                                if (document.getElementById(\"9380d9b5-f7b9-4a29-bde2-b839db884223\")) {                    Plotly.newPlot(                        \"9380d9b5-f7b9-4a29-bde2-b839db884223\",                        [{\"customdata\":[[15,17],[0,29],[3,11],[20,30],[14,49],[14,19],[18,34],[16,83],[3,43],[11,20],[10,18],[3,5],[35,61],[27,40]],\"hovertemplate\":\"\\u003cb\\u003eDowntier\\u003c\\u002fb\\u003e\\u003cbr\\u003eBattle Rating: %{x}\\u003cbr\\u003ePercentage: %{y:.1f}%\\u003cbr\\u003eCount: %{customdata[0]}\\u003cbr\\u003eTotal Battles: %{customdata[1]}\\u003cbr\\u003e\\u003cextra\\u003e\\u003c\\u002fextra\\u003e\",\"marker\":{\"color\":\"#ff0000\"},\"name\":\"Downtier\",\"text\":[\"15\",\"\",\"3\",\"20\",\"14\",\"14\",\"18\",\"16\",\"3\",\"11\",\"10\",\"3\",\"35\",\"27\"],\"textfont\":{\"color\":\"white\",\"size\":9},\"textposition\":\"inside\",\"x\":[1.0,1.3,1.7,2.3,2.7,3.3,3.7,4.0,4.3,4.7,5.0,5.3,5.7,6.7],\"y\":[88.23529411764706,0.0,27.27272727272727,66.66666666666666,28.57142857142857,73.68421052631578,52.94117647058824,19.27710843373494,6.976744186046512,55.00000000000001,55.55555555555556,60.0,57.377049180327866,67.5],\"type\":\"bar\"},{\"customdata\":[[2,17],[28,29],[0,11],[8,30],[0,49],[3,19],[0,34],[56,83],[18,43],[0,20],[5,18],[1,5],[0,61],[0,40]],\"hovertemplate\":\"\\u003cb\\u003ePartial Downtier\\u003c\\u002fb\\u003e\\u003cbr\\u003eBattle Rating: %{x}\\u003cbr\\u003ePercentage: %{y:.1f}%\\u003cbr\\u003eCount: %{customdata[0]}\\u003cbr\\u003eTotal Battles: %{customdata[1]}\\u003cbr\\u003e\\u003cextra\\u003e\\u003c\\u002fextra\\u003e\",\"marker\":{\"color\":\"#FF5A00\"},\"name\":\"Partial Downtier\",\"text\":[\"2\",\"28\",\"\",\"8\",\"\",\"3\",\"\",\"56\",\"18\",\"\",\"5\",\"1\",\"\",\"\"],\"textfont\":{\"color\":\"white\",\"size\":9},\"textposition\":\"inside\",\"x\":[1.0,1.3,1.7,2.3,2.7,3.3,3.7,4.0,4.3,4.7,5.0,5.3,5.7,6.7],\"y\":[11.76470588235294,96.55172413793103,0.0,26.666666666666668,0.0,15.789473684210526,0.0,67.46987951807229,41.86046511627907,0.0,27.77777777777778,20.0,0.0,0.0],\"type\":\"bar\"},{\"customdata\":[[0,17],[0,29],[5,11],[2,30],[33,49],[0,19],[12,34],[0,83],[10,43],[1,20],[0,18],[0,5],[18,61],[5,40]],\"hovertemplate\":\"\\u003cb\\u003eBalanced\\u003c\\u002fb\\u003e\\u003cbr\\u003eBattle Rating: %{x}\\u003cbr\\u003ePercentage: %{y:.1f}%\\u003cbr\\u003eCount: %{customdata[0]}\\u003cbr\\u003eTotal Battles: %{customdata[1]}\\u003cbr\\u003e\\u003cextra\\u003e\\u003c\\u002fextra\\u003e\",\"marker\":{\"color\":\"#0000ff\"},\"name\":\"Balanced\",\"text\":[\"\",\"\",\"5\",\"2\",\"33\",\"\",\"12\",\"\",\"10\",\"1\",\"\",\"\",\"18\",\"5\"],\"textfont\":{\"color\":\"white\",\"size\":9},\"textposition\":\"inside\",\"x\":[1.0,1.3,1.7,2.3,2.7,3.3,3.7,4.0,4.3,4.7,5.0,5.3,5.7,6.7],\"y\":[0.0,0.0,45.45454545454545,6.666666666666667,67.3469387755102,0.0,35.294117647058826,0.0,23.25581395348837,5.0,0.0,0.0,29.508196721311474,12.5],\"type\":\"bar\"},{\"customdata\":[[0,17],[1,29],[3,11],[0,30],[2,49],[0,19],[2,34],[10,83],[0,43],[3,20],[1,18],[0,5],[4,61],[0,40]],\"hovertemplate\":\"\\u003cb\\u003ePartial Uptier\\u003c\\u002fb\\u003e\\u003cbr\\u003eBattle Rating: %{x}\\u003cbr\\u003ePercentage: %{y:.1f}%\\u003cbr\\u003eCount: %{customdata[0]}\\u003cbr\\u003eTotal Battles: %{customdata[1]}\\u003cbr\\u003e\\u003cextra\\u003e\\u003c\\u002fextra\\u003e\",\"marker\":{\"color\":\"#00C24E\"},\"name\":\"Partial Uptier\",\"text\":[\"\",\"1\",\"3\",\"\",\"2\",\"\",\"2\",\"10\",\"\",\"3\",\"1\",\"\",\"4\",\"\"],\"textfont\":{\"color\":\"white\",\"size\":9},\"textposition\":\"inside\",\"x\":[1.0,1.3,1.7,2.3,2.7,3.3,3.7,4.0,4.3,4.7,5.0,5.3,5.7,6.7],\"y\":[0.0,3.4482758620689653,27.27272727272727,0.0,4.081632653061225,0.0,5.88235294117647,12.048192771084338,0.0,15.0,5.555555555555555,0.0,6.557377049180328,0.0],\"type\":\"bar\"},{\"customdata\":[[0,17],[0,29],[0,11],[0,30],[0,49],[2,19],[2,34],[1,83],[12,43],[5,20],[2,18],[1,5],[4,61],[8,40]],\"hovertemplate\":\"\\u003cb\\u003eUptier\\u003c\\u002fb\\u003e\\u003cbr\\u003eBattle Rating: %{x}\\u003cbr\\u003ePercentage: %{y:.1f}%\\u003cbr\\u003eCount: %{customdata[0]}\\u003cbr\\u003eTotal Battles: %{customdata[1]}\\u003cbr\\u003e\\u003cextra\\u003e\\u003c\\u002fextra\\u003e\",\"marker\":{\"color\":\"#0A9200\"},\"name\":\"Uptier\",\"text\":[\"\",\"\",\"\",\"\",\"\",\"2\",\"2\",\"1\",\"12\",\"5\",\"2\",\"1\",\"4\",\"8\"],\"textfont\":{\"color\":\"white\",\"size\":9},\"textposition\":\"inside\",\"x\":[1.0,1.3,1.7,2.3,2.7,3.3,3.7,4.0,4.3,4.7,5.0,5.3,5.7,6.7],\"y\":[0.0,0.0,0.0,0.0,0.0,10.526315789473683,5.88235294117647,1.2048192771084338,27.906976744186046,25.0,11.11111111111111,20.0,6.557377049180328,20.0],\"type\":\"bar\"}],                        {\"template\":{\"data\":{\"histogram2dcontour\":[{\"type\":\"histogram2dcontour\",\"colorbar\":{\"outlinewidth\":0,\"ticks\":\"\"},\"colorscale\":[[0.0,\"#0d0887\"],[0.1111111111111111,\"#46039f\"],[0.2222222222222222,\"#7201a8\"],[0.3333333333333333,\"#9c179e\"],[0.4444444444444444,\"#bd3786\"],[0.5555555555555556,\"#d8576b\"],[0.6666666666666666,\"#ed7953\"],[0.7777777777777778,\"#fb9f3a\"],[0.8888888888888888,\"#fdca26\"],[1.0,\"#f0f921\"]]}],\"choropleth\":[{\"type\":\"choropleth\",\"colorbar\":{\"outlinewidth\":0,\"ticks\":\"\"}}],\"histogram2d\":[{\"type\":\"histogram2d\",\"colorbar\":{\"outlinewidth\":0,\"ticks\":\"\"},\"colorscale\":[[0.0,\"#0d0887\"],[0.1111111111111111,\"#46039f\"],[0.2222222222222222,\"#7201a8\"],[0.3333333333333333,\"#9c179e\"],[0.4444444444444444,\"#bd3786\"],[0.5555555555555556,\"#d8576b\"],[0.6666666666666666,\"#ed7953\"],[0.7777777777777778,\"#fb9f3a\"],[0.8888888888888888,\"#fdca26\"],[1.0,\"#f0f921\"]]}],\"heatmap\":[{\"type\":\"heatmap\",\"colorbar\":{\"outlinewidth\":0,\"ticks\":\"\"},\"colorscale\":[[0.0,\"#0d0887\"],[0.1111111111111111,\"#46039f\"],[0.2222222222222222,\"#7201a8\"],[0.3333333333333333,\"#9c179e\"],[0.4444444444444444,\"#bd3786\"],[0.5555555555555556,\"#d8576b\"],[0.6666666666666666,\"#ed7953\"],[0.7777777777777778,\"#fb9f3a\"],[0.8888888888888888,\"#fdca26\"],[1.0,\"#f0f921\"]]}],\"contourcarpet\":[{\"type\":\"contourcarpet\",\"colorbar\":{\"outlinewidth\":0,\"ticks\":\"\"}}],\"contour\":[{\"type\":\"contour\",\"colorbar\":{\"outlinewidth\":0,\"ticks\":\"\"},\"colorscale\":[[0.0,\"#0d0887\"],[0.1111111111111111,\"#46039f\"],[0.2222222222222222,\"#7201a8\"],[0.3333333333333333,\"#9c179e\"],[0.4444444444444444,\"#bd3786\"],[0.5555555555555556,\"#d8576b\"],[0.6666666666666666,\"#ed7953\"],[0.7777777777777778,\"#fb9f3a\"],[0.8888888888888888,\"#fdca26\"],[1.0,\"#f0f921\"]]}],\"surface\":[{\"type\":\"surface\",\"colorbar\":{\"outlinewidth\":0,\"ticks\":\"\"},\"colorscale\":[[0.0,\"#0d0887\"],[0.1111111111111111,\"#46039f\"],[0.2222222222222222,\"#7201a8\"],[0.3333333333333333,\"#9c179e\"],[0.4444444444444444,\"#bd3786\"],[0.5555555555555556,\"#d8576b\"],[0.6666666666666666,\"#ed7953\"],[0.7777777777777778,\"#fb9f3a\"],[0.8888888888888888,\"#fdca26\"],[1.0,\"#f0f921\"]]}],\"mesh3d\":[{\"type\":\"mesh3d\",\"colorbar\":{\"outlinewidth\":0,\"ticks\":\"\"}}],\"scatter\":[{\"fillpattern\":{\"fillmode\":\"overlay\",\"size\":10,\"solidity\":0.2},\"type\":\"scatter\"}],\"parcoords\":[{\"type\":\"parcoords\",\"line\":{\"colorbar\":{\"outlinewidth\":0,\"ticks\":\"\"}}}],\"scatterpolargl\":[{\"type\":\"scatterpolargl\",\"marker\":{\"colorbar\":{\"outlinewidth\":0,\"ticks\":\"\"}}}],\"bar\":[{\"error_x\":{\"color\":\"#2a3f5f\"},\"error_y\":{\"color\":\"#2a3f5f\"},\"marker\":{\"line\":{\"color\":\"#E5ECF6\",\"width\":0.5},\"pattern\":{\"fillmode\":\"overlay\",\"size\":10,\"solidity\":0.2}},\"type\":\"bar\"}],\"scattergeo\":[{\"type\":\"scattergeo\",\"marker\":{\"colorbar\":{\"outlinewidth\":0,\"ticks\":\"\"}}}],\"scatterpolar\":[{\"type\":\"scatterpolar\",\"marker\":{\"colorbar\":{\"outlinewidth\":0,\"ticks\":\"\"}}}],\"histogram\":[{\"marker\":{\"pattern\":{\"fillmode\":\"overlay\",\"size\":10,\"solidity\":0.2}},\"type\":\"histogram\"}],\"scattergl\":[{\"type\":\"scattergl\",\"marker\":{\"colorbar\":{\"outlinewidth\":0,\"ticks\":\"\"}}}],\"scatter3d\":[{\"type\":\"scatter3d\",\"line\":{\"colorbar\":{\"outlinewidth\":0,\"ticks\":\"\"}},\"marker\":{\"colorbar\":{\"outlinewidth\":0,\"ticks\":\"\"}}}],\"scattermap\":[{\"type\":\"scattermap\",\"marker\":{\"colorbar\":{\"outlinewidth\":0,\"ticks\":\"\"}}}],\"scattermapbox\":[{\"type\":\"scattermapbox\",\"marker\":{\"colorbar\":{\"outlinewidth\":0,\"ticks\":\"\"}}}],\"scatterternary\":[{\"type\":\"scatterternary\",\"marker\":{\"colorbar\":{\"outlinewidth\":0,\"ticks\":\"\"}}}],\"scattercarpet\":[{\"type\":\"scattercarpet\",\"marker\":{\"colorbar\":{\"outlinewidth\":0,\"ticks\":\"\"}}}],\"carpet\":[{\"aaxis\":{\"endlinecolor\":\"#2a3f5f\",\"gridcolor\":\"white\",\"linecolor\":\"white\",\"minorgridcolor\":\"white\",\"startlinecolor\":\"#2a3f5f\"},\"baxis\":{\"endlinecolor\":\"#2a3f5f\",\"gridcolor\":\"white\",\"linecolor\":\"white\",\"minorgridcolor\":\"white\",\"startlinecolor\":\"#2a3f5f\"},\"type\":\"carpet\"}],\"table\":[{\"cells\":{\"fill\":{\"color\":\"#EBF0F8\"},\"line\":{\"color\":\"white\"}},\"header\":{\"fill\":{\"color\":\"#C8D4E3\"},\"line\":{\"color\":\"white\"}},\"type\":\"table\"}],\"barpolar\":[{\"marker\":{\"line\":{\"color\":\"#E5ECF6\",\"width\":0.5},\"pattern\":{\"fillmode\":\"overlay\",\"size\":10,\"solidity\":0.2}},\"type\":\"barpolar\"}],\"pie\":[{\"automargin\":true,\"type\":\"pie\"}]},\"layout\":{\"autotypenumbers\":\"strict\",\"colorway\":[\"#636efa\",\"#EF553B\",\"#00cc96\",\"#ab63fa\",\"#FFA15A\",\"#19d3f3\",\"#FF6692\",\"#B6E880\",\"#FF97FF\",\"#FECB52\"],\"font\":{\"color\":\"#2a3f5f\"},\"hovermode\":\"closest\",\"hoverlabel\":{\"align\":\"left\"},\"paper_bgcolor\":\"white\",\"plot_bgcolor\":\"#E5ECF6\",\"polar\":{\"bgcolor\":\"#E5ECF6\",\"angularaxis\":{\"gridcolor\":\"white\",\"linecolor\":\"white\",\"ticks\":\"\"},\"radialaxis\":{\"gridcolor\":\"white\",\"linecolor\":\"white\",\"ticks\":\"\"}},\"ternary\":{\"bgcolor\":\"#E5ECF6\",\"aaxis\":{\"gridcolor\":\"white\",\"linecolor\":\"white\",\"ticks\":\"\"},\"baxis\":{\"gridcolor\":\"white\",\"linecolor\":\"white\",\"ticks\":\"\"},\"caxis\":{\"gridcolor\":\"white\",\"linecolor\":\"white\",\"ticks\":\"\"}},\"coloraxis\":{\"colorbar\":{\"outlinewidth\":0,\"ticks\":\"\"}},\"colorscale\":{\"sequential\":[[0.0,\"#0d0887\"],[0.1111111111111111,\"#46039f\"],[0.2222222222222222,\"#7201a8\"],[0.3333333333333333,\"#9c179e\"],[0.4444444444444444,\"#bd3786\"],[0.5555555555555556,\"#d8576b\"],[0.6666666666666666,\"#ed7953\"],[0.7777777777777778,\"#fb9f3a\"],[0.8888888888888888,\"#fdca26\"],[1.0,\"#f0f921\"]],\"sequentialminus\":[[0.0,\"#0d0887\"],[0.1111111111111111,\"#46039f\"],[0.2222222222222222,\"#7201a8\"],[0.3333333333333333,\"#9c179e\"],[0.4444444444444444,\"#bd3786\"],[0.5555555555555556,\"#d8576b\"],[0.6666666666666666,\"#ed7953\"],[0.7777777777777778,\"#fb9f3a\"],[0.8888888888888888,\"#fdca26\"],[1.0,\"#f0f921\"]],\"diverging\":[[0,\"#8e0152\"],[0.1,\"#c51b7d\"],[0.2,\"#de77ae\"],[0.3,\"#f1b6da\"],[0.4,\"#fde0ef\"],[0.5,\"#f7f7f7\"],[0.6,\"#e6f5d0\"],[0.7,\"#b8e186\"],[0.8,\"#7fbc41\"],[0.9,\"#4d9221\"],[1,\"#276419\"]]},\"xaxis\":{\"gridcolor\":\"white\",\"linecolor\":\"white\",\"ticks\":\"\",\"title\":{\"standoff\":15},\"zerolinecolor\":\"white\",\"automargin\":true,\"zerolinewidth\":2},\"yaxis\":{\"gridcolor\":\"white\",\"linecolor\":\"white\",\"ticks\":\"\",\"title\":{\"standoff\":15},\"zerolinecolor\":\"white\",\"automargin\":true,\"zerolinewidth\":2},\"scene\":{\"xaxis\":{\"backgroundcolor\":\"#E5ECF6\",\"gridcolor\":\"white\",\"linecolor\":\"white\",\"showbackground\":true,\"ticks\":\"\",\"zerolinecolor\":\"white\",\"gridwidth\":2},\"yaxis\":{\"backgroundcolor\":\"#E5ECF6\",\"gridcolor\":\"white\",\"linecolor\":\"white\",\"showbackground\":true,\"ticks\":\"\",\"zerolinecolor\":\"white\",\"gridwidth\":2},\"zaxis\":{\"backgroundcolor\":\"#E5ECF6\",\"gridcolor\":\"white\",\"linecolor\":\"white\",\"showbackground\":true,\"ticks\":\"\",\"zerolinecolor\":\"white\",\"gridwidth\":2}},\"shapedefaults\":{\"line\":{\"color\":\"#2a3f5f\"}},\"annotationdefaults\":{\"arrowcolor\":\"#2a3f5f\",\"arrowhead\":0,\"arrowwidth\":1},\"geo\":{\"bgcolor\":\"white\",\"landcolor\":\"#E5ECF6\",\"subunitcolor\":\"white\",\"showland\":true,\"showlakes\":true,\"lakecolor\":\"white\"},\"title\":{\"x\":0.05},\"mapbox\":{\"style\":\"light\"}}},\"title\":{\"font\":{\"size\":16},\"text\":\"Tier Frequency by Battle Rating (Player: Ranol, Battles: 459)\",\"x\":0.5,\"xanchor\":\"center\"},\"xaxis\":{\"title\":{\"text\":\"Battle Rating\"},\"tickmode\":\"linear\",\"tickangle\":45,\"tickvals\":[1.0,1.3,1.7,2.3,2.7,3.3,3.7,4.0,4.3,4.7,5.0,5.3,5.7,6.7],\"ticktext\":[\"1.0\",\"1.3\",\"1.7\",\"2.3\",\"2.7\",\"3.3\",\"3.7\",\"4.0\",\"4.3\",\"4.7\",\"5.0\",\"5.3\",\"5.7\",\"6.7\"]},\"yaxis\":{\"title\":{\"text\":\"Percentage (%)\"},\"range\":[0,100]},\"legend\":{\"orientation\":\"v\",\"yanchor\":\"top\",\"y\":1,\"xanchor\":\"left\",\"x\":1.02},\"margin\":{\"r\":150,\"b\":100},\"barmode\":\"stack\",\"width\":1000,\"height\":600,\"plot_bgcolor\":\"white\"},                        {\"responsive\": true}                    ).then(function(){\n",
       "                            \n",
       "var gd = document.getElementById('9380d9b5-f7b9-4a29-bde2-b839db884223');\n",
       "var x = new MutationObserver(function (mutations, observer) {{\n",
       "        var display = window.getComputedStyle(gd).display;\n",
       "        if (!display || display === 'none') {{\n",
       "            console.log([gd, 'removed!']);\n",
       "            Plotly.purge(gd);\n",
       "            observer.disconnect();\n",
       "        }}\n",
       "}});\n",
       "\n",
       "// Listen for the removal of the full notebook cells\n",
       "var notebookContainer = gd.closest('#notebook-container');\n",
       "if (notebookContainer) {{\n",
       "    x.observe(notebookContainer, {childList: true});\n",
       "}}\n",
       "\n",
       "// Listen for the clearing of the current output cell\n",
       "var outputEl = gd.closest('.output');\n",
       "if (outputEl) {{\n",
       "    x.observe(outputEl, {childList: true});\n",
       "}}\n",
       "\n",
       "                        })                };            </script>        </div>"
      ]
     },
     "metadata": {},
     "output_type": "display_data"
    }
   ],
   "source": [
    "create_tier_frequency_pie_chart(tier_df, player_name=config.player_name, country_filters=config.country_filters).show()\n",
    "create_tier_frequency_by_country_bar_chart(performance_df, tier_df, player_name=config.player_name, country_filters=config.country_filters).show()\n",
    "create_tier_frequency_by_br_bar_chart(performance_df, tier_df, player_name=config.player_name, country_filters=config.country_filters).show()"
   ]
  }
 ],
 "metadata": {
  "kernelspec": {
   "display_name": "venv",
   "language": "python",
   "name": "python3"
  },
  "language_info": {
   "codemirror_mode": {
    "name": "ipython",
    "version": 3
   },
   "file_extension": ".py",
   "mimetype": "text/x-python",
   "name": "python",
   "nbconvert_exporter": "python",
   "pygments_lexer": "ipython3",
   "version": "3.12.3"
  }
 },
 "nbformat": 4,
 "nbformat_minor": 5
}
