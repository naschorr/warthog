{
 "cells": [
  {
   "cell_type": "markdown",
   "id": "e5aaa48f",
   "metadata": {},
   "source": [
    "# Player Data Explorer\n",
    "\n",
    "This notebook provides interactive visualizations for exploring War Thunder player performance data. Make sure to run the `VehicleDataGrabber` launch option, and then the `ReplayDataGrabber - War Thunder` launch option. Check out the README for more information.\n",
    "\n",
    "Note that graphs can be explored interactively:\n",
    "- Zoom: Mouse wheel or zoom tools in toolbar\n",
    "- Pan: Click and drag\n",
    "- Filter: Click on legend items to show/hide data\n",
    "- Reset: Double-click to reset zoom\n",
    "- Details: Hover over nodes for extra information"
   ]
  },
  {
   "cell_type": "markdown",
   "id": "e1a3ef0a",
   "metadata": {},
   "source": [
    "## Setup"
   ]
  },
  {
   "cell_type": "markdown",
   "id": "0fa48cbd",
   "metadata": {},
   "source": [
    "Set up basic imports and pathing"
   ]
  },
  {
   "cell_type": "code",
   "execution_count": null,
   "id": "72a03a23",
   "metadata": {},
   "outputs": [],
   "source": [
    "# Import standard libraries\n",
    "import sys\n",
    "from pathlib import Path\n",
    "from typing import Any, Optional, Callable\n",
    "\n",
    "# Import third-party libraries\n",
    "import pandas as pd\n",
    "import numpy as np\n",
    "\n",
    "# Import Plotly and setup offline plotting\n",
    "import plotly.graph_objects as go\n",
    "import plotly.offline as pyo\n",
    "pyo.init_notebook_mode(connected=True)\n",
    "\n",
    "# Add the project root and src directories to Python path\n",
    "notebook_dir = Path.cwd()\n",
    "project_root = notebook_dir.parent.parent  # Go up one level from src to project root\n",
    "src_dir = notebook_dir  # Current directory is src\n",
    "\n",
    "# Add paths to sys.path if they're not already there\n",
    "for path in [str(project_root), str(src_dir)]:\n",
    "    if path not in sys.path:\n",
    "        sys.path.insert(0, path)\n",
    "\n",
    "print(f\"Project root: {project_root}\")\n",
    "print(f\"Source directory: {src_dir}\")\n",
    "print(f\"Current working directory: {Path.cwd()}\")"
   ]
  },
  {
   "cell_type": "markdown",
   "id": "9384891d",
   "metadata": {},
   "source": [
    "Import project libraries and initialize services"
   ]
  },
  {
   "cell_type": "code",
   "execution_count": null,
   "id": "ebc28dc8",
   "metadata": {},
   "outputs": [],
   "source": [
    "# Import project modules\n",
    "from src.common.configuration import get_config\n",
    "from src.common.factories import ServiceFactory\n",
    "from src.replay_data_explorer.services import DataLoaders\n",
    "from src.replay_data_explorer.services import GraphExporter\n",
    "\n",
    "# Initialize configuration\n",
    "config = get_config().replay_data_explorer_config\n",
    "\n",
    "# Initialize the data loader\n",
    "service_factory = ServiceFactory()\n",
    "replay_manager_service = service_factory.get_replay_manager_service()\n",
    "data_loaders = DataLoaders(replay_manager_service)\n",
    "graph_exporter = GraphExporter(graph_export_config=config.graph_export_config)\n",
    "\n",
    "# Import graph creation functions\n",
    "from src.replay_data_explorer.graphs import *"
   ]
  },
  {
   "cell_type": "markdown",
   "id": "2cc5e753",
   "metadata": {},
   "source": [
    "### Data Loading\n",
    "\n",
    "Load replay data and process it for analysis."
   ]
  },
  {
   "cell_type": "code",
   "execution_count": null,
   "id": "f42e47b3",
   "metadata": {},
   "outputs": [],
   "source": [
    "player_performance_df = data_loaders.get_player_performance_data(config.player_name, config.country_filters)\n",
    "global_performance_df = data_loaders.get_global_performance_data(config.country_filters)"
   ]
  },
  {
   "cell_type": "markdown",
   "id": "ffedb507",
   "metadata": {},
   "source": [
    "### Setup Graph Export"
   ]
  },
  {
   "cell_type": "code",
   "execution_count": null,
   "id": "20cee414",
   "metadata": {},
   "outputs": [],
   "source": [
    "_exportable_graphs: dict[str, go.Figure] = {}\n",
    "_exportable_graphs_deferred: dict[str, tuple[Callable[[list, dict], go.Figure], list, dict]] = {}\n",
    "\n",
    "def add_exportable_graph(graph: go.Figure, graph_name: str):\n",
    "    _exportable_graphs[graph_name] = graph\n",
    "\n",
    "def add_exportable_graph_deferred(graph_creator: Callable[[list, dict], go.Figure], *args, **kwargs):\n",
    "    graph_name = graph_creator.__name__.removeprefix(\"create_\").lower()\n",
    "    _exportable_graphs_deferred[graph_name] = (graph_creator, args, kwargs)"
   ]
  },
  {
   "cell_type": "markdown",
   "id": "4079032a",
   "metadata": {},
   "source": [
    "## Player Performance Analysis"
   ]
  },
  {
   "cell_type": "code",
   "execution_count": null,
   "id": "ed339f5d",
   "metadata": {},
   "outputs": [],
   "source": [
    "create_scatter_score_vs_br(player_performance_df, player_name=config.player_name, country_filters=config.country_filters).show()\n",
    "add_exportable_graph_deferred(create_scatter_score_vs_br, player_performance_df, player_name=\"Author\", country_filters=config.country_filters)\n",
    "\n",
    "create_bar_score_distribution(player_performance_df, player_name=config.player_name, country_filters=config.country_filters).show()\n",
    "create_player_score_heatmap_by_country_and_br(player_performance_df, player_name=config.player_name, country_filters=config.country_filters).show()\n",
    "create_heatmap_br_delta_by_country_and_br(player_performance_df, player_name=config.player_name, country_filters=config.country_filters).show()\n",
    "create_bar_score_vs_map(player_performance_df, player_name=config.player_name, country_filters=config.country_filters).show()"
   ]
  },
  {
   "cell_type": "markdown",
   "id": "c77286b3",
   "metadata": {},
   "source": [
    "## Global Performance Analysis"
   ]
  },
  {
   "cell_type": "code",
   "execution_count": null,
   "id": "c83676ef",
   "metadata": {},
   "outputs": [],
   "source": [
    "all_player_heatmap_score_by_country_and_br = create_all_player_heatmap_score_by_country_and_br(global_performance_df, author_name=config.player_name, country_filters=config.country_filters)\n",
    "add_exportable_graph(all_player_heatmap_score_by_country_and_br, \"all_player_heatmap_score_by_country_and_br\")\n",
    "all_player_heatmap_score_by_country_and_br.show()\n",
    "\n",
    "all_player_heatmap_premium_score_delta_by_country_and_br = create_all_player_heatmap_premium_score_delta_by_country_and_br(global_performance_df, author_name=config.player_name, country_filters=config.country_filters)\n",
    "add_exportable_graph(all_player_heatmap_premium_score_delta_by_country_and_br, \"all_player_heatmap_premium_score_delta_by_country_and_br\")\n",
    "all_player_heatmap_premium_score_delta_by_country_and_br.show()\n",
    "\n",
    "all_player_heatmap_br_delta_by_country_and_br = create_all_player_heatmap_br_delta_by_country_and_br(global_performance_df, author_name=config.player_name, country_filters=config.country_filters)\n",
    "add_exportable_graph(all_player_heatmap_br_delta_by_country_and_br, \"all_player_heatmap_br_delta_by_country_and_br\")\n",
    "all_player_heatmap_br_delta_by_country_and_br.show()\n",
    "\n",
    "all_player_heatmap_premium_br_delta_by_country_and_br = create_all_player_heatmap_premium_br_delta_by_country_and_br(global_performance_df, author_name=config.player_name, country_filters=config.country_filters)\n",
    "add_exportable_graph(all_player_heatmap_premium_br_delta_by_country_and_br, \"all_player_heatmap_premium_br_delta_by_country_and_br\")\n",
    "all_player_heatmap_premium_br_delta_by_country_and_br.show()"
   ]
  },
  {
   "cell_type": "markdown",
   "id": "74316413",
   "metadata": {},
   "source": [
    "## Tier Frequency Analysis"
   ]
  },
  {
   "cell_type": "code",
   "execution_count": null,
   "id": "54eb6d45",
   "metadata": {},
   "outputs": [],
   "source": [
    "create_bar_tier_distribution(player_performance_df, player_name=config.player_name, country_filters=config.country_filters).show()\n",
    "add_exportable_graph_deferred(create_bar_tier_distribution, player_performance_df, player_name=\"Author\", country_filters=config.country_filters)\n",
    "\n",
    "create_pie_tier_frequency(player_performance_df, player_name=config.player_name, country_filters=config.country_filters).show()\n",
    "add_exportable_graph_deferred(create_pie_tier_frequency, player_performance_df, player_name=\"Author\", country_filters=config.country_filters)\n",
    "\n",
    "create_bar_tier_frequency_vs_country(player_performance_df, player_name=config.player_name, country_filters=config.country_filters).show()\n",
    "add_exportable_graph_deferred(create_bar_tier_frequency_vs_country, player_performance_df, player_name=\"Author\", country_filters=config.country_filters)\n",
    "\n",
    "create_bar_tier_frequency_vs_br(player_performance_df, player_name=config.player_name, country_filters=config.country_filters).show()\n",
    "add_exportable_graph_deferred(create_bar_tier_frequency_vs_br, player_performance_df, player_name=\"Author\", country_filters=config.country_filters)"
   ]
  },
  {
   "cell_type": "markdown",
   "id": "cef81613",
   "metadata": {},
   "source": [
    "## Player Squad Performance"
   ]
  },
  {
   "cell_type": "code",
   "execution_count": null,
   "id": "e1e96385",
   "metadata": {},
   "outputs": [],
   "source": [
    "if config.player_name:\n",
    "    create_bar_squad_performance(global_performance_df, player_name=config.player_name, country_filters=config.country_filters).show()\n",
    "    add_exportable_graph_deferred(create_bar_squad_performance, global_performance_df, player_name=config.player_name, display_player_name=\"Author\", country_filters=config.country_filters)\n",
    "\n",
    "    create_bar_squad_win_rate(global_performance_df, player_name=config.player_name, country_filters=config.country_filters).show()\n",
    "    add_exportable_graph_deferred(create_bar_squad_win_rate, global_performance_df, player_name=config.player_name, display_player_name=\"Author\", country_filters=config.country_filters)\n",
    "\n",
    "    create_bar_squad_tier_distribution(global_performance_df, player_name=config.player_name, country_filters=config.country_filters).show()\n",
    "    add_exportable_graph_deferred(create_bar_squad_tier_distribution, global_performance_df, player_name=config.player_name, display_player_name=\"Author\", country_filters=config.country_filters)\n",
    "\n",
    "    create_bar_squad_br_delta(global_performance_df, player_name=config.player_name, country_filters=config.country_filters).show()\n",
    "    add_exportable_graph_deferred(create_bar_squad_br_delta, global_performance_df, player_name=config.player_name, display_player_name=\"Author\", country_filters=config.country_filters)\n",
    "else:\n",
    "    print(\"Skipping squad performance graphs as no player name is configured.\")"
   ]
  },
  {
   "cell_type": "markdown",
   "id": "4e30c091",
   "metadata": {},
   "source": [
    "## Perform Graph Export"
   ]
  },
  {
   "cell_type": "code",
   "execution_count": null,
   "id": "7a3ebb5e",
   "metadata": {},
   "outputs": [],
   "source": [
    "for graph_name, (graph_creator, args, kwargs) in _exportable_graphs_deferred.items():\n",
    "    graph_figure = graph_creator(*args, **kwargs)\n",
    "    print(f\"Exporting deferred graph: {graph_name}\")\n",
    "    graph_exporter.save_as_png(graph_figure, graph_name)\n",
    "\n",
    "for graph_name, graph_figure in _exportable_graphs.items():\n",
    "    print(f\"Exporting graph: {graph_name}\")\n",
    "    graph_exporter.save_as_png(graph_figure, graph_name)"
   ]
  }
 ],
 "metadata": {
  "kernelspec": {
   "display_name": "venv",
   "language": "python",
   "name": "python3"
  },
  "language_info": {
   "codemirror_mode": {
    "name": "ipython",
    "version": 3
   },
   "file_extension": ".py",
   "mimetype": "text/x-python",
   "name": "python",
   "nbconvert_exporter": "python",
   "pygments_lexer": "ipython3",
   "version": "3.12.3"
  }
 },
 "nbformat": 4,
 "nbformat_minor": 5
}
